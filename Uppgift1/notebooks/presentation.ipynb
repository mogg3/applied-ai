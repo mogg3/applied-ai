{
 "cells": [
  {
   "cell_type": "markdown",
   "id": "dd110f26",
   "metadata": {},
   "source": [
    "# Sara och Marcus Uppgift 1"
   ]
  },
  {
   "cell_type": "markdown",
   "id": "8c70d8a2",
   "metadata": {},
   "source": [
    "# 3.1 Kontinuerlig optimering"
   ]
  },
  {
   "cell_type": "code",
   "execution_count": null,
   "id": "3ff72f45",
   "metadata": {},
   "outputs": [],
   "source": []
  },
  {
   "cell_type": "markdown",
   "id": "5f1607c8",
   "metadata": {},
   "source": [
    "# 3.2 TSP datainsamling och preprocessing"
   ]
  },
  {
   "cell_type": "code",
   "execution_count": null,
   "id": "5aceda77",
   "metadata": {},
   "outputs": [],
   "source": [
    "from sko.ACA import ACA_TSP\n",
    "from math import sin, asin, cos, sqrt, atan2, radians\n",
    "import regex as re\n",
    "from selenium import webdriver\n",
    "from selenium.webdriver.common.keys import Keys\n",
    "import time\n",
    "import numpy as np\n",
    "\n",
    "\n",
    "def get_data():\n",
    "    # Scrapes the data \n",
    "    options = webdriver.ChromeOptions()\n",
    "    options.add_argument(\"headless\")\n",
    "    driver = webdriver.Chrome('./chromedriver', options = options)\n",
    "\n",
    "    driver.get(\"https://www.infoplease.com/world/geography/major-cities-latitude-longitude-and-corresponding-time-zones\")\n",
    "    elem = driver.find_element_by_id(\"A0001770\")\n",
    "    text = elem.text\n",
    "    driver.close()\n",
    "    return text\n",
    "\n",
    "def get_cities(data):\n",
    "    # Formats the data into a more convenient lookup table\n",
    "    rows = data.split('\\n')\n",
    "    cities = []\n",
    "    for row in rows[2:]:\n",
    "        city = re.findall('[A-Za-z].*, [A-Za-z]*', row)\n",
    "        latitude, longitude = re.findall('[0-9]{1,} [0-9]{1,} [SNWE]', row)\n",
    "        cities.append({'city': city, \n",
    "                       'latitude': latitude, \n",
    "                       'longitude': longitude})\n",
    "    return cities\n",
    "\n",
    "def to_degrees(city):\n",
    "    dms_to_deg = lambda deg, minutes, direction: (float(deg) + float(minutes)/60) * (-1 if direction in ['W', 'S'] else 1)\n",
    "    \n",
    "    latitude = city['latitude']\n",
    "    longitude = city['longitude']\n",
    "\n",
    "    lat = dms_to_deg(*re.split('[ ]', latitude))\n",
    "    long = dms_to_deg(*re.split('[ ]', longitude))\n",
    "\n",
    "    return radians(lat), radians(long)\n",
    "\n",
    "def calc_d(city1, city2):\n",
    "    # calculates the distance between two coordinates\n",
    "    lat1, lon1 = to_degrees(city1)\n",
    "    lat2, lon2 = to_degrees(city2)\n",
    "    \n",
    "    R = 6372.8 # km\n",
    "\n",
    "    dlon = lon2 - lon1\n",
    "    dlat = lat2 - lat1\n",
    "\n",
    "    a = (sin(dlat/2)**2) + (cos(lat1) * cos(lat2) * (sin(dlon/2)**2))\n",
    "    c = 2 * asin(sqrt(a)) \n",
    "    \n",
    "    distance = R * c\n",
    "    return distance # km\n",
    "\n",
    "def get_distance_matrix(cities):\n",
    "    # Generates a distance matrix from a list of cities with coordinates\n",
    "    index_matrix = [[(i, j) for j in range(len(cities))] for i in range(len(cities))]\n",
    "    distance_matrix = [[calc_d(cities[i_tup[0]], cities[i_tup[1]]) for i_tup in row] for row in index_matrix]\n",
    "    return np.array([np.array(row) for row in distance_matrix])\n",
    "\n",
    "def cal_total_distance(routine):\n",
    "    num_points, = routine.shape\n",
    "    return sum([distance_matrix[routine[i % num_points], routine[(i + 1) % num_points]] for i in range(num_points)])"
   ]
  },
  {
   "cell_type": "code",
   "execution_count": null,
   "id": "403d7b43",
   "metadata": {},
   "outputs": [],
   "source": [
    "data = get_data()\n",
    "cities = get_cities(data)\n",
    "distance_matrix = get_distance_matrix(cities)"
   ]
  },
  {
   "cell_type": "markdown",
   "id": "e258a57a",
   "metadata": {},
   "source": [
    "# 3.3 Baseline 1"
   ]
  },
  {
   "cell_type": "code",
   "execution_count": null,
   "id": "a285a423",
   "metadata": {},
   "outputs": [],
   "source": []
  },
  {
   "cell_type": "markdown",
   "id": "53af0de1",
   "metadata": {},
   "source": [
    "# 3.4 Baseline 2"
   ]
  },
  {
   "cell_type": "code",
   "execution_count": null,
   "id": "771df749",
   "metadata": {},
   "outputs": [],
   "source": []
  },
  {
   "cell_type": "markdown",
   "id": "3f049ac0",
   "metadata": {},
   "source": [
    "# 3.5 Baseline 3"
   ]
  },
  {
   "cell_type": "code",
   "execution_count": null,
   "id": "63188959",
   "metadata": {},
   "outputs": [],
   "source": [
    "from sko.GA import GA_TSP\n",
    "import multiprocessing as mp\n",
    "\n",
    "num_points = len(cities)\n",
    "size_pop = 50\n",
    "max_iter = 250\n",
    "\n",
    "ga_tsp = GA_TSP(func=cal_total_distance, n_dim=num_points, size_pop=size_pop, max_iter=max_iter, prob_mut=0.7)\n",
    "best_points, best_distance = ga_tsp.run()\n",
    "\n",
    "print(best_points, best_distance)"
   ]
  },
  {
   "cell_type": "markdown",
   "id": "2195ebb5",
   "metadata": {},
   "source": [
    "# 3.6 Ant Colony Optimization"
   ]
  },
  {
   "cell_type": "code",
   "execution_count": null,
   "id": "a478f2db",
   "metadata": {},
   "outputs": [],
   "source": [
    "# TODO Add path back to 0\n",
    "\n",
    "num_points = len(cities)\n",
    "size_pop = 50\n",
    "max_iter = 250\n",
    "\n",
    "start = time.time()\n",
    "aca = ACA_TSP(func=cal_total_distance, \n",
    "              n_dim=num_points,\n",
    "              size_pop=size_pop, max_iter=max_iter,\n",
    "              distance_matrix=distance_matrix)\n",
    "\n",
    "best_x, best_y = aca.run()\n",
    "stop = time.time()\n",
    "\n",
    "time_elapsed = stop-start\n",
    "\n",
    "result = {'routine': best_x, 'distance': best_y, 'time', time_elapsed, 'pop_size': size_pop, 'max_iter': max_iter, 'string': f'Routine: {best_x}\\n\\nDistance: {round(best_y)}km\\n\\nTime: {round(time_elapsed)} sec\\n\\nPopulation size: {size_pop}\\n\\nMax iterations: {max_iter}'}\n"
   ]
  }
 ],
 "metadata": {
  "kernelspec": {
   "display_name": "Python 3",
   "language": "python",
   "name": "python3"
  },
  "language_info": {
   "codemirror_mode": {
    "name": "ipython",
    "version": 3
   },
   "file_extension": ".py",
   "mimetype": "text/x-python",
   "name": "python",
   "nbconvert_exporter": "python",
   "pygments_lexer": "ipython3",
   "version": "3.7.10"
  }
 },
 "nbformat": 4,
 "nbformat_minor": 5
}
