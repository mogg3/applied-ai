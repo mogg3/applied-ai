{
 "cells": [
  {
   "cell_type": "markdown",
   "id": "dd110f26",
   "metadata": {},
   "source": [
    "# Sara och Marcus Uppgift 1"
   ]
  },
  {
   "cell_type": "markdown",
   "id": "8c70d8a2",
   "metadata": {},
   "source": [
    "# 3.1 Kontinuerlig optimering"
   ]
  },
  {
   "cell_type": "code",
   "execution_count": null,
   "id": "3ff72f45",
   "metadata": {},
   "outputs": [],
   "source": []
  },
  {
   "cell_type": "markdown",
   "id": "5f1607c8",
   "metadata": {},
   "source": [
    "# 3.2 TSP datainsamling och preprocessing"
   ]
  },
  {
   "cell_type": "code",
   "execution_count": 112,
   "id": "5aceda77",
   "metadata": {},
   "outputs": [],
   "source": [
    "from sko.ACA import ACA_TSP\n",
    "from math import sin, asin, cos, sqrt, atan2, radians\n",
    "import regex as re\n",
    "from selenium import webdriver\n",
    "from selenium.webdriver.common.keys import Keys\n",
    "import time\n",
    "import numpy as np\n",
    "import matplotlib.pyplot as plt\n",
    "\n",
    "\n",
    "def get_data():\n",
    "    # Scrapes the data \n",
    "    options = webdriver.ChromeOptions()\n",
    "    options.add_argument(\"headless\")\n",
    "    driver = webdriver.Chrome('./chromedriver', options = options)\n",
    "\n",
    "    driver.get(\"https://www.infoplease.com/world/geography/major-cities-latitude-longitude-and-corresponding-time-zones\")\n",
    "    elem = driver.find_element_by_id(\"A0001770\")\n",
    "    text = elem.text\n",
    "    driver.close()\n",
    "    return text\n",
    "\n",
    "def get_cities(data: str):\n",
    "    # Formats the data into a more convenient lookup table\n",
    "    rows = data.split('\\n')\n",
    "    cities = []\n",
    "    for row in rows[2:]:\n",
    "        city = re.findall('[A-Za-z]*, [A-Za-z]*', row)\n",
    "        print(city)\n",
    "        latitude, longitude = re.findall('[0-9]{1,} [0-9]{1,} [SNWE]', row)\n",
    "        cities.append({'city': city, \n",
    "                       'latitude': latitude, \n",
    "                       'longitude': longitude})\n",
    "    return cities\n",
    "\n",
    "def to_degrees(city):\n",
    "    # Converts the lat and long coordinates to decimal degrees, returns them in radians\n",
    "    dms_to_deg = lambda deg, minutes, direction: (float(deg) + float(minutes)/60) * (-1 if direction in ['W', 'S'] else 1)\n",
    "    \n",
    "    latitude = city['latitude']\n",
    "    longitude = city['longitude']\n",
    "\n",
    "    lat = dms_to_deg(*re.split('[ ]', latitude))\n",
    "    long = dms_to_deg(*re.split('[ ]', longitude))\n",
    "\n",
    "    return radians(lat), radians(long)\n",
    "\n",
    "def calc_d(city1, city2):\n",
    "    # calculates the distance between two coordinates\n",
    "    lat1, lon1 = to_degrees(city1)\n",
    "    lat2, lon2 = to_degrees(city2)\n",
    "    \n",
    "    R = 6372.8 # km\n",
    "\n",
    "    dlon = lon2 - lon1\n",
    "    dlat = lat2 - lat1\n",
    "\n",
    "    a = (sin(dlat/2)**2) + (cos(lat1) * cos(lat2) * (sin(dlon/2)**2))\n",
    "    c = 2 * asin(sqrt(a)) \n",
    "    \n",
    "    distance = R * c\n",
    "    return distance # km\n",
    "\n",
    "def get_distance_matrix(cities):\n",
    "    # Generates a distance matrix from a list of cities with coordinates\n",
    "    index_matrix = [[(i, j) for j in range(len(cities))] for i in range(len(cities))]\n",
    "    distance_matrix = [[calc_d(cities[i_tup[0]], cities[i_tup[1]]) for i_tup in row] for row in index_matrix]\n",
    "    return np.array([np.array(row) for row in distance_matrix])\n",
    "\n",
    "def cal_total_distance(routine) -> float:\n",
    "    # Calculates the total distance of a given routine\n",
    "    num_points, = routine.shape\n",
    "    return sum([distance_matrix[routine[i % num_points], routine[(i + 1) % num_points]] for i in range(num_points)])"
   ]
  },
  {
   "cell_type": "markdown",
   "id": "e258a57a",
   "metadata": {},
   "source": [
    "# 3.3 Baseline 1"
   ]
  },
  {
   "cell_type": "code",
   "execution_count": null,
   "id": "a285a423",
   "metadata": {},
   "outputs": [],
   "source": [
    "data = get_data()\n",
    "cities = get_cities(data)\n",
    "distance_matrix = get_distance_matrix(cities)"
   ]
  },
  {
   "cell_type": "code",
   "execution_count": 7,
   "id": "e947f338",
   "metadata": {},
   "outputs": [],
   "source": [
    "routines = [np.array([i for i in range(120)]) for j in range(100000)]\n",
    "for routine in routines:\n",
    "    np.random.shuffle(routine)\n",
    "\n",
    "distances = [cal_total_distance(routine) for routine in routines]"
   ]
  },
  {
   "cell_type": "code",
   "execution_count": 8,
   "id": "b9e1ac2b",
   "metadata": {},
   "outputs": [
    {
     "data": {
      "image/png": "[encoded data removed]",
      "text/plain": [
       "<Figure size 720x360 with 1 Axes>"
      ]
     },
     "metadata": {
      "needs_background": "light"
     },
     "output_type": "display_data"
    }
   ],
   "source": [
    "plt.figure(figsize=(10, 5))\n",
    "plt.hist(distances, bins = 30, edgecolor='black', linewidth=0.5)\n",
    "plt.show()"
   ]
  },
  {
   "cell_type": "markdown",
   "id": "53af0de1",
   "metadata": {},
   "source": [
    "# 3.4 Baseline 2"
   ]
  },
  {
   "cell_type": "code",
   "execution_count": null,
   "id": "771df749",
   "metadata": {},
   "outputs": [],
   "source": []
  },
  {
   "cell_type": "markdown",
   "id": "3f049ac0",
   "metadata": {},
   "source": [
    "# 3.5 Baseline 3"
   ]
  },
  {
   "cell_type": "code",
   "execution_count": 117,
   "id": "2d2f92c9",
   "metadata": {},
   "outputs": [],
   "source": [
    "def GA(setting: list):\n",
    "    max_iter = setting[0]\n",
    "    prob_mut = setting[1]\n",
    "    size_pop = setting[2]\n",
    "\n",
    "    ga_tsp = GA_TSP(func=cal_total_distance, n_dim=120, size_pop=size_pop, max_iter=max_iter, prob_mut=prob_mut)\n",
    "    best_points, best_distance = ga_tsp.run()\n",
    "    return best_points, best_distance"
   ]
  },
  {
   "cell_type": "code",
   "execution_count": 145,
   "id": "63188959",
   "metadata": {},
   "outputs": [],
   "source": [
    "import multiprocess\n",
    "import time\n",
    "import itertools\n",
    "from sko.GA import GA_TSP\n",
    "\n",
    "\n",
    "def run(setting: list):\n",
    "\n",
    "    max_iter, prob_mut, pop_size = setting[0], setting[1], setting[2]\n",
    "        \n",
    "    n_cores = multiprocessing.cpu_count()\n",
    "    \n",
    "    start_mp = time.time()\n",
    "    \n",
    "    pool = multiprocessing.Pool(processes = n_cores)\n",
    "    ncore_settings = [setting for i in range(n_cores)]\n",
    "    result = pool.map(GA, ncore_settings)\n",
    "    \n",
    "    best_mp = ()\n",
    "    \n",
    "    end_mp = time.time()\n",
    "\n",
    "    start_seq = time.time()\n",
    "    \n",
    "    best_seq = None\n",
    "\n",
    "    for i in range(n_cores):\n",
    "        best_x, best_y = GA(setting)\n",
    "        if best_seq == None:\n",
    "            best_seq = (best_x, best_y)\n",
    "        if best_y < best_seq[1]:\n",
    "            best_seq = (best_x, best_y)\n",
    "    \n",
    "    end_seq = time.time()\n",
    "    \n",
    "    mp_time = end_mp-start_mp\n",
    "    seq_time = end_seq-start_seq\n",
    "    \n",
    "    best_mp = best_seq\n",
    "    \n",
    "    print(f'\\nPopulation size: {pop_size}\\n\\nMax iterations: {max_iter} \\n\\nMutation probability: {prob_mut}\\n\\n---\\n\\nBest with running sequentially: \\nRoutine: {list(best_seq[0])} - Distance: {round(int(best_seq[1]))}km\\n\\nBest with multiprocessing:\\nRoutine: {list(best_mp[0])} - Distance: {round(int(best_mp[1]))}km\\n')\n",
    "    #print(f'With multiprocessing ({n_cores} cores) finished in {round(mp_time, 2)} seconds\\n')\n",
    "    #print(f'Without multiprocessing finished in {round(seq_time, 2)} seconds\\n')\n",
    "    print('-'*30)\n",
    "    "
   ]
  },
  {
   "cell_type": "code",
   "execution_count": null,
   "id": "86717edf",
   "metadata": {},
   "outputs": [],
   "source": [
    "data = get_data()\n",
    "cities = get_cities(data)\n",
    "distance_matrix = get_distance_matrix(cities)"
   ]
  },
  {
   "cell_type": "code",
   "execution_count": 146,
   "id": "39d3be04",
   "metadata": {
    "scrolled": true
   },
   "outputs": [
    {
     "name": "stdout",
     "output_type": "stream",
     "text": [
      "\n",
      "Population size: 40\n",
      "\n",
      "Max iterations: 100 \n",
      "\n",
      "Mutation probability: 0.001\n",
      "\n",
      "---\n",
      "\n",
      "Best with running sequentially: \n",
      "Routine: [79, 10, 54, 44, 27, 45, 49, 31, 50, 74, 98, 108, 51, 8, 96, 56, 17, 93, 77, 106, 78, 26, 99, 55, 104, 32, 48, 19, 81, 72, 113, 59, 80, 34, 36, 57, 101, 76, 25, 46, 83, 115, 86, 23, 47, 14, 84, 39, 105, 82, 33, 111, 9, 61, 21, 22, 117, 6, 37, 92, 52, 102, 110, 38, 43, 90, 100, 114, 89, 30, 53, 73, 28, 87, 4, 118, 20, 103, 60, 11, 71, 2, 95, 67, 62, 68, 18, 12, 16, 5, 63, 66, 119, 13, 40, 35, 7, 69, 112, 0, 91, 85, 1, 109, 65, 64, 88, 3, 116, 97, 75, 42, 70, 24, 15, 94, 29, 107, 41, 58] - Distance: 647451km\n",
      "\n",
      "Best with multiprocessing:\n",
      "Routine: [79, 10, 54, 44, 27, 45, 49, 31, 50, 74, 98, 108, 51, 8, 96, 56, 17, 93, 77, 106, 78, 26, 99, 55, 104, 32, 48, 19, 81, 72, 113, 59, 80, 34, 36, 57, 101, 76, 25, 46, 83, 115, 86, 23, 47, 14, 84, 39, 105, 82, 33, 111, 9, 61, 21, 22, 117, 6, 37, 92, 52, 102, 110, 38, 43, 90, 100, 114, 89, 30, 53, 73, 28, 87, 4, 118, 20, 103, 60, 11, 71, 2, 95, 67, 62, 68, 18, 12, 16, 5, 63, 66, 119, 13, 40, 35, 7, 69, 112, 0, 91, 85, 1, 109, 65, 64, 88, 3, 116, 97, 75, 42, 70, 24, 15, 94, 29, 107, 41, 58] - Distance: 647451km\n",
      "\n",
      "------------------------------\n",
      "\n",
      "Population size: 40\n",
      "\n",
      "Max iterations: 100 \n",
      "\n",
      "Mutation probability: 0.01\n",
      "\n",
      "---\n",
      "\n",
      "Best with running sequentially: \n",
      "Routine: [32, 62, 20, 94, 97, 11, 100, 109, 105, 115, 73, 79, 54, 107, 51, 7, 82, 87, 17, 95, 6, 22, 75, 48, 77, 78, 34, 46, 31, 103, 57, 74, 18, 83, 64, 91, 13, 43, 9, 70, 44, 0, 88, 47, 2, 42, 113, 55, 59, 52, 119, 50, 19, 99, 5, 90, 15, 41, 12, 114, 80, 118, 53, 67, 3, 68, 65, 102, 96, 27, 28, 69, 104, 92, 98, 30, 45, 71, 85, 84, 33, 24, 63, 111, 37, 8, 29, 58, 81, 4, 86, 110, 26, 93, 61, 23, 106, 66, 21, 14, 35, 1, 25, 76, 40, 56, 60, 101, 38, 72, 36, 16, 89, 108, 10, 116, 112, 39, 117, 49] - Distance: 583161km\n",
      "\n",
      "Best with multiprocessing:\n",
      "Routine: [32, 62, 20, 94, 97, 11, 100, 109, 105, 115, 73, 79, 54, 107, 51, 7, 82, 87, 17, 95, 6, 22, 75, 48, 77, 78, 34, 46, 31, 103, 57, 74, 18, 83, 64, 91, 13, 43, 9, 70, 44, 0, 88, 47, 2, 42, 113, 55, 59, 52, 119, 50, 19, 99, 5, 90, 15, 41, 12, 114, 80, 118, 53, 67, 3, 68, 65, 102, 96, 27, 28, 69, 104, 92, 98, 30, 45, 71, 85, 84, 33, 24, 63, 111, 37, 8, 29, 58, 81, 4, 86, 110, 26, 93, 61, 23, 106, 66, 21, 14, 35, 1, 25, 76, 40, 56, 60, 101, 38, 72, 36, 16, 89, 108, 10, 116, 112, 39, 117, 49] - Distance: 583161km\n",
      "\n",
      "------------------------------\n",
      "\n",
      "Population size: 40\n",
      "\n",
      "Max iterations: 100 \n",
      "\n",
      "Mutation probability: 0.05\n",
      "\n",
      "---\n",
      "\n",
      "Best with running sequentially: \n",
      "Routine: [119, 41, 83, 86, 111, 40, 59, 105, 104, 55, 109, 94, 108, 1, 73, 92, 80, 54, 96, 50, 67, 22, 21, 75, 42, 91, 61, 95, 24, 107, 85, 99, 23, 36, 115, 15, 98, 60, 19, 113, 102, 93, 70, 49, 43, 101, 103, 46, 62, 72, 8, 106, 56, 29, 26, 33, 79, 114, 71, 44, 12, 0, 89, 7, 20, 118, 51, 69, 37, 116, 88, 39, 64, 65, 77, 48, 97, 68, 66, 58, 76, 35, 53, 32, 74, 45, 57, 30, 16, 100, 38, 28, 17, 84, 27, 52, 18, 112, 10, 87, 82, 4, 47, 9, 2, 5, 31, 25, 3, 34, 110, 13, 14, 78, 6, 90, 11, 63, 81, 117] - Distance: 470642km\n",
      "\n",
      "Best with multiprocessing:\n",
      "Routine: [119, 41, 83, 86, 111, 40, 59, 105, 104, 55, 109, 94, 108, 1, 73, 92, 80, 54, 96, 50, 67, 22, 21, 75, 42, 91, 61, 95, 24, 107, 85, 99, 23, 36, 115, 15, 98, 60, 19, 113, 102, 93, 70, 49, 43, 101, 103, 46, 62, 72, 8, 106, 56, 29, 26, 33, 79, 114, 71, 44, 12, 0, 89, 7, 20, 118, 51, 69, 37, 116, 88, 39, 64, 65, 77, 48, 97, 68, 66, 58, 76, 35, 53, 32, 74, 45, 57, 30, 16, 100, 38, 28, 17, 84, 27, 52, 18, 112, 10, 87, 82, 4, 47, 9, 2, 5, 31, 25, 3, 34, 110, 13, 14, 78, 6, 90, 11, 63, 81, 117] - Distance: 470642km\n",
      "\n",
      "------------------------------\n"
     ]
    },
    {
     "name": "stderr",
     "output_type": "stream",
     "text": [
      "Process SpawnPoolWorker-220:\n",
      "Traceback (most recent call last):\n",
      "  File \"/Users/marcuseriksson/opt/anaconda3/lib/python3.8/multiprocessing/process.py\", line 315, in _bootstrap\n",
      "    self.run()\n",
      "  File \"/Users/marcuseriksson/opt/anaconda3/lib/python3.8/multiprocessing/process.py\", line 108, in run\n",
      "    self._target(*self._args, **self._kwargs)\n",
      "  File \"/Users/marcuseriksson/opt/anaconda3/lib/python3.8/multiprocessing/pool.py\", line 114, in worker\n",
      "    task = get()\n",
      "  File \"/Users/marcuseriksson/opt/anaconda3/lib/python3.8/multiprocessing/queues.py\", line 355, in get\n",
      "    with self._rlock:\n",
      "  File \"/Users/marcuseriksson/opt/anaconda3/lib/python3.8/multiprocessing/synchronize.py\", line 95, in __enter__\n",
      "    return self._semlock.__enter__()\n",
      "KeyboardInterrupt\n"
     ]
    },
    {
     "ename": "KeyboardInterrupt",
     "evalue": "",
     "output_type": "error",
     "traceback": [
      "\u001b[0;31m---------------------------------------------------------------------------\u001b[0m",
      "\u001b[0;31mKeyboardInterrupt\u001b[0m                         Traceback (most recent call last)",
      "\u001b[0;32m/var/folders/01/_wv7n9yj3gndbty36gzv6wk00000gn/T/ipykernel_43030/2780748763.py\u001b[0m in \u001b[0;36m<module>\u001b[0;34m\u001b[0m\n\u001b[1;32m      4\u001b[0m \u001b[0;34m\u001b[0m\u001b[0m\n\u001b[1;32m      5\u001b[0m \u001b[0;32mfor\u001b[0m \u001b[0msetting\u001b[0m \u001b[0;32min\u001b[0m \u001b[0mall_settings\u001b[0m\u001b[0;34m:\u001b[0m\u001b[0;34m\u001b[0m\u001b[0;34m\u001b[0m\u001b[0m\n\u001b[0;32m----> 6\u001b[0;31m     \u001b[0mrun\u001b[0m\u001b[0;34m(\u001b[0m\u001b[0msetting\u001b[0m\u001b[0;34m)\u001b[0m\u001b[0;34m\u001b[0m\u001b[0;34m\u001b[0m\u001b[0m\n\u001b[0m",
      "\u001b[0;32m/var/folders/01/_wv7n9yj3gndbty36gzv6wk00000gn/T/ipykernel_43030/3844124117.py\u001b[0m in \u001b[0;36mrun\u001b[0;34m(setting)\u001b[0m\n\u001b[1;32m     26\u001b[0m \u001b[0;34m\u001b[0m\u001b[0m\n\u001b[1;32m     27\u001b[0m     \u001b[0;32mfor\u001b[0m \u001b[0mi\u001b[0m \u001b[0;32min\u001b[0m \u001b[0mrange\u001b[0m\u001b[0;34m(\u001b[0m\u001b[0mn_cores\u001b[0m\u001b[0;34m)\u001b[0m\u001b[0;34m:\u001b[0m\u001b[0;34m\u001b[0m\u001b[0;34m\u001b[0m\u001b[0m\n\u001b[0;32m---> 28\u001b[0;31m         \u001b[0mbest_x\u001b[0m\u001b[0;34m,\u001b[0m \u001b[0mbest_y\u001b[0m \u001b[0;34m=\u001b[0m \u001b[0mGA\u001b[0m\u001b[0;34m(\u001b[0m\u001b[0msetting\u001b[0m\u001b[0;34m)\u001b[0m\u001b[0;34m\u001b[0m\u001b[0;34m\u001b[0m\u001b[0m\n\u001b[0m\u001b[1;32m     29\u001b[0m         \u001b[0;32mif\u001b[0m \u001b[0mbest_seq\u001b[0m \u001b[0;34m==\u001b[0m \u001b[0;32mNone\u001b[0m\u001b[0;34m:\u001b[0m\u001b[0;34m\u001b[0m\u001b[0;34m\u001b[0m\u001b[0m\n\u001b[1;32m     30\u001b[0m             \u001b[0mbest_seq\u001b[0m \u001b[0;34m=\u001b[0m \u001b[0;34m(\u001b[0m\u001b[0mbest_x\u001b[0m\u001b[0;34m,\u001b[0m \u001b[0mbest_y\u001b[0m\u001b[0;34m)\u001b[0m\u001b[0;34m\u001b[0m\u001b[0;34m\u001b[0m\u001b[0m\n",
      "\u001b[0;32m/var/folders/01/_wv7n9yj3gndbty36gzv6wk00000gn/T/ipykernel_43030/2225167516.py\u001b[0m in \u001b[0;36mGA\u001b[0;34m(setting)\u001b[0m\n\u001b[1;32m      5\u001b[0m \u001b[0;34m\u001b[0m\u001b[0m\n\u001b[1;32m      6\u001b[0m     \u001b[0mga_tsp\u001b[0m \u001b[0;34m=\u001b[0m \u001b[0mGA_TSP\u001b[0m\u001b[0;34m(\u001b[0m\u001b[0mfunc\u001b[0m\u001b[0;34m=\u001b[0m\u001b[0mcal_total_distance\u001b[0m\u001b[0;34m,\u001b[0m \u001b[0mn_dim\u001b[0m\u001b[0;34m=\u001b[0m\u001b[0;36m120\u001b[0m\u001b[0;34m,\u001b[0m \u001b[0msize_pop\u001b[0m\u001b[0;34m=\u001b[0m\u001b[0msize_pop\u001b[0m\u001b[0;34m,\u001b[0m \u001b[0mmax_iter\u001b[0m\u001b[0;34m=\u001b[0m\u001b[0mmax_iter\u001b[0m\u001b[0;34m,\u001b[0m \u001b[0mprob_mut\u001b[0m\u001b[0;34m=\u001b[0m\u001b[0mprob_mut\u001b[0m\u001b[0;34m)\u001b[0m\u001b[0;34m\u001b[0m\u001b[0;34m\u001b[0m\u001b[0m\n\u001b[0;32m----> 7\u001b[0;31m     \u001b[0mbest_points\u001b[0m\u001b[0;34m,\u001b[0m \u001b[0mbest_distance\u001b[0m \u001b[0;34m=\u001b[0m \u001b[0mga_tsp\u001b[0m\u001b[0;34m.\u001b[0m\u001b[0mrun\u001b[0m\u001b[0;34m(\u001b[0m\u001b[0;34m)\u001b[0m\u001b[0;34m\u001b[0m\u001b[0;34m\u001b[0m\u001b[0m\n\u001b[0m\u001b[1;32m      8\u001b[0m     \u001b[0;32mreturn\u001b[0m \u001b[0mbest_points\u001b[0m\u001b[0;34m,\u001b[0m \u001b[0mbest_distance\u001b[0m\u001b[0;34m\u001b[0m\u001b[0;34m\u001b[0m\u001b[0m\n",
      "\u001b[0;32m~/opt/anaconda3/lib/python3.8/site-packages/sko/GA.py\u001b[0m in \u001b[0;36mrun\u001b[0;34m(self, max_iter)\u001b[0m\n\u001b[1;32m    305\u001b[0m             \u001b[0mself\u001b[0m\u001b[0;34m.\u001b[0m\u001b[0mranking\u001b[0m\u001b[0;34m(\u001b[0m\u001b[0;34m)\u001b[0m\u001b[0;34m\u001b[0m\u001b[0;34m\u001b[0m\u001b[0m\n\u001b[1;32m    306\u001b[0m             \u001b[0mself\u001b[0m\u001b[0;34m.\u001b[0m\u001b[0mselection\u001b[0m\u001b[0;34m(\u001b[0m\u001b[0;34m)\u001b[0m\u001b[0;34m\u001b[0m\u001b[0;34m\u001b[0m\u001b[0m\n\u001b[0;32m--> 307\u001b[0;31m             \u001b[0mself\u001b[0m\u001b[0;34m.\u001b[0m\u001b[0mcrossover\u001b[0m\u001b[0;34m(\u001b[0m\u001b[0;34m)\u001b[0m\u001b[0;34m\u001b[0m\u001b[0;34m\u001b[0m\u001b[0m\n\u001b[0m\u001b[1;32m    308\u001b[0m             \u001b[0mself\u001b[0m\u001b[0;34m.\u001b[0m\u001b[0mmutation\u001b[0m\u001b[0;34m(\u001b[0m\u001b[0;34m)\u001b[0m\u001b[0;34m\u001b[0m\u001b[0;34m\u001b[0m\u001b[0m\n\u001b[1;32m    309\u001b[0m \u001b[0;34m\u001b[0m\u001b[0m\n",
      "\u001b[0;32m~/opt/anaconda3/lib/python3.8/site-packages/sko/operators/crossover.py\u001b[0m in \u001b[0;36mcrossover_pmx\u001b[0;34m(self)\u001b[0m\n\u001b[1;32m     82\u001b[0m             \u001b[0mChrom2\u001b[0m\u001b[0;34m[\u001b[0m\u001b[0mj\u001b[0m\u001b[0;34m]\u001b[0m\u001b[0;34m,\u001b[0m \u001b[0mChrom2\u001b[0m\u001b[0;34m[\u001b[0m\u001b[0mpos2\u001b[0m\u001b[0;34m]\u001b[0m \u001b[0;34m=\u001b[0m \u001b[0mChrom2\u001b[0m\u001b[0;34m[\u001b[0m\u001b[0mpos2\u001b[0m\u001b[0;34m]\u001b[0m\u001b[0;34m,\u001b[0m \u001b[0mChrom2\u001b[0m\u001b[0;34m[\u001b[0m\u001b[0mj\u001b[0m\u001b[0;34m]\u001b[0m\u001b[0;34m\u001b[0m\u001b[0;34m\u001b[0m\u001b[0m\n\u001b[1;32m     83\u001b[0m             \u001b[0mpos1_recorder\u001b[0m\u001b[0;34m[\u001b[0m\u001b[0mvalue1\u001b[0m\u001b[0;34m]\u001b[0m\u001b[0;34m,\u001b[0m \u001b[0mpos1_recorder\u001b[0m\u001b[0;34m[\u001b[0m\u001b[0mvalue2\u001b[0m\u001b[0;34m]\u001b[0m \u001b[0;34m=\u001b[0m \u001b[0mpos1\u001b[0m\u001b[0;34m,\u001b[0m \u001b[0mj\u001b[0m\u001b[0;34m\u001b[0m\u001b[0;34m\u001b[0m\u001b[0m\n\u001b[0;32m---> 84\u001b[0;31m             \u001b[0mpos2_recorder\u001b[0m\u001b[0;34m[\u001b[0m\u001b[0mvalue1\u001b[0m\u001b[0;34m]\u001b[0m\u001b[0;34m,\u001b[0m \u001b[0mpos2_recorder\u001b[0m\u001b[0;34m[\u001b[0m\u001b[0mvalue2\u001b[0m\u001b[0;34m]\u001b[0m \u001b[0;34m=\u001b[0m \u001b[0mj\u001b[0m\u001b[0;34m,\u001b[0m \u001b[0mpos2\u001b[0m\u001b[0;34m\u001b[0m\u001b[0;34m\u001b[0m\u001b[0m\n\u001b[0m\u001b[1;32m     85\u001b[0m \u001b[0;34m\u001b[0m\u001b[0m\n\u001b[1;32m     86\u001b[0m         \u001b[0mself\u001b[0m\u001b[0;34m.\u001b[0m\u001b[0mChrom\u001b[0m\u001b[0;34m[\u001b[0m\u001b[0mi\u001b[0m\u001b[0;34m]\u001b[0m\u001b[0;34m,\u001b[0m \u001b[0mself\u001b[0m\u001b[0;34m.\u001b[0m\u001b[0mChrom\u001b[0m\u001b[0;34m[\u001b[0m\u001b[0mi\u001b[0m \u001b[0;34m+\u001b[0m \u001b[0;36m1\u001b[0m\u001b[0;34m]\u001b[0m \u001b[0;34m=\u001b[0m \u001b[0mChrom1\u001b[0m\u001b[0;34m,\u001b[0m \u001b[0mChrom2\u001b[0m\u001b[0;34m\u001b[0m\u001b[0;34m\u001b[0m\u001b[0m\n",
      "\u001b[0;31mKeyboardInterrupt\u001b[0m: "
     ]
    }
   ],
   "source": [
    "all_settings = list(itertools.product([100, 500, 1000], [0.001, 0.01, 0.05]))\n",
    "all_settings = list(map(list, all_settings))\n",
    "all_settings = [setting + [40] for setting in all_settings]\n",
    "\n",
    "for setting in all_settings:\n",
    "    run(setting)"
   ]
  },
  {
   "cell_type": "markdown",
   "id": "2195ebb5",
   "metadata": {},
   "source": [
    "# 3.6 Ant Colony Optimization"
   ]
  },
  {
   "cell_type": "code",
   "execution_count": 17,
   "id": "35cb0aae",
   "metadata": {},
   "outputs": [],
   "source": [
    "data = get_data()\n",
    "cities = get_cities(data)\n",
    "distance_matrix = get_distance_matrix(cities)"
   ]
  },
  {
   "cell_type": "code",
   "execution_count": null,
   "id": "a478f2db",
   "metadata": {
    "scrolled": false
   },
   "outputs": [],
   "source": [
    "num_points = len(cities)\n",
    "size_pop = 50\n",
    "max_iters = [100, 250, 500]\n",
    "\n",
    "for max_iter in max_iters:\n",
    "    start = time.time()\n",
    "    aca = ACA_TSP(func=cal_total_distance, \n",
    "                  n_dim=num_points,\n",
    "                  size_pop=size_pop, max_iter=max_iter,\n",
    "                  distance_matrix=distance_matrix)\n",
    "\n",
    "    best_x, best_y = aca.run()\n",
    "    stop = time.time()\n",
    "\n",
    "    time_elapsed = stop-start\n",
    "    print(f'\\nRoutine: {best_x}\\n\\nDistance: {round(best_y)}km\\n\\nTime: {round(time_elapsed/60, 2)} min\\n\\nPopulation size: {size_pop}\\n\\nMax iterations: {max_iter}\\n')\n",
    "    print('-'*20)"
   ]
  }
 ],
 "metadata": {
  "kernelspec": {
   "display_name": "Python 3 (ipykernel)",
   "language": "python",
   "name": "python3"
  },
  "language_info": {
   "codemirror_mode": {
    "name": "ipython",
    "version": 3
   },
   "file_extension": ".py",
   "mimetype": "text/x-python",
   "name": "python",
   "nbconvert_exporter": "python",
   "pygments_lexer": "ipython3",
   "version": "3.8.5"
  }
 },
 "nbformat": 4,
 "nbformat_minor": 5
}
