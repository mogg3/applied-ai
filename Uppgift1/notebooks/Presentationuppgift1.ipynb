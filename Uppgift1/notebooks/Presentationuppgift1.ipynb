{
 "cells": [
  {
   "cell_type": "markdown",
   "id": "dd110f26",
   "metadata": {},
   "source": [
    "# Sara och Marcus Uppgift 1"
   ]
  },
  {
   "cell_type": "markdown",
   "id": "8c70d8a2",
   "metadata": {},
   "source": [
    "# 3.1 Kontinuerlig optimering"
   ]
  },
  {
   "cell_type": "code",
   "execution_count": null,
   "id": "3ff72f45",
   "metadata": {},
   "outputs": [],
   "source": []
  },
  {
   "cell_type": "markdown",
   "id": "5f1607c8",
   "metadata": {},
   "source": [
    "# 3.2 TSP datainsamling och preprocessing"
   ]
  },
  {
   "cell_type": "code",
   "execution_count": null,
   "id": "5aceda77",
   "metadata": {},
   "outputs": [],
   "source": [
    "from sko.ACA import ACA_TSP\n",
    "from math import sin, asin, cos, sqrt, atan2, radians\n",
    "import regex as re\n",
    "from selenium import webdriver\n",
    "from selenium.webdriver.common.keys import Keys\n",
    "import time\n",
    "import numpy as np\n",
    "import matplotlib.pyplot as plt\n",
    "\n",
    "\n",
    "def get_data():\n",
    "    # Scrapes the data \n",
    "    options = webdriver.ChromeOptions()\n",
    "    options.add_argument(\"headless\")\n",
    "    driver = webdriver.Chrome('./chromedriver', options = options)\n",
    "\n",
    "    driver.get(\"https://www.infoplease.com/world/geography/major-cities-latitude-longitude-and-corresponding-time-zones\")\n",
    "    elem = driver.find_element_by_id(\"A0001770\")\n",
    "    text = elem.text\n",
    "    driver.close()\n",
    "    return text\n",
    "\n",
    "def get_cities(data: str):\n",
    "    # Formats the data into a more convenient lookup table\n",
    "    rows = data.split('\\n')\n",
    "    cities = []\n",
    "    for row in rows[2:]:\n",
    "        city = re.findall('[A-Za-z].*, [A-Za-z]*', row)\n",
    "        latitude, longitude = re.findall('[0-9]{1,} [0-9]{1,} [SNWE]', row)\n",
    "        cities.append({'city': city, \n",
    "                       'latitude': latitude, \n",
    "                       'longitude': longitude})\n",
    "    return cities\n",
    "\n",
    "def to_degrees(city):\n",
    "    # Converts the lat and long coordinates to decimal degrees, returns them in radians\n",
    "    dms_to_deg = lambda deg, minutes, direction: (float(deg) + float(minutes)/60) * (-1 if direction in ['W', 'S'] else 1)\n",
    "    \n",
    "    latitude = city['latitude']\n",
    "    longitude = city['longitude']\n",
    "\n",
    "    lat = dms_to_deg(*re.split('[ ]', latitude))\n",
    "    long = dms_to_deg(*re.split('[ ]', longitude))\n",
    "\n",
    "    return radians(lat), radians(long)\n",
    "\n",
    "def calc_d(city1, city2):\n",
    "    # calculates the distance between two coordinates\n",
    "    lat1, lon1 = to_degrees(city1)\n",
    "    lat2, lon2 = to_degrees(city2)\n",
    "    \n",
    "    R = 6372.8 # km\n",
    "\n",
    "    dlon = lon2 - lon1\n",
    "    dlat = lat2 - lat1\n",
    "\n",
    "    a = (sin(dlat/2)**2) + (cos(lat1) * cos(lat2) * (sin(dlon/2)**2))\n",
    "    c = 2 * asin(sqrt(a)) \n",
    "    \n",
    "    distance = R * c\n",
    "    return distance # km\n",
    "\n",
    "def get_distance_matrix(cities):\n",
    "    # Generates a distance matrix from a list of cities with coordinates\n",
    "    index_matrix = [[(i, j) for j in range(len(cities))] for i in range(len(cities))]\n",
    "    distance_matrix = [[calc_d(cities[i_tup[0]], cities[i_tup[1]]) for i_tup in row] for row in index_matrix]\n",
    "    return np.array([np.array(row) for row in distance_matrix])\n",
    "\n",
    "def cal_total_distance(routine) -> float:\n",
    "    # Calculates the total distance of a given routine\n",
    "    num_points, = routine.shape\n",
    "    return sum([distance_matrix[routine[i % num_points], routine[(i + 1) % num_points]] for i in range(num_points)])"
   ]
  },
  {
   "cell_type": "markdown",
   "id": "e258a57a",
   "metadata": {},
   "source": [
    "# 3.3 Baseline 1"
   ]
  },
  {
   "cell_type": "code",
   "execution_count": null,
   "id": "a285a423",
   "metadata": {},
   "outputs": [],
   "source": [
    "data = get_data()\n",
    "cities = get_cities(data)\n",
    "distance_matrix = get_distance_matrix(cities)"
   ]
  },
  {
   "cell_type": "code",
   "execution_count": null,
   "id": "86fd1ca5",
   "metadata": {},
   "outputs": [],
   "source": [
    "routines = [np.array([i for i in range(120)]) for j in range(100000)]\n",
    "for routine in routines:\n",
    "    np.random.shuffle(routine)\n",
    "\n",
    "distances = [cal_total_distance(routine) for routine in routines]"
   ]
  },
  {
   "cell_type": "code",
   "execution_count": 119,
   "id": "6b24d037",
   "metadata": {},
   "outputs": [
    {
     "data": {
      "image/png": "[encoded data removed]",
      "text/plain": [
       "<Figure size 720x360 with 1 Axes>"
      ]
     },
     "metadata": {
      "needs_background": "light"
     },
     "output_type": "display_data"
    }
   ],
   "source": [
    "plt.figure(figsize=(10, 5))\n",
    "plt.hist(distances, bins = 30, edgecolor='black', linewidth=0.5)\n",
    "plt.show()"
   ]
  },
  {
   "cell_type": "markdown",
   "id": "53af0de1",
   "metadata": {},
   "source": [
    "# 3.4 Baseline 2"
   ]
  },
  {
   "cell_type": "code",
   "execution_count": null,
   "id": "771df749",
   "metadata": {},
   "outputs": [],
   "source": []
  },
  {
   "cell_type": "markdown",
   "id": "3f049ac0",
   "metadata": {},
   "source": [
    "# 3.5 Baseline 3"
   ]
  },
  {
   "cell_type": "code",
   "execution_count": 148,
   "id": "63188959",
   "metadata": {},
   "outputs": [],
   "source": [
    "import multiprocessing\n",
    "import time\n",
    "import itertools\n",
    "from sko.GA import GA_TSP\n",
    "\n",
    "\n",
    "def GA(setting: list):\n",
    "    max_iter = setting[0]\n",
    "    prob_mut = setting[1]\n",
    "    size_pop = setting[2]\n",
    "    \n",
    "    ga_tsp = GA_TSP(func=cal_total_distance, n_dim=120, size_pop=size_pop, max_iter=max_iter, prob_mut=prob_mut)\n",
    "    best_points, best_distance = ga_tsp.run()\n",
    "    return best_points, best_distance\n",
    "\n",
    "def run(setting: list):\n",
    "    max_iter = setting[0]\n",
    "    prob_mut = setting[1]\n",
    "    pop_size = setting[2]\n",
    "    \n",
    "    setting.append(pop_size)\n",
    "    \n",
    "    n_cores = multiprocessing.cpu_count()\n",
    "    \n",
    "    start_mp = time.time()\n",
    "    \n",
    "    pool = multiprocessing.Pool(processes = n_cores)\n",
    "    ncore_settings = [setting for i in range(n_cores)]\n",
    "    result = pool.map(GA, ncore_settings)\n",
    "    \n",
    "    end_mp = time.time()\n",
    "\n",
    "    start_seq = time.time()\n",
    "\n",
    "    for i in range(n_cores):\n",
    "        best_x, best_y = GA(setting)\n",
    "    \n",
    "    end_seq = time.time()\n",
    "\n",
    "    mp_time = end_mp-start_mp\n",
    "    seq_time = end_seq-start_seq\n",
    "    \n",
    "    print(f'\\nRoutine: {list(best_x)}\\n\\nDistance: {round(int(best_y))}km\\n\\nPopulation size: {pop_size}\\n\\nMax iterations: {max_iter} \\n\\nMutation probability: {prob_mut}\\n')\n",
    "    print(f'With multiprocessing ({n_cores} cores) finished in {round(mp_time, 2)} seconds\\n')\n",
    "    print(f'Without multiprocessing finished in {round(seq_time, 2)} seconds\\n')\n",
    "    print('-'*30)\n",
    "    "
   ]
  },
  {
   "cell_type": "code",
   "execution_count": 121,
   "id": "86717edf",
   "metadata": {},
   "outputs": [
    {
     "name": "stderr",
     "output_type": "stream",
     "text": [
      "/Users/marcuseriksson/opt/anaconda3/envs/tf/lib/python3.7/site-packages/ipykernel_launcher.py:15: DeprecationWarning: executable_path has been deprecated, please pass in a Service object\n",
      "  from ipykernel import kernelapp as app\n",
      "/Users/marcuseriksson/opt/anaconda3/envs/tf/lib/python3.7/site-packages/ipykernel_launcher.py:18: DeprecationWarning: find_element_by_* commands are deprecated. Please use find_element() instead\n"
     ]
    }
   ],
   "source": [
    "data = get_data()\n",
    "cities = get_cities(data)\n",
    "distance_matrix = get_distance_matrix(cities)"
   ]
  },
  {
   "cell_type": "code",
   "execution_count": null,
   "id": "39d3be04",
   "metadata": {
    "scrolled": true
   },
   "outputs": [
    {
     "name": "stdout",
     "output_type": "stream",
     "text": [
      "\n",
      "Routine: [5, 55, 98, 35, 36, 102, 53, 44, 8, 111, 59, 100, 76, 15, 119, 107, 75, 64, 11, 77, 116, 42, 38, 106, 79, 49, 0, 33, 18, 26, 12, 74, 62, 43, 29, 40, 97, 95, 61, 2, 63, 90, 96, 81, 112, 14, 117, 94, 51, 69, 20, 60, 16, 13, 54, 56, 31, 48, 58, 37, 82, 105, 27, 103, 109, 28, 104, 87, 24, 7, 39, 88, 66, 78, 101, 50, 17, 84, 41, 118, 92, 25, 34, 10, 52, 80, 99, 9, 91, 23, 21, 114, 115, 85, 113, 4, 67, 70, 83, 68, 6, 108, 1, 71, 86, 22, 93, 45, 73, 57, 19, 47, 72, 110, 3, 65, 30, 32, 89, 46, 0]\n",
      "\n",
      "Distance: 776951km\n",
      "\n",
      "Population size: 40\n",
      "\n",
      "Max iterations: 100 \n",
      "\n",
      "Mutation probability: 0.001\n",
      "\n",
      "With multiprocessing (8 cores) finished in 1.17 seconds\n",
      "\n",
      "Without multiprocessing finished in 4.92 seconds\n",
      "\n",
      "------------------------------\n",
      "\n",
      "Routine: [85, 13, 74, 114, 41, 86, 56, 4, 107, 47, 22, 18, 64, 99, 81, 58, 28, 52, 10, 82, 54, 55, 105, 6, 3, 97, 118, 1, 17, 27, 26, 30, 80, 70, 9, 95, 12, 77, 109, 108, 51, 76, 43, 66, 106, 117, 91, 112, 33, 79, 104, 7, 25, 73, 20, 92, 8, 15, 0, 61, 11, 46, 89, 75, 14, 34, 49, 115, 50, 40, 84, 83, 113, 19, 90, 2, 53, 62, 111, 101, 29, 45, 103, 5, 16, 93, 65, 68, 100, 36, 67, 98, 31, 119, 59, 69, 78, 38, 72, 37, 87, 116, 110, 94, 23, 102, 96, 21, 57, 71, 32, 35, 39, 44, 48, 88, 24, 60, 42, 63, 0]\n",
      "\n",
      "Distance: 636212km\n",
      "\n",
      "Population size: 40\n",
      "\n",
      "Max iterations: 100 \n",
      "\n",
      "Mutation probability: 0.01\n",
      "\n",
      "With multiprocessing (8 cores) finished in 1.09 seconds\n",
      "\n",
      "Without multiprocessing finished in 4.89 seconds\n",
      "\n",
      "------------------------------\n",
      "\n",
      "Routine: [20, 94, 53, 49, 68, 2, 103, 101, 43, 60, 40, 108, 74, 30, 62, 46, 16, 99, 14, 12, 67, 70, 112, 66, 102, 97, 77, 75, 22, 10, 113, 110, 106, 58, 34, 85, 41, 117, 0, 107, 47, 36, 45, 11, 31, 63, 18, 90, 57, 71, 37, 118, 7, 111, 73, 25, 51, 116, 54, 80, 105, 17, 82, 87, 50, 91, 95, 4, 83, 3, 48, 33, 52, 55, 86, 26, 29, 56, 1, 76, 5, 98, 35, 65, 93, 88, 28, 27, 9, 119, 78, 42, 115, 15, 23, 24, 72, 21, 19, 8, 84, 109, 96, 92, 38, 81, 13, 64, 44, 104, 79, 59, 69, 6, 61, 39, 100, 89, 32, 114, 0]\n",
      "\n",
      "Distance: 520076km\n",
      "\n",
      "Population size: 40\n",
      "\n",
      "Max iterations: 100 \n",
      "\n",
      "Mutation probability: 0.05\n",
      "\n",
      "With multiprocessing (8 cores) finished in 1.18 seconds\n",
      "\n",
      "Without multiprocessing finished in 4.92 seconds\n",
      "\n",
      "------------------------------\n",
      "\n",
      "Routine: [111, 104, 43, 94, 54, 21, 59, 0, 49, 46, 2, 65, 113, 42, 99, 97, 116, 71, 63, 114, 39, 55, 18, 9, 5, 98, 32, 118, 74, 117, 95, 35, 25, 45, 38, 34, 101, 53, 103, 16, 40, 56, 91, 119, 108, 52, 28, 27, 82, 33, 48, 30, 70, 47, 15, 66, 62, 29, 36, 100, 76, 92, 4, 83, 24, 109, 7, 89, 68, 57, 90, 60, 11, 26, 6, 23, 84, 96, 110, 67, 115, 1, 77, 72, 31, 64, 44, 50, 19, 112, 12, 85, 41, 3, 75, 79, 37, 80, 106, 87, 105, 8, 78, 22, 17, 81, 20, 86, 93, 61, 88, 13, 102, 107, 69, 10, 58, 14, 51, 73, 0]\n",
      "\n",
      "Distance: 718904km\n",
      "\n",
      "Population size: 40\n",
      "\n",
      "Max iterations: 500 \n",
      "\n",
      "Mutation probability: 0.001\n",
      "\n",
      "With multiprocessing (8 cores) finished in 4.96 seconds\n",
      "\n",
      "Without multiprocessing finished in 25.0 seconds\n",
      "\n",
      "------------------------------\n",
      "\n",
      "Routine: [31, 30, 101, 43, 16, 46, 7, 1, 20, 82, 57, 5, 36, 40, 78, 47, 19, 71, 86, 58, 110, 117, 34, 27, 109, 11, 98, 53, 62, 114, 49, 32, 67, 63, 90, 2, 66, 9, 61, 44, 4, 72, 23, 26, 104, 28, 87, 79, 94, 55, 84, 17, 69, 92, 56, 51, 108, 54, 33, 77, 13, 6, 48, 50, 70, 18, 99, 95, 3, 102, 88, 111, 80, 97, 93, 42, 107, 15, 68, 75, 115, 41, 112, 103, 60, 25, 100, 81, 38, 14, 22, 24, 64, 0, 21, 39, 85, 65, 113, 119, 91, 106, 116, 96, 52, 59, 29, 37, 89, 45, 35, 76, 74, 118, 73, 105, 8, 10, 12, 83, 0]\n",
      "\n",
      "Distance: 466206km\n",
      "\n",
      "Population size: 40\n",
      "\n",
      "Max iterations: 500 \n",
      "\n",
      "Mutation probability: 0.01\n",
      "\n",
      "With multiprocessing (8 cores) finished in 5.44 seconds\n",
      "\n",
      "Without multiprocessing finished in 24.99 seconds\n",
      "\n",
      "------------------------------\n",
      "\n",
      "Routine: [98, 11, 103, 76, 100, 5, 101, 7, 73, 51, 118, 1, 92, 109, 36, 58, 72, 4, 14, 107, 19, 83, 49, 10, 84, 77, 102, 2, 70, 9, 18, 65, 34, 3, 97, 50, 17, 37, 27, 26, 55, 69, 52, 82, 104, 79, 33, 110, 96, 8, 59, 105, 28, 94, 87, 111, 108, 20, 29, 40, 81, 38, 106, 99, 119, 42, 66, 67, 63, 57, 22, 91, 93, 0, 85, 78, 112, 12, 48, 80, 116, 54, 86, 56, 31, 74, 89, 16, 32, 71, 30, 43, 90, 53, 35, 25, 46, 62, 60, 61, 15, 21, 39, 44, 41, 64, 68, 13, 113, 75, 6, 23, 117, 115, 24, 95, 88, 47, 45, 114, 0]\n",
      "\n",
      "Distance: 334390km\n",
      "\n",
      "Population size: 40\n",
      "\n",
      "Max iterations: 500 \n",
      "\n",
      "Mutation probability: 0.05\n",
      "\n",
      "With multiprocessing (8 cores) finished in 5.27 seconds\n",
      "\n",
      "Without multiprocessing finished in 24.93 seconds\n",
      "\n",
      "------------------------------\n"
     ]
    }
   ],
   "source": [
    "all_settings = list(itertools.product([100, 500, 1000], [0.001, 0.01, 0.05]))\n",
    "all_settings = list(map(list, all_settings))\n",
    "all_settings = [setting + [40] for setting in all_settings]\n",
    "\n",
    "for setting in all_settings:\n",
    "    run(setting)"
   ]
  },
  {
   "cell_type": "markdown",
   "id": "2195ebb5",
   "metadata": {},
   "source": [
    "# 3.6 Ant Colony Optimization"
   ]
  },
  {
   "cell_type": "code",
   "execution_count": 17,
   "id": "35cb0aae",
   "metadata": {},
   "outputs": [],
   "source": [
    "data = get_data()\n",
    "cities = get_cities(data)\n",
    "distance_matrix = get_distance_matrix(cities)"
   ]
  },
  {
   "cell_type": "code",
   "execution_count": 19,
   "id": "a478f2db",
   "metadata": {
    "scrolled": true
   },
   "outputs": [
    {
     "name": "stdout",
     "output_type": "stream",
     "text": [
      "\n",
      "Routine: [  0  41  44  12  39  15  65  93  21  61  68  64  85   3  19  47  42  78\n",
      " 119  75  99  83 113  14  95 115  24  13 106  23  86   4   6 112  26  72\n",
      "  38  88 107 102  50  77 117  22  91  66  70   9   2  18  67  63  57  49\n",
      "  45 114  74  71  32  97  48 110  84  17   8  96  82 104  10 116  80  87\n",
      "  79 111  33  52  28  69  37  94  73 108  20   7 118  51   1  92  55 105\n",
      "  59  27  54  58  81 109  56  29  40  60  53  25  76   5  35 101  62  16\n",
      "  89  46  30  90  43  31  11 100  98 103  36  34]\n",
      "\n",
      "Distance: 164834km\n",
      "\n",
      "Time: 0.5 min\n",
      "\n",
      "Population size: 50\n",
      "\n",
      "Max iterations: 100\n",
      "\n",
      "--------------------\n",
      "\n",
      "Routine: [  0  41  44  12  39  64  68  61  85  15  21  93  65  22   3  19  47  14\n",
      "  95 115  24  13 106  23  86   4   6  26  72  38  81 109  56  40  29  58\n",
      "  36 100  98 103   5  35 101  25  76  53  60  62  46  16  89  57  49  45\n",
      " 114  74  71  32  30  90  43  31  11  63  18  67   9  70  91  66  75 119\n",
      "  42  78 113  99  83 112   2  34  88 107  50 102  77 117 110  84  17  27\n",
      "  96   8  59 105  55  92   1  73  51 118   7 108  20  94  37  69  52  28\n",
      "  33  82 104  79  87  80 111 116  10  54  48  97]\n",
      "\n",
      "Distance: 122794km\n",
      "\n",
      "Time: 1.29 min\n",
      "\n",
      "Population size: 50\n",
      "\n",
      "Max iterations: 250\n",
      "\n",
      "--------------------\n",
      "\n",
      "Routine: [  0  41  44  12  39  64  68  61  85  15  21  93  65  22   3  19  47  14\n",
      "  95 115  24  13 106  23  86   4   6  83  99 113  75 119  78  42  91  66\n",
      "  70   9  18  67  63   2 112  26  72  38  81 109  40  56  29  58  36 100\n",
      "  98 103   5  35  25  76 101  53  60  62  46  16  89  57  49  45 114  74\n",
      "  71  32  30  43  90  31  11  97  88 107  50 102  77 117  34  48 110  84\n",
      "  17  27  96   8  59 105  55  92   1  73  51   7 118 108  20  94  37  69\n",
      "  52  28  33  82 104  79  87  80 111 116  10  54]\n",
      "\n",
      "Distance: 125312km\n",
      "\n",
      "Time: 2.57 min\n",
      "\n",
      "Population size: 50\n",
      "\n",
      "Max iterations: 500\n",
      "\n",
      "--------------------\n"
     ]
    }
   ],
   "source": [
    "num_points = len(cities)\n",
    "size_pop = 50\n",
    "max_iters = [100, 250, 500]\n",
    "\n",
    "for max_iter in max_iters:\n",
    "    start = time.time()\n",
    "    aca = ACA_TSP(func=cal_total_distance, \n",
    "                  n_dim=num_points,\n",
    "                  size_pop=size_pop, max_iter=max_iter,\n",
    "                  distance_matrix=distance_matrix)\n",
    "\n",
    "    best_x, best_y = aca.run()\n",
    "    best_x = list(best_x)\n",
    "    best_x.append(0)\n",
    "    stop = time.time()\n",
    "\n",
    "    time_elapsed = stop-start\n",
    "    print(f'\\nRoutine: {best_x}\\n\\nDistance: {round(best_y)}km\\n\\nTime: {round(time_elapsed/60, 2)} min\\n\\nPopulation size: {size_pop}\\n\\nMax iterations: {max_iter}\\n')\n",
    "    print('-'*20)\n"
   ]
  }
 ],
 "metadata": {
  "kernelspec": {
   "display_name": "Python 3",
   "language": "python",
   "name": "python3"
  },
  "language_info": {
   "codemirror_mode": {
    "name": "ipython",
    "version": 3
   },
   "file_extension": ".py",
   "mimetype": "text/x-python",
   "name": "python",
   "nbconvert_exporter": "python",
   "pygments_lexer": "ipython3",
   "version": "3.7.10"
  }
 },
 "nbformat": 4,
 "nbformat_minor": 5
}
