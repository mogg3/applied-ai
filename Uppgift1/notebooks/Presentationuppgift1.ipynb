{
 "cells": [
  {
   "cell_type": "markdown",
   "id": "dd110f26",
   "metadata": {},
   "source": [
    "# Sara och Marcus Uppgift 1"
   ]
  },
  {
   "cell_type": "markdown",
   "id": "8c70d8a2",
   "metadata": {},
   "source": [
    "# 3.1 Kontinuerlig optimering"
   ]
  },
  {
   "cell_type": "code",
   "execution_count": null,
   "id": "3ff72f45",
   "metadata": {},
   "outputs": [],
   "source": []
  },
  {
   "cell_type": "markdown",
   "id": "5f1607c8",
   "metadata": {},
   "source": [
    "# 3.2 TSP datainsamling och preprocessing"
   ]
  },
  {
   "cell_type": "code",
   "execution_count": null,
   "id": "5aceda77",
   "metadata": {},
   "outputs": [],
   "source": [
    "from sko.ACA import ACA_TSP\n",
    "from math import sin, asin, cos, sqrt, atan2, radians\n",
    "import regex as re\n",
    "from selenium import webdriver\n",
    "from selenium.webdriver.common.keys import Keys\n",
    "import time\n",
    "import numpy as np\n",
    "import matplotlib.pyplot as plt\n",
    "\n",
    "\n",
    "def get_data():\n",
    "    # Scrapes the data \n",
    "    options = webdriver.ChromeOptions()\n",
    "    options.add_argument(\"headless\")\n",
    "    driver = webdriver.Chrome('./chromedriver', options = options)\n",
    "\n",
    "    driver.get(\"https://www.infoplease.com/world/geography/major-cities-latitude-longitude-and-corresponding-time-zones\")\n",
    "    elem = driver.find_element_by_id(\"A0001770\")\n",
    "    text = elem.text\n",
    "    driver.close()\n",
    "    return text\n",
    "\n",
    "def get_cities(data: str):\n",
    "    # Formats the data into a more convenient lookup table\n",
    "    rows = data.split('\\n')\n",
    "    cities = []\n",
    "    for row in rows[2:]:\n",
    "        city = re.findall('[A-Za-z].*, [A-Za-z]*', row)\n",
    "        latitude, longitude = re.findall('[0-9]{1,} [0-9]{1,} [SNWE]', row)\n",
    "        cities.append({'city': city, \n",
    "                       'latitude': latitude, \n",
    "                       'longitude': longitude})\n",
    "    return cities\n",
    "\n",
    "def to_degrees(city):\n",
    "    # Converts the lat and long coordinates to decimal degrees, returns them in radians\n",
    "    dms_to_deg = lambda deg, minutes, direction: (float(deg) + float(minutes)/60) * (-1 if direction in ['W', 'S'] else 1)\n",
    "    \n",
    "    latitude = city['latitude']\n",
    "    longitude = city['longitude']\n",
    "\n",
    "    lat = dms_to_deg(*re.split('[ ]', latitude))\n",
    "    long = dms_to_deg(*re.split('[ ]', longitude))\n",
    "\n",
    "    return radians(lat), radians(long)\n",
    "\n",
    "def calc_d(city1, city2):\n",
    "    # calculates the distance between two coordinates\n",
    "    lat1, lon1 = to_degrees(city1)\n",
    "    lat2, lon2 = to_degrees(city2)\n",
    "    \n",
    "    R = 6372.8 # km\n",
    "\n",
    "    dlon = lon2 - lon1\n",
    "    dlat = lat2 - lat1\n",
    "\n",
    "    a = (sin(dlat/2)**2) + (cos(lat1) * cos(lat2) * (sin(dlon/2)**2))\n",
    "    c = 2 * asin(sqrt(a)) \n",
    "    \n",
    "    distance = R * c\n",
    "    return distance # km\n",
    "\n",
    "def get_distance_matrix(cities):\n",
    "    # Generates a distance matrix from a list of cities with coordinates\n",
    "    index_matrix = [[(i, j) for j in range(len(cities))] for i in range(len(cities))]\n",
    "    distance_matrix = [[calc_d(cities[i_tup[0]], cities[i_tup[1]]) for i_tup in row] for row in index_matrix]\n",
    "    return np.array([np.array(row) for row in distance_matrix])\n",
    "\n",
    "def cal_total_distance(routine) -> float:\n",
    "    # Calculates the total distance of a given routine\n",
    "    num_points, = routine.shape\n",
    "    return sum([distance_matrix[routine[i % num_points], routine[(i + 1) % num_points]] for i in range(num_points)])"
   ]
  },
  {
   "cell_type": "markdown",
   "id": "e258a57a",
   "metadata": {},
   "source": [
    "# 3.3 Baseline 1"
   ]
  },
  {
   "cell_type": "code",
   "execution_count": null,
   "id": "a285a423",
   "metadata": {},
   "outputs": [],
   "source": [
    "data = get_data()\n",
    "cities = get_cities(data)\n",
    "distance_matrix = get_distance_matrix(cities)"
   ]
  },
  {
   "cell_type": "code",
   "execution_count": null,
   "id": "2633d3d4",
   "metadata": {},
   "outputs": [],
   "source": [
    "routines = [np.array([i for i in range(120)]) for j in range(100000)]\n",
    "for routine in routines:\n",
    "    np.random.shuffle(routine)\n",
    "\n",
    "distances = [cal_total_distance(routine) for routine in routines]"
   ]
  },
  {
   "cell_type": "code",
   "execution_count": 119,
   "id": "5e4e3c63",
   "metadata": {},
   "outputs": [
    {
     "data": {
      "image/png": "[encoded data removed]",
      "text/plain": [
       "<Figure size 720x360 with 1 Axes>"
      ]
     },
     "metadata": {
      "needs_background": "light"
     },
     "output_type": "display_data"
    }
   ],
   "source": [
    "plt.figure(figsize=(10, 5))\n",
    "plt.hist(distances, bins = 30, edgecolor='black', linewidth=0.5)\n",
    "plt.show()"
   ]
  },
  {
   "cell_type": "markdown",
   "id": "53af0de1",
   "metadata": {},
   "source": [
    "# 3.4 Baseline 2"
   ]
  },
  {
   "cell_type": "code",
   "execution_count": null,
   "id": "771df749",
   "metadata": {},
   "outputs": [],
   "source": []
  },
  {
   "cell_type": "markdown",
   "id": "3f049ac0",
   "metadata": {},
   "source": [
    "# 3.5 Baseline 3"
   ]
  },
  {
   "cell_type": "code",
   "execution_count": 148,
   "id": "63188959",
   "metadata": {},
   "outputs": [],
   "source": [
    "import multiprocessing\n",
    "import time\n",
    "import itertools\n",
    "from sko.GA import GA_TSP\n",
    "\n",
    "\n",
    "def GA(setting: list):\n",
    "    max_iter = setting[0]\n",
    "    prob_mut = setting[1]\n",
    "    size_pop = setting[2]\n",
    "    \n",
    "    ga_tsp = GA_TSP(func=cal_total_distance, n_dim=120, size_pop=size_pop, max_iter=max_iter, prob_mut=prob_mut)\n",
    "    best_points, best_distance = ga_tsp.run()\n",
    "    return best_points, best_distance\n",
    "\n",
    "def run(setting: list):\n",
    "    max_iter = setting[0]\n",
    "    prob_mut = setting[1]\n",
    "    pop_size = setting[2]\n",
    "    \n",
    "    setting.append(pop_size)\n",
    "    \n",
    "    n_cores = multiprocessing.cpu_count()\n",
    "    \n",
    "    start_mp = time.time()\n",
    "    \n",
    "    pool = multiprocessing.Pool(processes = n_cores)\n",
    "    ncore_settings = [setting for i in range(n_cores)]\n",
    "    result = pool.map(GA, ncore_settings)\n",
    "    \n",
    "    end_mp = time.time()\n",
    "\n",
    "    start_seq = time.time()\n",
    "\n",
    "    for i in range(n_cores):\n",
    "        best_x, best_y = GA(setting)\n",
    "    \n",
    "    end_seq = time.time()\n",
    "\n",
    "    mp_time = end_mp-start_mp\n",
    "    seq_time = end_seq-start_seq\n",
    "    \n",
    "    print(f'\\nRoutine: {list(best_x)}\\n\\nDistance: {round(int(best_y))}km\\n\\nPopulation size: {pop_size}\\n\\nMax iterations: {max_iter} \\n\\nMutation probability: {prob_mut}\\n')\n",
    "    print(f'With multiprocessing ({n_cores} cores) finished in {round(mp_time, 2)} seconds\\n')\n",
    "    print(f'Without multiprocessing finished in {round(seq_time, 2)} seconds\\n')\n",
    "    print('-'*30)\n",
    "    "
   ]
  },
  {
   "cell_type": "code",
   "execution_count": null,
   "id": "86717edf",
   "metadata": {},
   "outputs": [],
   "source": [
    "data = get_data()\n",
    "cities = get_cities(data)\n",
    "distance_matrix = get_distance_matrix(cities)"
   ]
  },
  {
   "cell_type": "code",
   "execution_count": null,
   "id": "39d3be04",
   "metadata": {
    "scrolled": true
   },
   "outputs": [],
   "source": [
    "all_settings = list(itertools.product([100, 500, 1000], [0.001, 0.01, 0.05]))\n",
    "all_settings = list(map(list, all_settings))\n",
    "all_settings = [setting + [40] for setting in all_settings]\n",
    "\n",
    "for setting in all_settings:\n",
    "    run(setting)"
   ]
  },
  {
   "cell_type": "markdown",
   "id": "2195ebb5",
   "metadata": {},
   "source": [
    "# 3.6 Ant Colony Optimization"
   ]
  },
  {
   "cell_type": "code",
   "execution_count": 17,
   "id": "35cb0aae",
   "metadata": {},
   "outputs": [],
   "source": [
    "data = get_data()\n",
    "cities = get_cities(data)\n",
    "distance_matrix = get_distance_matrix(cities)"
   ]
  },
  {
   "cell_type": "code",
   "execution_count": null,
   "id": "a478f2db",
   "metadata": {
    "scrolled": false
   },
   "outputs": [],
   "source": [
    "num_points = len(cities)\n",
    "size_pop = 50\n",
    "max_iters = [100, 250, 500]\n",
    "\n",
    "for max_iter in max_iters:\n",
    "    start = time.time()\n",
    "    aca = ACA_TSP(func=cal_total_distance, \n",
    "                  n_dim=num_points,\n",
    "                  size_pop=size_pop, max_iter=max_iter,\n",
    "                  distance_matrix=distance_matrix)\n",
    "\n",
    "    best_x, best_y = aca.run()\n",
    "    stop = time.time()\n",
    "\n",
    "    time_elapsed = stop-start\n",
    "    print(f'\\nRoutine: {best_x}\\n\\nDistance: {round(best_y)}km\\n\\nTime: {round(time_elapsed/60, 2)} min\\n\\nPopulation size: {size_pop}\\n\\nMax iterations: {max_iter}\\n')\n",
    "    print('-'*20)"
   ]
  }
 ],
 "metadata": {
  "kernelspec": {
   "display_name": "Python 3",
   "language": "python",
   "name": "python3"
  },
  "language_info": {
   "codemirror_mode": {
    "name": "ipython",
    "version": 3
   },
   "file_extension": ".py",
   "mimetype": "text/x-python",
   "name": "python",
   "nbconvert_exporter": "python",
   "pygments_lexer": "ipython3",
   "version": "3.7.10"
  }
 },
 "nbformat": 4,
 "nbformat_minor": 5
}
