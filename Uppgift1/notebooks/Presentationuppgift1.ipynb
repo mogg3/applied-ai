{
 "cells": [
  {
   "cell_type": "markdown",
   "id": "826a4ded",
   "metadata": {},
   "source": [
    "# Sara och Marcus Uppgift 1"
   ]
  },
  {
   "cell_type": "markdown",
   "id": "66779b90",
   "metadata": {},
   "source": [
    "# 3.1 Kontinuerlig optimering"
   ]
  },
  {
   "cell_type": "code",
   "execution_count": 248,
   "id": "4a7979ca",
   "metadata": {},
   "outputs": [],
   "source": [
    "from numpy import e, arctan, cos, sin, ones\n",
    "import pyswarms as ps\n",
    "\n",
    "\n",
    "def cal_function_value(values: list, minimum=True) -> list:\n",
    "    \"\"\"Calculate the function value for all the solutions in the swarm.\"\"\"\n",
    "    calculations = []\n",
    "    for pair in values:\n",
    "        x, y = pair\n",
    "        if minimum:\n",
    "            calculations.append(function(x, y))\n",
    "        else:\n",
    "        # If we want to find the maximum for the function we change the sign of the return value\n",
    "            calculations.append(-function(x, y))\n",
    "    return calculations\n",
    "\n",
    "\n",
    "def function(x: float, y: float) -> float:\n",
    "    \"\"\"Definition of the function\"\"\"\n",
    "    return (e ** (-0.05 * (x ** 2 + y ** 2))) * ((arctan(x) - arctan(y)) + (e ** - (x ** 2 + y ** 2)) * (cos(x) ** 2 * sin(y)) ** 2)\n",
    "\n",
    "\n",
    "def pso():\n",
    "    \"\"\"Create one optimizer for minimum and one for maximum. Find them and print the result.\"\"\"\n",
    "    options = {'c1': 0.5, 'c2': 0.5, 'w': 0.9}\n",
    "    bounds = (-5*ones(2), 5*ones(2))\n",
    "\n",
    "    # Optimizer for minimum\n",
    "    optimizer = ps.single.GlobalBestPSO(n_particles=100, dimensions=2, options=options, bounds=bounds)\n",
    "    minimum, pos_minimum = optimizer.optimize(cal_function_value, 1000, verbose=False)\n",
    "\n",
    "    # Optimizer for maximum\n",
    "    optimizer = ps.single.GlobalBestPSO(n_particles=100, dimensions=2, options=options, bounds=bounds)\n",
    "    # The value that is stored in the maximum variable is negative, since we changed its sign in the calculation\n",
    "    maximum, pos_maximum = optimizer.optimize(cal_function_value, 1000, verbose=False, minimum=False)\n",
    "\n",
    "    print(f'The minimum for the function is {minimum}, coordinates {pos_minimum}')\n",
    "    print(f'The maximum for the function is {-maximum}, coordinates {pos_maximum}')"
   ]
  },
  {
   "cell_type": "code",
   "execution_count": 249,
   "id": "95aa1280",
   "metadata": {},
   "outputs": [
    {
     "name": "stdout",
     "output_type": "stream",
     "text": [
      "The minimum for the function is -1.5697840913957708, coordinates [-1.52257708  1.52256797]\n",
      "The maximum for the function is 1.569784174244423, coordinates [ 1.52255974 -1.52256888]\n"
     ]
    }
   ],
   "source": [
    "pso()"
   ]
  },
  {
   "cell_type": "markdown",
   "id": "49c951b0",
   "metadata": {},
   "source": [
    "# 3.2 TSP datainsamling och preprocessing"
   ]
  },
  {
   "cell_type": "code",
   "execution_count": 3,
   "id": "5aceda77",
   "metadata": {},
   "outputs": [],
   "source": [
    "from sko.ACA import ACA_TSP\n",
    "from math import sin, asin, cos, sqrt, atan2, radians\n",
    "import regex as re\n",
    "from selenium import webdriver\n",
    "from selenium.webdriver.common.keys import Keys\n",
    "import time\n",
    "import numpy as np\n",
    "import matplotlib.pyplot as plt\n",
    "import random\n",
    "\n",
    "\n",
    "def get_data():\n",
    "    # Scrapes the data \n",
    "    options = webdriver.ChromeOptions()\n",
    "    options.add_argument(\"headless\")\n",
    "    driver = webdriver.Chrome('./chromedriver', options = options)\n",
    "\n",
    "    driver.get(\"https://www.infoplease.com/world/geography/major-cities-latitude-longitude-and-corresponding-time-zones\")\n",
    "    elem = driver.find_element_by_id(\"A0001770\")\n",
    "    text = elem.text\n",
    "    driver.close()\n",
    "    return text\n",
    "\n",
    "def get_cities(data: str):\n",
    "    # Formats the data into a more convenient lookup table\n",
    "    rows = data.split('\\n')\n",
    "    cities = []\n",
    "    for row in rows[2:]:\n",
    "        city = re.findall('[A-Za-z]*, [A-Za-z]*', row)\n",
    "        latitude, longitude = re.findall('[0-9]{1,} [0-9]{1,} [SNWE]', row)\n",
    "        cities.append({'city': city, \n",
    "                       'latitude': latitude, \n",
    "                       'longitude': longitude})\n",
    "    return cities\n",
    "\n",
    "def to_degrees(city: dict):\n",
    "    # Converts the lat and long coordinates to decimal degrees, returns them in radians\n",
    "    dms_to_deg = lambda deg, minutes, direction: (float(deg) + float(minutes)/60) * (-1 if direction in ['W', 'S'] else 1)\n",
    "    \n",
    "    latitude = city['latitude']\n",
    "    longitude = city['longitude']\n",
    "\n",
    "    lat = dms_to_deg(*re.split('[ ]', latitude))\n",
    "    long = dms_to_deg(*re.split('[ ]', longitude))\n",
    "\n",
    "    return radians(lat), radians(long)\n",
    "\n",
    "def calc_d(city1: dict, city2: dict):\n",
    "    # calculates the distance between two coordinates\n",
    "    lat1, lon1 = to_degrees(city1)\n",
    "    lat2, lon2 = to_degrees(city2)\n",
    "    \n",
    "    R = 6372.8 # km\n",
    "\n",
    "    dlon = lon2 - lon1\n",
    "    dlat = lat2 - lat1\n",
    "\n",
    "    a = (sin(dlat/2)**2) + (cos(lat1) * cos(lat2) * (sin(dlon/2)**2))\n",
    "    c = 2 * asin(sqrt(a)) \n",
    "    \n",
    "    distance = R * c\n",
    "    return distance # km\n",
    "\n",
    "def get_distance_matrix(cities: list):\n",
    "    # Generates a distance matrix from a list of cities with coordinates\n",
    "    index_matrix = [[(i, j) for j in range(len(cities))] for i in range(len(cities))]\n",
    "    distance_matrix = [[calc_d(cities[i_tup[0]], cities[i_tup[1]]) for i_tup in row] for row in index_matrix]\n",
    "    return np.array([np.array(row) for row in distance_matrix])\n",
    "\n",
    "def cal_total_distance(routine: list):\n",
    "    # Calculates the total distance of a given routine\n",
    "    num_points, = routine.shape\n",
    "    return sum([distance_matrix[routine[i % num_points], routine[(i + 1) % num_points]] for i in range(num_points)])"
   ]
  },
  {
   "cell_type": "code",
   "execution_count": 5,
   "id": "998872b5",
   "metadata": {},
   "outputs": [
    {
     "name": "stderr",
     "output_type": "stream",
     "text": [
      "/var/folders/01/_wv7n9yj3gndbty36gzv6wk00000gn/T/ipykernel_1104/4013058821.py:16: DeprecationWarning: executable_path has been deprecated, please pass in a Service object\n",
      "  driver = webdriver.Chrome('./chromedriver', options = options)\n",
      "/var/folders/01/_wv7n9yj3gndbty36gzv6wk00000gn/T/ipykernel_1104/4013058821.py:19: DeprecationWarning: find_element_by_* commands are deprecated. Please use find_element() instead\n",
      "  elem = driver.find_element_by_id(\"A0001770\")\n"
     ]
    }
   ],
   "source": [
    "data = get_data()\n",
    "cities = get_cities(data)\n",
    "distance_matrix = get_distance_matrix(cities)"
   ]
  },
  {
   "cell_type": "markdown",
   "id": "f1730bb3",
   "metadata": {},
   "source": [
    "# 3.3 Baseline 1"
   ]
  },
  {
   "cell_type": "code",
   "execution_count": 230,
   "id": "e947f338",
   "metadata": {},
   "outputs": [],
   "source": [
    "routines = [np.array([i for i in range(120)]) for j in range(100000)]\n",
    "for routine in routines:\n",
    "    np.random.shuffle(routine)\n",
    "\n",
    "distances = [cal_total_distance(routine) for routine in routines]"
   ]
  },
  {
   "cell_type": "code",
   "execution_count": 231,
   "id": "b9e1ac2b",
   "metadata": {},
   "outputs": [
    {
     "data": {
      "image/png": "[encoded data removed]",
      "text/plain": [
       "<Figure size 720x360 with 1 Axes>"
      ]
     },
     "metadata": {
      "needs_background": "light"
     },
     "output_type": "display_data"
    }
   ],
   "source": [
    "plt.figure(figsize=(10, 5))\n",
    "plt.hist(distances, bins = 30, edgecolor='black', linewidth=0.5)\n",
    "plt.show()"
   ]
  },
  {
   "cell_type": "markdown",
   "id": "c25852eb",
   "metadata": {},
   "source": [
    "# 3.4 Baseline 2"
   ]
  },
  {
   "cell_type": "code",
   "execution_count": 232,
   "id": "614129c9",
   "metadata": {},
   "outputs": [
    {
     "name": "stdout",
     "output_type": "stream",
     "text": [
      "\n",
      "Routine: [83, 99, 113, 75, 119, 78, 95, 115, 24, 13, 106, 23, 86, 4, 6, 112, 2, 9, 70, 66, 91, 22, 3, 19, 47, 14, 34, 88, 107, 50, 102, 77, 117, 42, 65, 15, 21, 93, 64, 68, 61, 85, 41, 44, 12, 39, 0, 97, 48, 18, 67, 63, 36, 100, 98, 103, 5, 35, 25, 76, 101, 53, 60, 62, 46, 16, 89, 57, 49, 45, 114, 74, 71, 32, 30, 43, 90, 31, 11, 58, 81, 38, 72, 26, 110, 84, 17, 27, 96, 8, 59, 105, 55, 37, 94, 20, 108, 73, 51, 1, 92, 69, 52, 28, 33, 82, 104, 79, 87, 80, 111, 116, 10, 54, 109, 40, 56, 29, 118, 7]\n",
      "\n",
      "Distance: 132868km\n"
     ]
    }
   ],
   "source": [
    "not_visited = list(range(120))\n",
    "visited = []\n",
    "total_distance = 0\n",
    "current_position = random.randint(0, 120)\n",
    "\n",
    "for _ in range(len(distance_matrix)):\n",
    "    # Position is a variable used to keep track of which of the nearest cities we will try next\n",
    "    position = 1\n",
    "    nearest_found = False\n",
    "    # Array with all the distances for the current city\n",
    "    distances = distance_matrix[current_position]\n",
    "    while not nearest_found:\n",
    "        # We look at the city at index 1, since index 0 is the current city\n",
    "        distance_to_nearest_city = np.sort(distances)[position]\n",
    "        nearest_city = np.where(distances == distance_to_nearest_city)[0][0]\n",
    "        position += 1\n",
    "        # Let's check if we've already visited this city, if not let's go there.\n",
    "        # Otherwise we take the next nearest city. \n",
    "        if nearest_city in not_visited:\n",
    "            # We found the nearest city that we haven't visited yet. Let's go!\n",
    "            current_position = nearest_city\n",
    "            not_visited.remove(current_position)\n",
    "            visited.append(current_position)\n",
    "            total_distance += distance_to_nearest_city\n",
    "            nearest_found = True\n",
    "\n",
    "print(f'\\nRoutine: {visited}\\n\\nDistance: {round(total_distance)}km')"
   ]
  },
  {
   "cell_type": "markdown",
   "id": "f2e81324",
   "metadata": {},
   "source": [
    "# 3.5 Baseline 3"
   ]
  },
  {
   "cell_type": "code",
   "execution_count": 90,
   "id": "63188959",
   "metadata": {},
   "outputs": [],
   "source": [
    "import multiprocess\n",
    "import time\n",
    "import itertools\n",
    "from sko.GA import GA_TSP\n",
    "\n",
    "def run_GA_TSP(setting: list):\n",
    "    max_iter = setting[0]\n",
    "    prob_mut = setting[1]\n",
    "    size_pop = setting[2]\n",
    "\n",
    "    ga_tsp = GA_TSP(func=cal_total_distance, n_dim=120, size_pop=size_pop, max_iter=max_iter, prob_mut=prob_mut)\n",
    "    best_points, best_distance = ga_tsp.run()\n",
    "    return best_points, best_distance\n",
    "\n",
    "def run(setting):\n",
    "    max_iter, prob_mut, pop_size = setting[0], setting[1], setting[2]\n",
    "        \n",
    "    n_cores = multiprocess.cpu_count()\n",
    "    \n",
    "    \n",
    "    start_mp = time.time()\n",
    "    pool = multiprocess.Pool(processes = n_cores)\n",
    "    ncore_settings = [setting for i in range(n_cores)]\n",
    "    result = pool.map(run_GA_TSP, ncore_settings)\n",
    "    end_mp = time.time()\n",
    "    \n",
    "    start_seq = time.time()\n",
    "    \n",
    "    for i in range(n_cores):\n",
    "        best_x, best_y = run_GA_TSP(setting)\n",
    "    \n",
    "    end_seq = time.time()\n",
    "    \n",
    "    mp_time = end_mp-start_mp\n",
    "    seq_time = end_seq-start_seq\n",
    "        \n",
    "    print(f'Population size: {pop_size}\\n\\nMax iterations: {max_iter} \\n\\nMutation probability: {prob_mut}\\n')\n",
    "    print(f'With multiprocessing ({n_cores} cores) finished in {round(mp_time, 2)} seconds\\n')\n",
    "    print(f'Without multiprocessing finished in {round(seq_time, 2)} seconds\\n')\n",
    "    print('-'*30)\n",
    "    "
   ]
  },
  {
   "cell_type": "code",
   "execution_count": 92,
   "id": "39d3be04",
   "metadata": {
    "scrolled": true
   },
   "outputs": [
    {
     "name": "stdout",
     "output_type": "stream",
     "text": [
      "Population size: 40\n",
      "\n",
      "Max iterations: 100 \n",
      "\n",
      "Mutation probability: 0.001\n",
      "\n",
      "With multiprocessing (8 cores) finished in 1.19 seconds\n",
      "\n",
      "Without multiprocessing finished in 5.11 seconds\n",
      "\n",
      "------------------------------\n",
      "Population size: 40\n",
      "\n",
      "Max iterations: 100 \n",
      "\n",
      "Mutation probability: 0.01\n",
      "\n",
      "With multiprocessing (8 cores) finished in 1.19 seconds\n",
      "\n",
      "Without multiprocessing finished in 5.16 seconds\n",
      "\n",
      "------------------------------\n",
      "Population size: 40\n",
      "\n",
      "Max iterations: 100 \n",
      "\n",
      "Mutation probability: 0.05\n",
      "\n",
      "With multiprocessing (8 cores) finished in 1.13 seconds\n",
      "\n",
      "Without multiprocessing finished in 5.16 seconds\n",
      "\n",
      "------------------------------\n",
      "Population size: 40\n",
      "\n",
      "Max iterations: 500 \n",
      "\n",
      "Mutation probability: 0.001\n",
      "\n",
      "With multiprocessing (8 cores) finished in 5.47 seconds\n",
      "\n",
      "Without multiprocessing finished in 25.71 seconds\n",
      "\n",
      "------------------------------\n",
      "Population size: 40\n",
      "\n",
      "Max iterations: 500 \n",
      "\n",
      "Mutation probability: 0.01\n",
      "\n",
      "With multiprocessing (8 cores) finished in 5.53 seconds\n",
      "\n",
      "Without multiprocessing finished in 26.0 seconds\n",
      "\n",
      "------------------------------\n",
      "Population size: 40\n",
      "\n",
      "Max iterations: 500 \n",
      "\n",
      "Mutation probability: 0.05\n",
      "\n",
      "With multiprocessing (8 cores) finished in 5.45 seconds\n",
      "\n",
      "Without multiprocessing finished in 26.03 seconds\n",
      "\n",
      "------------------------------\n",
      "Population size: 40\n",
      "\n",
      "Max iterations: 1000 \n",
      "\n",
      "Mutation probability: 0.001\n",
      "\n",
      "With multiprocessing (8 cores) finished in 10.8 seconds\n",
      "\n",
      "Without multiprocessing finished in 964.05 seconds\n",
      "\n",
      "------------------------------\n",
      "Population size: 40\n",
      "\n",
      "Max iterations: 1000 \n",
      "\n",
      "Mutation probability: 0.01\n",
      "\n",
      "With multiprocessing (8 cores) finished in 1015.99 seconds\n",
      "\n",
      "Without multiprocessing finished in 2186.84 seconds\n",
      "\n",
      "------------------------------\n",
      "Population size: 40\n",
      "\n",
      "Max iterations: 1000 \n",
      "\n",
      "Mutation probability: 0.05\n",
      "\n",
      "With multiprocessing (8 cores) finished in 10.92 seconds\n",
      "\n",
      "Without multiprocessing finished in 1772.58 seconds\n",
      "\n",
      "------------------------------\n"
     ]
    }
   ],
   "source": [
    "all_settings = list(itertools.product([100, 500, 1000], [0.001, 0.01, 0.05]))\n",
    "all_settings = list(map(list, all_settings))\n",
    "all_settings = [setting + [40] for setting in all_settings]\n",
    "\n",
    "for setting in all_settings:\n",
    "    run(setting)"
   ]
  },
  {
   "cell_type": "markdown",
   "id": "a5880e34",
   "metadata": {},
   "source": [
    "# 3.6 Ant Colony Optimization"
   ]
  },
  {
   "cell_type": "code",
   "execution_count": 17,
   "id": "7aaafaa0",
   "metadata": {},
   "outputs": [],
   "source": [
    "data = get_data()\n",
    "cities = get_cities(data)\n",
    "distance_matrix = get_distance_matrix(cities)"
   ]
  },
  {
   "cell_type": "code",
   "execution_count": 247,
   "id": "6b0727c5",
   "metadata": {
    "scrolled": true
   },
   "outputs": [
    {
     "name": "stdout",
     "output_type": "stream",
     "text": [
      "\n",
      "Routine: [  0  44  41  85  61  68  64  15  21  65   3  22  91   9  70  66 119  75\n",
      " 113  78  95 115  24  13  23 106  83  99 112   6   4   2  63  67  18  39\n",
      "  12  34  19  47  14  42  93  88 107  50 102  77  86 117  97  48  54 116\n",
      "  87  80 111  79  69  52  28  26  72  38  81 109   8  96  27  84  17 110\n",
      " 104  82  10  33 105  59  55  37  94   1  73  51 118   7  20 108  92 101\n",
      "  35  76  25 103  98 100  11  31  90  43  30  57  49  45  71  32  74 114\n",
      "  89  16  46  62  60  53   5  36  58  29  40  56]\n",
      "\n",
      "Distance: 163735km\n",
      "\n",
      "Time: 0.48 min\n",
      "\n",
      "Population size: 50\n",
      "\n",
      "Max iterations: 100\n",
      "\n",
      "--------------------\n",
      "\n",
      "Routine: [  0  41  44  12  39  64  68  61  85  15  21  93  65  22   3  19  47  14\n",
      "  95  42  34  88 107  50 102  77 117 115  24  13 106  23  86   4   6 112\n",
      "  83  99 113  75 119  78  66  70   9  18  91  63  67   2  36  11  31  90\n",
      "  43  30  16  89  57  49  45 114  74  71  32  46  62  60  53  35 101  25\n",
      "  76   5 103  98 100  29  40  56 109  38  81  58  26  72 110  84  17  27\n",
      "  96   8  59 105  55  92   7 118  51   1  73 108  20  94  37  69  52  28\n",
      "  33  82 104  79  87  80 111 116  10  54  48  97]\n",
      "\n",
      "Distance: 123843km\n",
      "\n",
      "Time: 1.19 min\n",
      "\n",
      "Population size: 50\n",
      "\n",
      "Max iterations: 250\n",
      "\n",
      "--------------------\n",
      "\n",
      "Routine: [  0  41  44  12  39  64  68  61  85  15  21  93  65  91  22   3  19  47\n",
      "  14  34  88 107  50 102  77 117  95 115  24  13 106  23  86   4   6  83\n",
      "  99 113  75 119  78  42  66  70   9  18  67  63   2 112  26  72  38  81\n",
      " 109  40  56  29  58  36 100  98 103   5  76  25  35 101  53  60  62  46\n",
      "  16  89  57  49  45 114  74  71  32  30  43  90  31  11  97  48 110  84\n",
      "  17  27  96   8  59 105  55  92   1  73  51 108  20 118   7  94  37  69\n",
      "  52  28  33  82 104  79  87  80 111 116  10  54]\n",
      "\n",
      "Distance: 124601km\n",
      "\n",
      "Time: 2.37 min\n",
      "\n",
      "Population size: 50\n",
      "\n",
      "Max iterations: 500\n",
      "\n",
      "--------------------\n"
     ]
    }
   ],
   "source": [
    "num_points = len(cities)\n",
    "size_pop = 50\n",
    "max_iters = [100, 250, 500]\n",
    "\n",
    "for max_iter in max_iters:\n",
    "    start = time.time()\n",
    "    aca = ACA_TSP(func=cal_total_distance, \n",
    "                  n_dim=num_points,\n",
    "                  size_pop=size_pop, max_iter=max_iter,\n",
    "                  distance_matrix=distance_matrix)\n",
    "\n",
    "    best_x, best_y = aca.run()\n",
    "    stop = time.time()\n",
    "\n",
    "    time_elapsed = stop-start\n",
    "    print(f'\\nRoutine: {best_x}\\n\\nDistance: {round(best_y)}km\\n\\nTime: {round(time_elapsed/60, 2)} min\\n\\nPopulation size: {size_pop}\\n\\nMax iterations: {max_iter}\\n')\n",
    "    print('-'*20)"
   ]
  }
 ],
 "metadata": {
  "kernelspec": {
   "display_name": "Python 3 (ipykernel)",
   "language": "python",
   "name": "python3"
  },
  "language_info": {
   "codemirror_mode": {
    "name": "ipython",
    "version": 3
   },
   "file_extension": ".py",
   "mimetype": "text/x-python",
   "name": "python",
   "nbconvert_exporter": "python",
   "pygments_lexer": "ipython3",
   "version": "3.8.5"
  }
 },
 "nbformat": 4,
 "nbformat_minor": 5
}