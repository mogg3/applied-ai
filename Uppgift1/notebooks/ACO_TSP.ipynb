{
 "cells": [
  {
   "cell_type": "code",
   "execution_count": 259,
   "id": "37734dd5",
   "metadata": {},
   "outputs": [],
   "source": [
    "from sko.ACA import ACA_TSP\n",
    "from math import sin, asin, cos, sqrt, atan2, radians\n",
    "import regex as re\n",
    "from selenium import webdriver\n",
    "from selenium.webdriver.common.keys import Keys\n",
    "import time\n",
    "import numpy as np\n",
    "\n",
    "def get_data():\n",
    "    # Scrapes the data \n",
    "    options = webdriver.ChromeOptions()\n",
    "    options.add_argument(\"headless\")\n",
    "    driver = webdriver.Chrome('./chromedriver', options = options)\n",
    "\n",
    "    driver.get(\"https://www.infoplease.com/world/geography/major-cities-latitude-longitude-and-corresponding-time-zones\")\n",
    "    elem = driver.find_element_by_id(\"A0001770\")\n",
    "    text = elem.text\n",
    "    driver.close()\n",
    "    return text\n",
    "\n",
    "def get_cities(data):\n",
    "    # Formats the data into a more convenient lookup table\n",
    "    rows = data.split('\\n')\n",
    "    cities = []\n",
    "    for row in rows[2:]:\n",
    "        city = re.findall('[A-Za-z].*, [A-Za-z]*', row)\n",
    "        latitude, longitude = re.findall('[0-9]{1,} [0-9]{1,} [SNWE]', row)\n",
    "        cities.append({'city': city, \n",
    "                       'latitude': latitude, \n",
    "                       'longitude': longitude})\n",
    "    return cities\n",
    "\n",
    "def to_degrees(city):\n",
    "    dms_to_deg = lambda deg, minutes, direction: (float(deg) + float(minutes)/60) * (-1 if direction in ['W', 'S'] else 1)\n",
    "    \n",
    "    latitude = city['latitude']\n",
    "    longitude = city['longitude']\n",
    "\n",
    "    lat = dms_to_deg(*re.split('[ ]', latitude))\n",
    "    long = dms_to_deg(*re.split('[ ]', longitude))\n",
    "\n",
    "    return radians(lat), radians(long)\n",
    "    \n",
    "def calc_d(city1, city2):\n",
    "    # calculates the distance between two coordinates\n",
    "    lat1, lon1 = to_degrees(city1)\n",
    "    lat2, lon2 = to_degrees(city2)\n",
    "    \n",
    "    R = 6372.8 # km\n",
    "\n",
    "    dlon = lon2 - lon1\n",
    "    dlat = lat2 - lat1\n",
    "\n",
    "    a = (sin(dlat/2)**2) + (cos(lat1) * cos(lat2) * (sin(dlon/2)**2))\n",
    "    c = 2 * asin(sqrt(a)) \n",
    "    \n",
    "    distance = R * c\n",
    "    return distance # km\n",
    "\n",
    "def get_distance_matrix(cities):\n",
    "    # Generates a distance matrix from a list of cities with coordinates\n",
    "    index_matrix = [[(i, j) for j in range(len(cities))] for i in range(len(cities))]\n",
    "    \n",
    "    distance_matrix = [[calc_d(cities[i_tup[0]], cities[i_tup[1]]) for i_tup in row] for row in index_matrix]\n",
    "    return np.array([np.array(row) for row in distance_matrix])\n",
    "\n",
    "def cal_total_distance(routine):\n",
    "    num_points, = routine.shape\n",
    "    return sum([distance_matrix[routine[i % num_points], routine[(i + 1) % num_points]] for i in range(num_points)])\n"
   ]
  },
  {
   "cell_type": "code",
   "execution_count": 271,
   "id": "029a4533",
   "metadata": {
    "scrolled": true
   },
   "outputs": [
    {
     "name": "stdout",
     "output_type": "stream",
     "text": [
      "{'city': ['Aberdeen, Scotland'], 'latitude': '57 9 N', 'longitude': '2 9 W'}\n",
      "{'city': ['Auckland, New'], 'latitude': '36 52 S', 'longitude': '174 45 E'}\n",
      "17753.055281277047\n"
     ]
    }
   ],
   "source": [
    "i = 0\n",
    "j = 7\n",
    "\n",
    "print(cities[i])\n",
    "print(cities[j])\n",
    "print(distance_matrix[i][j])\n"
   ]
  },
  {
   "cell_type": "code",
   "execution_count": 298,
   "id": "b7d81ab7",
   "metadata": {},
   "outputs": [
    {
     "name": "stderr",
     "output_type": "stream",
     "text": [
      "/var/folders/01/_wv7n9yj3gndbty36gzv6wk00000gn/T/ipykernel_5668/2187204180.py:13: DeprecationWarning: executable_path has been deprecated, please pass in a Service object\n",
      "  driver = webdriver.Chrome('./chromedriver', options = options)\n",
      "/var/folders/01/_wv7n9yj3gndbty36gzv6wk00000gn/T/ipykernel_5668/2187204180.py:16: DeprecationWarning: find_element_by_* commands are deprecated. Please use find_element() instead\n",
      "  elem = driver.find_element_by_id(\"A0001770\")\n"
     ]
    }
   ],
   "source": [
    "data = get_data()\n",
    "cities = get_cities(data)\n",
    "distance_matrix = get_distance_matrix(cities)"
   ]
  },
  {
   "cell_type": "code",
   "execution_count": 303,
   "id": "93f3755d",
   "metadata": {
    "scrolled": true
   },
   "outputs": [],
   "source": [
    "# TODO Add path back to 0\n",
    "\n",
    "num_points = len(cities)\n",
    "size_pop = 50\n",
    "max_iter = 250\n",
    "\n",
    "start = time.time()\n",
    "aca = ACA_TSP(func=cal_total_distance, \n",
    "              n_dim=num_points,\n",
    "              size_pop=size_pop, max_iter=max_iter,\n",
    "              distance_matrix=distance_matrix)\n",
    "\n",
    "best_x, best_y = aca.run()\n",
    "stop = time.time()\n",
    "\n",
    "time_elapsed = stop-start\n",
    "\n",
    "result = {'routine': best_x, 'distance': best_y, 'time', time_elapsed, 'pop_size': size_pop, 'max_iter': max_iter, 'string': f'Routine: {best_x}\\n\\nDistance: {round(best_y)}km\\n\\nTime: {round(time_elapsed)} sec\\n\\nPopulation size: {size_pop}\\n\\nMax iterations: {max_iter}'}\n"
   ]
  },
  {
   "cell_type": "code",
   "execution_count": 317,
   "id": "eeca14bd",
   "metadata": {},
   "outputs": [
    {
     "name": "stdout",
     "output_type": "stream",
     "text": [
      "Routine: [  0  41  44  12  39  64  68  61  85  21  93  65  22   3  19  47  14  34\n",
      "  88 107  50 102  77 117  95 115  24  13 106  23  86   4   6  26  72  38\n",
      "  81 109  40  56  29  58  36 100  98 103   5  35 101  25  76  53  60  62\n",
      "  46  16  89  57  49  45 114  74  71  32  30  43  90  31  11  18  67  63\n",
      "   2   9  75 119  42  78  66  70  91  99  83 113 112 110  17  84  27  96\n",
      "   8  59 105  55  92   1  73  51 118   7 108  20  94  37  69  52  28  33\n",
      "  82 104  79  87  80 111 116  10  54  48  97  15]\n",
      "\n",
      "Distance: 124260km\n",
      "\n",
      "Time: 72 sec\n",
      "\n",
      "Population size: 50\n",
      "\n",
      "Max iterations: 250\n"
     ]
    }
   ],
   "source": [
    "print(f'Routine: {best_x}\\n\\nDistance: {round(best_y)}km\\n\\nTime: {round(time_elapsed)} sec\\n\\nPopulation size: {size_pop}\\n\\nMax iterations: {max_iter}')\n"
   ]
  },
  {
   "cell_type": "code",
   "execution_count": null,
   "id": "352c5d9b",
   "metadata": {},
   "outputs": [],
   "source": []
  }
 ],
 "metadata": {
  "kernelspec": {
   "display_name": "Python 3 (ipykernel)",
   "language": "python",
   "name": "python3"
  },
  "language_info": {
   "codemirror_mode": {
    "name": "ipython",
    "version": 3
   },
   "file_extension": ".py",
   "mimetype": "text/x-python",
   "name": "python",
   "nbconvert_exporter": "python",
   "pygments_lexer": "ipython3",
   "version": "3.8.5"
  }
 },
 "nbformat": 4,
 "nbformat_minor": 5
}
