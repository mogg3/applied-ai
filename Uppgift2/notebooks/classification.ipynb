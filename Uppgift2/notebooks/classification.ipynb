{
 "cells": [
  {
   "cell_type": "code",
   "execution_count": 32,
   "id": "9dc0e2b6",
   "metadata": {},
   "outputs": [],
   "source": [
    "import os\n",
    "import pandas as pd\n",
    "import matplotlib.pyplot as plt"
   ]
  },
  {
   "cell_type": "code",
   "execution_count": 114,
   "id": "aa26390b",
   "metadata": {},
   "outputs": [
    {
     "data": {
      "text/html": [
       "<div>\n",
       "<style scoped>\n",
       "    .dataframe tbody tr th:only-of-type {\n",
       "        vertical-align: middle;\n",
       "    }\n",
       "\n",
       "    .dataframe tbody tr th {\n",
       "        vertical-align: top;\n",
       "    }\n",
       "\n",
       "    .dataframe thead th {\n",
       "        text-align: right;\n",
       "    }\n",
       "</style>\n",
       "<table border=\"1\" class=\"dataframe\">\n",
       "  <thead>\n",
       "    <tr style=\"text-align: right;\">\n",
       "      <th></th>\n",
       "      <th>Plasma renin activity</th>\n",
       "      <th>Aldosterone-to-renin ratio -more detailed ranges in Aldosterone/renin ratio article</th>\n",
       "      <th>Oxygen saturation</th>\n",
       "      <th>17α-Hydroxyprogesterone</th>\n",
       "      <th>Anti ds-DNA</th>\n",
       "      <th>Reticulocyte hemoglobin equivalent</th>\n",
       "      <th>Fibrinogen</th>\n",
       "      <th>Procalcitonin</th>\n",
       "      <th>SHBG -more detailed ranges in SHBG article</th>\n",
       "      <th>[H+]</th>\n",
       "      <th>...</th>\n",
       "      <th>Luteinizing hormone (LH)-more detailed menstrual cycle ranges in separate diagram</th>\n",
       "      <th>Alpha 1-antitrypsin (AAT)</th>\n",
       "      <th>Eosinophil cationic protein (ECP)</th>\n",
       "      <th>Absolute content of carbon dioxide (CO2)</th>\n",
       "      <th>Chloride (Cl)</th>\n",
       "      <th>Amylase</th>\n",
       "      <th>IgM</th>\n",
       "      <th>Copper (Cu)</th>\n",
       "      <th>Viscosity</th>\n",
       "      <th>Outcome</th>\n",
       "    </tr>\n",
       "  </thead>\n",
       "  <tbody>\n",
       "    <tr>\n",
       "      <th>0</th>\n",
       "      <td>955.281824</td>\n",
       "      <td>6.008015</td>\n",
       "      <td>7.679162</td>\n",
       "      <td>8181.376094</td>\n",
       "      <td>637.176162</td>\n",
       "      <td>1655.935340</td>\n",
       "      <td>5572.232595</td>\n",
       "      <td>295.898724</td>\n",
       "      <td>8168.540684</td>\n",
       "      <td>1912.478041</td>\n",
       "      <td>...</td>\n",
       "      <td>9919.820568</td>\n",
       "      <td>4.764464</td>\n",
       "      <td>1911.290743</td>\n",
       "      <td>4.793836</td>\n",
       "      <td>7405.484356</td>\n",
       "      <td>10.522503</td>\n",
       "      <td>4644.152278</td>\n",
       "      <td>3.086409</td>\n",
       "      <td>7269.046415</td>\n",
       "      <td>0</td>\n",
       "    </tr>\n",
       "    <tr>\n",
       "      <th>1</th>\n",
       "      <td>1230.105982</td>\n",
       "      <td>16.004716</td>\n",
       "      <td>13.758903</td>\n",
       "      <td>10160.744348</td>\n",
       "      <td>826.173179</td>\n",
       "      <td>2005.291945</td>\n",
       "      <td>6645.645696</td>\n",
       "      <td>367.173919</td>\n",
       "      <td>9936.287732</td>\n",
       "      <td>2597.155427</td>\n",
       "      <td>...</td>\n",
       "      <td>12058.542281</td>\n",
       "      <td>21.412708</td>\n",
       "      <td>2225.412113</td>\n",
       "      <td>5.465201</td>\n",
       "      <td>8928.703718</td>\n",
       "      <td>20.770201</td>\n",
       "      <td>5900.118535</td>\n",
       "      <td>12.234226</td>\n",
       "      <td>8818.661328</td>\n",
       "      <td>0</td>\n",
       "    </tr>\n",
       "    <tr>\n",
       "      <th>2</th>\n",
       "      <td>1368.526126</td>\n",
       "      <td>3.397476</td>\n",
       "      <td>5.733414</td>\n",
       "      <td>11757.239383</td>\n",
       "      <td>963.221156</td>\n",
       "      <td>2309.067904</td>\n",
       "      <td>8208.582321</td>\n",
       "      <td>437.166464</td>\n",
       "      <td>11233.856279</td>\n",
       "      <td>2918.152097</td>\n",
       "      <td>...</td>\n",
       "      <td>14481.374431</td>\n",
       "      <td>5.024250</td>\n",
       "      <td>2828.177336</td>\n",
       "      <td>2.918513</td>\n",
       "      <td>10384.582517</td>\n",
       "      <td>1.224893</td>\n",
       "      <td>6798.340905</td>\n",
       "      <td>17.303987</td>\n",
       "      <td>10614.577165</td>\n",
       "      <td>0</td>\n",
       "    </tr>\n",
       "    <tr>\n",
       "      <th>3</th>\n",
       "      <td>1127.887803</td>\n",
       "      <td>6.128786</td>\n",
       "      <td>5.891781</td>\n",
       "      <td>9134.772017</td>\n",
       "      <td>737.518529</td>\n",
       "      <td>1859.595041</td>\n",
       "      <td>6469.579061</td>\n",
       "      <td>340.152779</td>\n",
       "      <td>9009.068421</td>\n",
       "      <td>2392.056388</td>\n",
       "      <td>...</td>\n",
       "      <td>10919.936385</td>\n",
       "      <td>1.362570</td>\n",
       "      <td>2130.646124</td>\n",
       "      <td>2.115228</td>\n",
       "      <td>8229.748093</td>\n",
       "      <td>2.486947</td>\n",
       "      <td>5371.300693</td>\n",
       "      <td>19.875223</td>\n",
       "      <td>8077.366728</td>\n",
       "      <td>0</td>\n",
       "    </tr>\n",
       "    <tr>\n",
       "      <th>4</th>\n",
       "      <td>1279.789838</td>\n",
       "      <td>11.834707</td>\n",
       "      <td>2.035606</td>\n",
       "      <td>10233.512908</td>\n",
       "      <td>836.776751</td>\n",
       "      <td>2064.653384</td>\n",
       "      <td>7036.941075</td>\n",
       "      <td>377.650340</td>\n",
       "      <td>10082.609454</td>\n",
       "      <td>2723.896231</td>\n",
       "      <td>...</td>\n",
       "      <td>12106.667363</td>\n",
       "      <td>13.604294</td>\n",
       "      <td>2284.807267</td>\n",
       "      <td>1.553677</td>\n",
       "      <td>9033.725105</td>\n",
       "      <td>0.833231</td>\n",
       "      <td>6061.031816</td>\n",
       "      <td>11.714379</td>\n",
       "      <td>8916.594576</td>\n",
       "      <td>0</td>\n",
       "    </tr>\n",
       "  </tbody>\n",
       "</table>\n",
       "<p>5 rows × 160 columns</p>\n",
       "</div>"
      ],
      "text/plain": [
       "   Plasma renin activity  \\\n",
       "0             955.281824   \n",
       "1            1230.105982   \n",
       "2            1368.526126   \n",
       "3            1127.887803   \n",
       "4            1279.789838   \n",
       "\n",
       "   Aldosterone-to-renin ratio -more detailed ranges in Aldosterone/renin ratio article  \\\n",
       "0                                           6.008015                                     \n",
       "1                                          16.004716                                     \n",
       "2                                           3.397476                                     \n",
       "3                                           6.128786                                     \n",
       "4                                          11.834707                                     \n",
       "\n",
       "   Oxygen saturation  17α-Hydroxyprogesterone  Anti ds-DNA  \\\n",
       "0           7.679162              8181.376094   637.176162   \n",
       "1          13.758903             10160.744348   826.173179   \n",
       "2           5.733414             11757.239383   963.221156   \n",
       "3           5.891781              9134.772017   737.518529   \n",
       "4           2.035606             10233.512908   836.776751   \n",
       "\n",
       "   Reticulocyte hemoglobin equivalent   Fibrinogen  Procalcitonin  \\\n",
       "0                         1655.935340  5572.232595     295.898724   \n",
       "1                         2005.291945  6645.645696     367.173919   \n",
       "2                         2309.067904  8208.582321     437.166464   \n",
       "3                         1859.595041  6469.579061     340.152779   \n",
       "4                         2064.653384  7036.941075     377.650340   \n",
       "\n",
       "   SHBG -more detailed ranges in SHBG article         [H+]  ...  \\\n",
       "0                                 8168.540684  1912.478041  ...   \n",
       "1                                 9936.287732  2597.155427  ...   \n",
       "2                                11233.856279  2918.152097  ...   \n",
       "3                                 9009.068421  2392.056388  ...   \n",
       "4                                10082.609454  2723.896231  ...   \n",
       "\n",
       "   Luteinizing hormone (LH)-more detailed menstrual cycle ranges in separate diagram  \\\n",
       "0                                        9919.820568                                   \n",
       "1                                       12058.542281                                   \n",
       "2                                       14481.374431                                   \n",
       "3                                       10919.936385                                   \n",
       "4                                       12106.667363                                   \n",
       "\n",
       "   Alpha 1-antitrypsin (AAT)  Eosinophil cationic protein (ECP)  \\\n",
       "0                   4.764464                        1911.290743   \n",
       "1                  21.412708                        2225.412113   \n",
       "2                   5.024250                        2828.177336   \n",
       "3                   1.362570                        2130.646124   \n",
       "4                  13.604294                        2284.807267   \n",
       "\n",
       "   Absolute content of carbon dioxide (CO2)  Chloride (Cl)    Amylase  \\\n",
       "0                                  4.793836    7405.484356  10.522503   \n",
       "1                                  5.465201    8928.703718  20.770201   \n",
       "2                                  2.918513   10384.582517   1.224893   \n",
       "3                                  2.115228    8229.748093   2.486947   \n",
       "4                                  1.553677    9033.725105   0.833231   \n",
       "\n",
       "           IgM  Copper (Cu)     Viscosity  Outcome  \n",
       "0  4644.152278     3.086409   7269.046415        0  \n",
       "1  5900.118535    12.234226   8818.661328        0  \n",
       "2  6798.340905    17.303987  10614.577165        0  \n",
       "3  5371.300693    19.875223   8077.366728        0  \n",
       "4  6061.031816    11.714379   8916.594576        0  \n",
       "\n",
       "[5 rows x 160 columns]"
      ]
     },
     "execution_count": 114,
     "metadata": {},
     "output_type": "execute_result"
    }
   ],
   "source": [
    "train_data, test_data = pd.read_csv('../data/class_train.csv'), pd.read_csv('../data/class_test.csv')\n",
    "data = pd.concat([train_data, test_data], ignore_index = True)\n",
    "data.head()"
   ]
  },
  {
   "cell_type": "code",
   "execution_count": 34,
   "id": "d4354b81",
   "metadata": {
    "scrolled": true
   },
   "outputs": [
    {
     "name": "stdout",
     "output_type": "stream",
     "text": [
      "<class 'pandas.core.frame.DataFrame'>\n",
      "RangeIndex: 116 entries, 0 to 115\n",
      "Columns: 160 entries, Plasma renin activity to Outcome\n",
      "dtypes: float64(157), int64(3)\n",
      "memory usage: 145.1 KB\n"
     ]
    }
   ],
   "source": [
    "data.info()"
   ]
  },
  {
   "cell_type": "markdown",
   "id": "e3b17321",
   "metadata": {},
   "source": [
    "Som vi ser jämte 'dtypes' så har vi inga nan värden i datasetet"
   ]
  },
  {
   "cell_type": "code",
   "execution_count": 35,
   "id": "584c8dec",
   "metadata": {},
   "outputs": [],
   "source": [
    "import numpy as np\n",
    "import sklearn.decomposition\n",
    "\n",
    "def do_pca(X, n_components = 128):\n",
    "    scaler = StandardScaler()\n",
    "    scaler.fit(X)\n",
    "    X = scaler.transform(X)\n",
    "    pca = sklearn.decomposition.PCA(n_components = n_components)\n",
    "    principal_components = pca.fit_transform(X)\n",
    "    return principal_components, pca"
   ]
  },
  {
   "cell_type": "code",
   "execution_count": 118,
   "id": "f0068bb6",
   "metadata": {},
   "outputs": [],
   "source": [
    "from sklearn.metrics import f1_score, precision_score, recall_score, fbeta_score\n",
    "from sklearn.ensemble import GradientBoostingClassifier\n",
    "from sklearn.model_selection import train_test_split\n",
    "from imblearn.over_sampling import SMOTE\n",
    "from sklearn.preprocessing import StandardScaler\n",
    "from sklearn.linear_model import LogisticRegression\n",
    "\n",
    "def fit_and_process_data(df, clf , fix_imbalance = True, n_pc_components = None, beta = 1):\n",
    "    # denna funktion är till för att lätt kunna välja olika preprocessing tekniker \n",
    "    # och se hur de påverkar resultatet.\n",
    "    \n",
    "    X = df.drop(columns = ['Outcome'])\n",
    "    Y = df['Outcome']\n",
    "    \n",
    "    if fix_imbalance:\n",
    "        sm = SMOTE(random_state=42)\n",
    "        X, Y = sm.fit_resample(X, Y)\n",
    "    \n",
    "    if n_pc_components:\n",
    "        X, _ = do_pca(X, n_components = n_pc_components)\n",
    "    \n",
    "    if clf == 'GBC':\n",
    "        model = GradientBoostingClassifier(n_estimators=500, learning_rate=1,max_depth=1, random_state=0)\n",
    "    elif clf == 'LOGREG':\n",
    "        model = LogisticRegression(random_state=0)\n",
    "        \n",
    "    X_train, X_test, y_train, y_test = train_test_split(X, Y, random_state = 0, test_size = 0.3)\n",
    "    model.fit(X_train, y_train)\n",
    "        \n",
    "    predictions = model.predict(X_test)\n",
    "    \n",
    "    if clf == 'GBC':\n",
    "        feature_importance = model.feature_importances_\n",
    "    else:\n",
    "        feature_importance = None\n",
    "\n",
    "    fb_score = fbeta_score(y_test, predictions, average='macro', beta=beta)\n",
    "    f1_score_ = f1_score(y_test, predictions, average='macro')\n",
    "    precision = precision_score(y_test, predictions, average='macro')\n",
    "    recall = recall_score(y_test, predictions, average='macro')\n",
    "\n",
    "    result = {'X': X,\n",
    "              'Y': Y,\n",
    "              'x_train': X_train,\n",
    "              'x_test': X_test, \n",
    "              'y_train': y_train,\n",
    "              'y_test': y_test,\n",
    "              'predictions': predictions,\n",
    "              'f1_score': f1_score_,\n",
    "              'beta': beta,\n",
    "              \"fbeta_score\": fb_score,\n",
    "              'model': model, \n",
    "              'precision': precision,\n",
    "              'recall': recall,\n",
    "              'feature_importance': feature_importance,\n",
    "              'n_components': n_pc_components\n",
    "             }\n",
    "    return result\n"
   ]
  },
  {
   "cell_type": "markdown",
   "id": "0bf8f366",
   "metadata": {},
   "source": [
    "## Class imbalance"
   ]
  },
  {
   "cell_type": "code",
   "execution_count": 119,
   "id": "1f742b98",
   "metadata": {
    "scrolled": true
   },
   "outputs": [
    {
     "name": "stdout",
     "output_type": "stream",
     "text": [
      "1    64\n",
      "0    52\n",
      "Name: Outcome, dtype: int64\n"
     ]
    }
   ],
   "source": [
    "print(data['Outcome'].value_counts())"
   ]
  },
  {
   "cell_type": "markdown",
   "id": "29e4e74b",
   "metadata": {},
   "source": [
    "Som vi ser så har vi en liten obalans i klasserna. Vi har 12 mer exempel från klass 1"
   ]
  },
  {
   "cell_type": "markdown",
   "id": "75c45202",
   "metadata": {},
   "source": [
    "## Logistic regression"
   ]
  },
  {
   "cell_type": "code",
   "execution_count": null,
   "id": "bd07e53f",
   "metadata": {},
   "outputs": [],
   "source": [
    "log_reg_result_imbalanced = fit_and_process_data(data, clf = 'LOGREG', fix_imbalance = False)\n",
    "log_reg_result_fix_imbalance = fit_and_process_data(data, clf = 'LOGREG')"
   ]
  },
  {
   "cell_type": "code",
   "execution_count": 110,
   "id": "2a8ca783",
   "metadata": {
    "scrolled": false
   },
   "outputs": [
    {
     "name": "stdout",
     "output_type": "stream",
     "text": [
      "Score before fixing class imbalance:\n",
      "f1score 0.6173254835996635\n",
      "\n",
      "After fixing class imbalance:\n",
      "f1score 0.6112956810631229\n"
     ]
    },
    {
     "data": {
      "image/png": "[encoded data removed]",
      "text/plain": [
       "<Figure size 432x288 with 2 Axes>"
      ]
     },
     "metadata": {
      "needs_background": "light"
     },
     "output_type": "display_data"
    },
    {
     "data": {
      "image/png": "[encoded data removed]",
      "text/plain": [
       "<Figure size 432x288 with 2 Axes>"
      ]
     },
     "metadata": {
      "needs_background": "light"
     },
     "output_type": "display_data"
    }
   ],
   "source": [
    "from sklearn.metrics import plot_confusion_matrix\n",
    "\n",
    "print('Score before fixing class imbalance:\\nf1score', log_reg_result_imbalanced['f1_score'])\n",
    "print()\n",
    "print('After fixing class imbalance:\\nf1score', log_reg_result_fix_imbalance['f1_score'])\n",
    "\n",
    "plot_confusion_matrix(log_reg_result_imbalanced['model'], log_reg_result_imbalanced['x_test'], log_reg_result_imbalanced['y_test'])\n",
    "plt.title('Without SMOTE')\n",
    "plt.grid(False)\n",
    "\n",
    "plot_confusion_matrix(log_reg_result_fix_imbalance['model'], log_reg_result_fix_imbalance['x_test'], log_reg_result_fix_imbalance['y_test'])\n",
    "plt.title('With SMOTE')\n",
    "plt.grid(False)"
   ]
  },
  {
   "cell_type": "markdown",
   "id": "1d5e7c83",
   "metadata": {},
   "source": [
    "## GradientBoostingClassifier"
   ]
  },
  {
   "cell_type": "code",
   "execution_count": 40,
   "id": "2f6615a1",
   "metadata": {},
   "outputs": [],
   "source": [
    "GBC_result_imbalanced = fit_and_process_data(data, clf = 'GBC', fix_imbalance = False)\n",
    "GBC_result_fix_imbalance = fit_and_process_data(data, clf = 'GBC')"
   ]
  },
  {
   "cell_type": "code",
   "execution_count": 41,
   "id": "9a091312",
   "metadata": {},
   "outputs": [
    {
     "name": "stdout",
     "output_type": "stream",
     "text": [
      "Score before fixing class imbalance:\n",
      "f1score 0.5970394736842105\n",
      "\n",
      "After fixing class imbalance:\n",
      "f1score 0.7149501661129569\n"
     ]
    },
    {
     "data": {
      "image/png": "[encoded data removed]",
      "text/plain": [
       "<Figure size 432x288 with 2 Axes>"
      ]
     },
     "metadata": {
      "needs_background": "light"
     },
     "output_type": "display_data"
    },
    {
     "data": {
      "image/png": "[encoded data removed]",
      "text/plain": [
       "<Figure size 432x288 with 2 Axes>"
      ]
     },
     "metadata": {
      "needs_background": "light"
     },
     "output_type": "display_data"
    }
   ],
   "source": [
    "print('Score before fixing class imbalance:\\nf1score', GBC_result_imbalanced['f1_score'])\n",
    "print()\n",
    "print('After fixing class imbalance:\\nf1score', GBC_result_fix_imbalance['f1_score'])\n",
    "plot_confusion_matrix(GBC_result_imbalanced['model'], GBC_result_imbalanced['x_test'], GBC_result_imbalanced['y_test'])\n",
    "plt.title('Without SMOTE')\n",
    "plt.grid(False)\n",
    "plot_confusion_matrix(GBC_result_fix_imbalance['model'], GBC_result_fix_imbalance['x_test'], GBC_result_fix_imbalance['y_test'])\n",
    "plt.title('With SMOTE')\n",
    "plt.grid(False)"
   ]
  },
  {
   "cell_type": "code",
   "execution_count": 42,
   "id": "98c3253c",
   "metadata": {},
   "outputs": [],
   "source": [
    "sm = SMOTE(random_state=42)\n",
    "X, Y = sm.fit_resample(data.drop(columns = ['Outcome']), data['Outcome'])\n",
    "data = pd.concat([pd.DataFrame(X, columns = data.drop(columns = ['Outcome']).columns), pd.DataFrame(Y)], axis = 1)"
   ]
  },
  {
   "cell_type": "code",
   "execution_count": 43,
   "id": "d898000d",
   "metadata": {},
   "outputs": [
    {
     "data": {
      "text/html": [
       "<div>\n",
       "<style scoped>\n",
       "    .dataframe tbody tr th:only-of-type {\n",
       "        vertical-align: middle;\n",
       "    }\n",
       "\n",
       "    .dataframe tbody tr th {\n",
       "        vertical-align: top;\n",
       "    }\n",
       "\n",
       "    .dataframe thead th {\n",
       "        text-align: right;\n",
       "    }\n",
       "</style>\n",
       "<table border=\"1\" class=\"dataframe\">\n",
       "  <thead>\n",
       "    <tr style=\"text-align: right;\">\n",
       "      <th></th>\n",
       "      <th>Plasma renin activity</th>\n",
       "      <th>Aldosterone-to-renin ratio -more detailed ranges in Aldosterone/renin ratio article</th>\n",
       "      <th>Oxygen saturation</th>\n",
       "      <th>17α-Hydroxyprogesterone</th>\n",
       "      <th>Anti ds-DNA</th>\n",
       "      <th>Reticulocyte hemoglobin equivalent</th>\n",
       "      <th>Fibrinogen</th>\n",
       "      <th>Procalcitonin</th>\n",
       "      <th>SHBG -more detailed ranges in SHBG article</th>\n",
       "      <th>[H+]</th>\n",
       "      <th>...</th>\n",
       "      <th>Luteinizing hormone (LH)-more detailed menstrual cycle ranges in separate diagram</th>\n",
       "      <th>Alpha 1-antitrypsin (AAT)</th>\n",
       "      <th>Eosinophil cationic protein (ECP)</th>\n",
       "      <th>Absolute content of carbon dioxide (CO2)</th>\n",
       "      <th>Chloride (Cl)</th>\n",
       "      <th>Amylase</th>\n",
       "      <th>IgM</th>\n",
       "      <th>Copper (Cu)</th>\n",
       "      <th>Viscosity</th>\n",
       "      <th>Outcome</th>\n",
       "    </tr>\n",
       "  </thead>\n",
       "  <tbody>\n",
       "    <tr>\n",
       "      <th>0</th>\n",
       "      <td>955.281824</td>\n",
       "      <td>6.008015</td>\n",
       "      <td>7.679162</td>\n",
       "      <td>8181.376094</td>\n",
       "      <td>637.176162</td>\n",
       "      <td>1655.935340</td>\n",
       "      <td>5572.232595</td>\n",
       "      <td>295.898724</td>\n",
       "      <td>8168.540684</td>\n",
       "      <td>1912.478041</td>\n",
       "      <td>...</td>\n",
       "      <td>9919.820568</td>\n",
       "      <td>4.764464</td>\n",
       "      <td>1911.290743</td>\n",
       "      <td>4.793836</td>\n",
       "      <td>7405.484356</td>\n",
       "      <td>10.522503</td>\n",
       "      <td>4644.152278</td>\n",
       "      <td>3.086409</td>\n",
       "      <td>7269.046415</td>\n",
       "      <td>0</td>\n",
       "    </tr>\n",
       "    <tr>\n",
       "      <th>1</th>\n",
       "      <td>1230.105982</td>\n",
       "      <td>16.004716</td>\n",
       "      <td>13.758903</td>\n",
       "      <td>10160.744348</td>\n",
       "      <td>826.173179</td>\n",
       "      <td>2005.291945</td>\n",
       "      <td>6645.645696</td>\n",
       "      <td>367.173919</td>\n",
       "      <td>9936.287732</td>\n",
       "      <td>2597.155427</td>\n",
       "      <td>...</td>\n",
       "      <td>12058.542281</td>\n",
       "      <td>21.412708</td>\n",
       "      <td>2225.412113</td>\n",
       "      <td>5.465201</td>\n",
       "      <td>8928.703718</td>\n",
       "      <td>20.770201</td>\n",
       "      <td>5900.118535</td>\n",
       "      <td>12.234226</td>\n",
       "      <td>8818.661328</td>\n",
       "      <td>0</td>\n",
       "    </tr>\n",
       "    <tr>\n",
       "      <th>2</th>\n",
       "      <td>1368.526126</td>\n",
       "      <td>3.397476</td>\n",
       "      <td>5.733414</td>\n",
       "      <td>11757.239383</td>\n",
       "      <td>963.221156</td>\n",
       "      <td>2309.067904</td>\n",
       "      <td>8208.582321</td>\n",
       "      <td>437.166464</td>\n",
       "      <td>11233.856279</td>\n",
       "      <td>2918.152097</td>\n",
       "      <td>...</td>\n",
       "      <td>14481.374431</td>\n",
       "      <td>5.024250</td>\n",
       "      <td>2828.177336</td>\n",
       "      <td>2.918513</td>\n",
       "      <td>10384.582517</td>\n",
       "      <td>1.224893</td>\n",
       "      <td>6798.340905</td>\n",
       "      <td>17.303987</td>\n",
       "      <td>10614.577165</td>\n",
       "      <td>0</td>\n",
       "    </tr>\n",
       "    <tr>\n",
       "      <th>3</th>\n",
       "      <td>1127.887803</td>\n",
       "      <td>6.128786</td>\n",
       "      <td>5.891781</td>\n",
       "      <td>9134.772017</td>\n",
       "      <td>737.518529</td>\n",
       "      <td>1859.595041</td>\n",
       "      <td>6469.579061</td>\n",
       "      <td>340.152779</td>\n",
       "      <td>9009.068421</td>\n",
       "      <td>2392.056388</td>\n",
       "      <td>...</td>\n",
       "      <td>10919.936385</td>\n",
       "      <td>1.362570</td>\n",
       "      <td>2130.646124</td>\n",
       "      <td>2.115228</td>\n",
       "      <td>8229.748093</td>\n",
       "      <td>2.486947</td>\n",
       "      <td>5371.300693</td>\n",
       "      <td>19.875223</td>\n",
       "      <td>8077.366728</td>\n",
       "      <td>0</td>\n",
       "    </tr>\n",
       "    <tr>\n",
       "      <th>4</th>\n",
       "      <td>1279.789838</td>\n",
       "      <td>11.834707</td>\n",
       "      <td>2.035606</td>\n",
       "      <td>10233.512908</td>\n",
       "      <td>836.776751</td>\n",
       "      <td>2064.653384</td>\n",
       "      <td>7036.941075</td>\n",
       "      <td>377.650340</td>\n",
       "      <td>10082.609454</td>\n",
       "      <td>2723.896231</td>\n",
       "      <td>...</td>\n",
       "      <td>12106.667363</td>\n",
       "      <td>13.604294</td>\n",
       "      <td>2284.807267</td>\n",
       "      <td>1.553677</td>\n",
       "      <td>9033.725105</td>\n",
       "      <td>0.833231</td>\n",
       "      <td>6061.031816</td>\n",
       "      <td>11.714379</td>\n",
       "      <td>8916.594576</td>\n",
       "      <td>0</td>\n",
       "    </tr>\n",
       "    <tr>\n",
       "      <th>...</th>\n",
       "      <td>...</td>\n",
       "      <td>...</td>\n",
       "      <td>...</td>\n",
       "      <td>...</td>\n",
       "      <td>...</td>\n",
       "      <td>...</td>\n",
       "      <td>...</td>\n",
       "      <td>...</td>\n",
       "      <td>...</td>\n",
       "      <td>...</td>\n",
       "      <td>...</td>\n",
       "      <td>...</td>\n",
       "      <td>...</td>\n",
       "      <td>...</td>\n",
       "      <td>...</td>\n",
       "      <td>...</td>\n",
       "      <td>...</td>\n",
       "      <td>...</td>\n",
       "      <td>...</td>\n",
       "      <td>...</td>\n",
       "      <td>...</td>\n",
       "    </tr>\n",
       "    <tr>\n",
       "      <th>123</th>\n",
       "      <td>1261.768484</td>\n",
       "      <td>4.972566</td>\n",
       "      <td>0.897038</td>\n",
       "      <td>10404.139195</td>\n",
       "      <td>840.221596</td>\n",
       "      <td>2078.321945</td>\n",
       "      <td>7248.233929</td>\n",
       "      <td>387.854492</td>\n",
       "      <td>10138.785518</td>\n",
       "      <td>2663.594336</td>\n",
       "      <td>...</td>\n",
       "      <td>12360.001255</td>\n",
       "      <td>1.445159</td>\n",
       "      <td>2395.963298</td>\n",
       "      <td>10.222503</td>\n",
       "      <td>9481.237941</td>\n",
       "      <td>10.617637</td>\n",
       "      <td>6062.680685</td>\n",
       "      <td>8.031410</td>\n",
       "      <td>9086.479073</td>\n",
       "      <td>0</td>\n",
       "    </tr>\n",
       "    <tr>\n",
       "      <th>124</th>\n",
       "      <td>1411.588361</td>\n",
       "      <td>7.947410</td>\n",
       "      <td>3.173109</td>\n",
       "      <td>12323.967117</td>\n",
       "      <td>906.852283</td>\n",
       "      <td>2434.473826</td>\n",
       "      <td>8039.064345</td>\n",
       "      <td>419.997620</td>\n",
       "      <td>11616.671104</td>\n",
       "      <td>2754.737372</td>\n",
       "      <td>...</td>\n",
       "      <td>14862.916775</td>\n",
       "      <td>5.457917</td>\n",
       "      <td>2860.629384</td>\n",
       "      <td>6.057196</td>\n",
       "      <td>12087.123589</td>\n",
       "      <td>5.502411</td>\n",
       "      <td>6626.857417</td>\n",
       "      <td>8.963607</td>\n",
       "      <td>10824.067681</td>\n",
       "      <td>0</td>\n",
       "    </tr>\n",
       "    <tr>\n",
       "      <th>125</th>\n",
       "      <td>1401.606128</td>\n",
       "      <td>15.375763</td>\n",
       "      <td>5.565881</td>\n",
       "      <td>12455.740706</td>\n",
       "      <td>887.453757</td>\n",
       "      <td>2536.991430</td>\n",
       "      <td>8033.522448</td>\n",
       "      <td>413.680343</td>\n",
       "      <td>12180.499391</td>\n",
       "      <td>2756.486744</td>\n",
       "      <td>...</td>\n",
       "      <td>15350.062473</td>\n",
       "      <td>12.699347</td>\n",
       "      <td>3031.023230</td>\n",
       "      <td>5.904589</td>\n",
       "      <td>12164.049745</td>\n",
       "      <td>3.269728</td>\n",
       "      <td>6560.970757</td>\n",
       "      <td>5.639798</td>\n",
       "      <td>11319.273466</td>\n",
       "      <td>0</td>\n",
       "    </tr>\n",
       "    <tr>\n",
       "      <th>126</th>\n",
       "      <td>1716.781644</td>\n",
       "      <td>12.373950</td>\n",
       "      <td>12.690409</td>\n",
       "      <td>14854.046940</td>\n",
       "      <td>1102.981890</td>\n",
       "      <td>2933.406155</td>\n",
       "      <td>9525.450734</td>\n",
       "      <td>498.184480</td>\n",
       "      <td>13935.676362</td>\n",
       "      <td>3455.468390</td>\n",
       "      <td>...</td>\n",
       "      <td>18060.975316</td>\n",
       "      <td>7.080159</td>\n",
       "      <td>3454.827608</td>\n",
       "      <td>12.408969</td>\n",
       "      <td>14323.675892</td>\n",
       "      <td>19.620786</td>\n",
       "      <td>7992.712584</td>\n",
       "      <td>4.949075</td>\n",
       "      <td>13163.880287</td>\n",
       "      <td>0</td>\n",
       "    </tr>\n",
       "    <tr>\n",
       "      <th>127</th>\n",
       "      <td>1510.554738</td>\n",
       "      <td>12.584809</td>\n",
       "      <td>15.997743</td>\n",
       "      <td>13705.388302</td>\n",
       "      <td>995.034265</td>\n",
       "      <td>2743.463679</td>\n",
       "      <td>8591.722620</td>\n",
       "      <td>458.878770</td>\n",
       "      <td>13459.351227</td>\n",
       "      <td>2996.426727</td>\n",
       "      <td>...</td>\n",
       "      <td>16844.971953</td>\n",
       "      <td>8.609722</td>\n",
       "      <td>3278.332077</td>\n",
       "      <td>7.278393</td>\n",
       "      <td>13127.963395</td>\n",
       "      <td>19.666078</td>\n",
       "      <td>7225.417717</td>\n",
       "      <td>6.236313</td>\n",
       "      <td>12357.036613</td>\n",
       "      <td>0</td>\n",
       "    </tr>\n",
       "  </tbody>\n",
       "</table>\n",
       "<p>128 rows × 160 columns</p>\n",
       "</div>"
      ],
      "text/plain": [
       "     Plasma renin activity  \\\n",
       "0               955.281824   \n",
       "1              1230.105982   \n",
       "2              1368.526126   \n",
       "3              1127.887803   \n",
       "4              1279.789838   \n",
       "..                     ...   \n",
       "123            1261.768484   \n",
       "124            1411.588361   \n",
       "125            1401.606128   \n",
       "126            1716.781644   \n",
       "127            1510.554738   \n",
       "\n",
       "     Aldosterone-to-renin ratio -more detailed ranges in Aldosterone/renin ratio article  \\\n",
       "0                                             6.008015                                     \n",
       "1                                            16.004716                                     \n",
       "2                                             3.397476                                     \n",
       "3                                             6.128786                                     \n",
       "4                                            11.834707                                     \n",
       "..                                                 ...                                     \n",
       "123                                           4.972566                                     \n",
       "124                                           7.947410                                     \n",
       "125                                          15.375763                                     \n",
       "126                                          12.373950                                     \n",
       "127                                          12.584809                                     \n",
       "\n",
       "     Oxygen saturation  17α-Hydroxyprogesterone  Anti ds-DNA  \\\n",
       "0             7.679162              8181.376094   637.176162   \n",
       "1            13.758903             10160.744348   826.173179   \n",
       "2             5.733414             11757.239383   963.221156   \n",
       "3             5.891781              9134.772017   737.518529   \n",
       "4             2.035606             10233.512908   836.776751   \n",
       "..                 ...                      ...          ...   \n",
       "123           0.897038             10404.139195   840.221596   \n",
       "124           3.173109             12323.967117   906.852283   \n",
       "125           5.565881             12455.740706   887.453757   \n",
       "126          12.690409             14854.046940  1102.981890   \n",
       "127          15.997743             13705.388302   995.034265   \n",
       "\n",
       "     Reticulocyte hemoglobin equivalent   Fibrinogen  Procalcitonin  \\\n",
       "0                           1655.935340  5572.232595     295.898724   \n",
       "1                           2005.291945  6645.645696     367.173919   \n",
       "2                           2309.067904  8208.582321     437.166464   \n",
       "3                           1859.595041  6469.579061     340.152779   \n",
       "4                           2064.653384  7036.941075     377.650340   \n",
       "..                                  ...          ...            ...   \n",
       "123                         2078.321945  7248.233929     387.854492   \n",
       "124                         2434.473826  8039.064345     419.997620   \n",
       "125                         2536.991430  8033.522448     413.680343   \n",
       "126                         2933.406155  9525.450734     498.184480   \n",
       "127                         2743.463679  8591.722620     458.878770   \n",
       "\n",
       "     SHBG -more detailed ranges in SHBG article         [H+]  ...  \\\n",
       "0                                   8168.540684  1912.478041  ...   \n",
       "1                                   9936.287732  2597.155427  ...   \n",
       "2                                  11233.856279  2918.152097  ...   \n",
       "3                                   9009.068421  2392.056388  ...   \n",
       "4                                  10082.609454  2723.896231  ...   \n",
       "..                                          ...          ...  ...   \n",
       "123                                10138.785518  2663.594336  ...   \n",
       "124                                11616.671104  2754.737372  ...   \n",
       "125                                12180.499391  2756.486744  ...   \n",
       "126                                13935.676362  3455.468390  ...   \n",
       "127                                13459.351227  2996.426727  ...   \n",
       "\n",
       "     Luteinizing hormone (LH)-more detailed menstrual cycle ranges in separate diagram  \\\n",
       "0                                          9919.820568                                   \n",
       "1                                         12058.542281                                   \n",
       "2                                         14481.374431                                   \n",
       "3                                         10919.936385                                   \n",
       "4                                         12106.667363                                   \n",
       "..                                                 ...                                   \n",
       "123                                       12360.001255                                   \n",
       "124                                       14862.916775                                   \n",
       "125                                       15350.062473                                   \n",
       "126                                       18060.975316                                   \n",
       "127                                       16844.971953                                   \n",
       "\n",
       "     Alpha 1-antitrypsin (AAT)  Eosinophil cationic protein (ECP)  \\\n",
       "0                     4.764464                        1911.290743   \n",
       "1                    21.412708                        2225.412113   \n",
       "2                     5.024250                        2828.177336   \n",
       "3                     1.362570                        2130.646124   \n",
       "4                    13.604294                        2284.807267   \n",
       "..                         ...                                ...   \n",
       "123                   1.445159                        2395.963298   \n",
       "124                   5.457917                        2860.629384   \n",
       "125                  12.699347                        3031.023230   \n",
       "126                   7.080159                        3454.827608   \n",
       "127                   8.609722                        3278.332077   \n",
       "\n",
       "     Absolute content of carbon dioxide (CO2)  Chloride (Cl)    Amylase  \\\n",
       "0                                    4.793836    7405.484356  10.522503   \n",
       "1                                    5.465201    8928.703718  20.770201   \n",
       "2                                    2.918513   10384.582517   1.224893   \n",
       "3                                    2.115228    8229.748093   2.486947   \n",
       "4                                    1.553677    9033.725105   0.833231   \n",
       "..                                        ...            ...        ...   \n",
       "123                                 10.222503    9481.237941  10.617637   \n",
       "124                                  6.057196   12087.123589   5.502411   \n",
       "125                                  5.904589   12164.049745   3.269728   \n",
       "126                                 12.408969   14323.675892  19.620786   \n",
       "127                                  7.278393   13127.963395  19.666078   \n",
       "\n",
       "             IgM  Copper (Cu)     Viscosity  Outcome  \n",
       "0    4644.152278     3.086409   7269.046415        0  \n",
       "1    5900.118535    12.234226   8818.661328        0  \n",
       "2    6798.340905    17.303987  10614.577165        0  \n",
       "3    5371.300693    19.875223   8077.366728        0  \n",
       "4    6061.031816    11.714379   8916.594576        0  \n",
       "..           ...          ...           ...      ...  \n",
       "123  6062.680685     8.031410   9086.479073        0  \n",
       "124  6626.857417     8.963607  10824.067681        0  \n",
       "125  6560.970757     5.639798  11319.273466        0  \n",
       "126  7992.712584     4.949075  13163.880287        0  \n",
       "127  7225.417717     6.236313  12357.036613        0  \n",
       "\n",
       "[128 rows x 160 columns]"
      ]
     },
     "execution_count": 43,
     "metadata": {},
     "output_type": "execute_result"
    }
   ],
   "source": [
    "data"
   ]
  },
  {
   "cell_type": "code",
   "execution_count": 44,
   "id": "1c261833",
   "metadata": {},
   "outputs": [
    {
     "name": "stdout",
     "output_type": "stream",
     "text": [
      "0    64\n",
      "1    64\n",
      "Name: Outcome, dtype: int64\n"
     ]
    }
   ],
   "source": [
    "print(data['Outcome'].value_counts())"
   ]
  },
  {
   "cell_type": "markdown",
   "id": "b404da6d",
   "metadata": {},
   "source": [
    "Nu har vi balanserad data med lika många samples från varje klass"
   ]
  },
  {
   "cell_type": "markdown",
   "id": "bfe8ed32",
   "metadata": {},
   "source": [
    "## PCA"
   ]
  },
  {
   "cell_type": "code",
   "execution_count": 51,
   "id": "172fcdb0",
   "metadata": {},
   "outputs": [
    {
     "data": {
      "text/plain": [
       "[(0.6096175432234001, 1),\n",
       " (0.6313497796769955, 2),\n",
       " (0.6503399578401473, 3),\n",
       " (0.6673485457640768, 4),\n",
       " (0.6834234282031246, 5),\n",
       " (0.6986910337191048, 6),\n",
       " (0.7135594007234383, 7),\n",
       " (0.7273233357528252, 8),\n",
       " (0.741014622437313, 9),\n",
       " (0.7538765843289813, 10),\n",
       " (0.7658429261585034, 11),\n",
       " (0.7775583247897976, 12),\n",
       " (0.7887229442637204, 13),\n",
       " (0.7991272403125445, 14),\n",
       " (0.8092482285271224, 15),\n",
       " (0.8188091418301129, 16),\n",
       " (0.8282441843635034, 17),\n",
       " (0.8372678058799314, 18),\n",
       " (0.8457585928867308, 19),\n",
       " (0.8538738838246882, 20),\n",
       " (0.8617132211067232, 21),\n",
       " (0.8693812438413426, 22),\n",
       " (0.8768474126066746, 23),\n",
       " (0.8838220543580535, 24),\n",
       " (0.8906779051833307, 25),\n",
       " (0.8972122204858558, 26),\n",
       " (0.9033283548933667, 27),\n",
       " (0.9093881264607748, 28),\n",
       " (0.9153305222739121, 29),\n",
       " (0.9209542585752468, 30),\n",
       " (0.9265432847183288, 31),\n",
       " (0.9317648647188972, 32),\n",
       " (0.9366477636712406, 33),\n",
       " (0.9413340942871864, 34),\n",
       " (0.9456437438158727, 35),\n",
       " (0.9497753218594125, 36),\n",
       " (0.953810559077132, 37),\n",
       " (0.9577600620846987, 38),\n",
       " (0.9614302370486787, 39),\n",
       " (0.9648087222167107, 40),\n",
       " (0.967939065785635, 41),\n",
       " (0.970818546661577, 42),\n",
       " (0.973567790458662, 43),\n",
       " (0.9762142859947025, 44),\n",
       " (0.9786393548984614, 45),\n",
       " (0.9809998802303389, 46),\n",
       " (0.9831852766557969, 47),\n",
       " (0.9852126684734447, 48),\n",
       " (0.9871789696545178, 49),\n",
       " (0.9890085073928027, 50),\n",
       " (0.990662138349054, 51),\n",
       " (0.9921956676121526, 52),\n",
       " (0.9936425616055914, 53),\n",
       " (0.9949503302443099, 54),\n",
       " (0.9961325243648843, 55),\n",
       " (0.9971837524433896, 56),\n",
       " (0.9980861958536521, 57),\n",
       " (0.9987824384306065, 58),\n",
       " (0.9993840189784736, 59),\n",
       " (0.9998585098500936, 60),\n",
       " (0.9999996329683432, 61),\n",
       " (0.9999999555479188, 62),\n",
       " (1.0000000000000002, 63),\n",
       " (1.0000000000000002, 64),\n",
       " (1.0000000000000002, 65),\n",
       " (1.0000000000000002, 66),\n",
       " (1.0000000000000002, 67),\n",
       " (1.0000000000000002, 68),\n",
       " (1.0000000000000002, 69),\n",
       " (1.0000000000000002, 70),\n",
       " (1.0000000000000002, 71),\n",
       " (1.0000000000000002, 72),\n",
       " (1.0000000000000002, 73),\n",
       " (1.0000000000000002, 74),\n",
       " (1.0000000000000002, 75),\n",
       " (1.0000000000000002, 76),\n",
       " (1.0000000000000002, 77),\n",
       " (1.0000000000000002, 78),\n",
       " (1.0000000000000002, 79),\n",
       " (1.0000000000000002, 80),\n",
       " (1.0000000000000002, 81),\n",
       " (1.0000000000000002, 82),\n",
       " (1.0000000000000002, 83),\n",
       " (1.0000000000000002, 84),\n",
       " (1.0000000000000002, 85),\n",
       " (1.0000000000000002, 86),\n",
       " (1.0000000000000002, 87),\n",
       " (1.0000000000000002, 88),\n",
       " (1.0000000000000002, 89),\n",
       " (1.0000000000000002, 90),\n",
       " (1.0000000000000002, 91),\n",
       " (1.0000000000000002, 92),\n",
       " (1.0000000000000002, 93),\n",
       " (1.0000000000000002, 94),\n",
       " (1.0000000000000002, 95),\n",
       " (1.0000000000000002, 96),\n",
       " (1.0000000000000002, 97),\n",
       " (1.0000000000000002, 98),\n",
       " (1.0000000000000002, 99),\n",
       " (1.0000000000000002, 100),\n",
       " (1.0000000000000002, 101),\n",
       " (1.0000000000000002, 102),\n",
       " (1.0000000000000002, 103),\n",
       " (1.0000000000000002, 104),\n",
       " (1.0000000000000002, 105),\n",
       " (1.0000000000000002, 106),\n",
       " (1.0000000000000002, 107),\n",
       " (1.0000000000000002, 108),\n",
       " (1.0000000000000002, 109),\n",
       " (1.0000000000000002, 110),\n",
       " (1.0000000000000002, 111),\n",
       " (1.0000000000000002, 112),\n",
       " (1.0000000000000002, 113),\n",
       " (1.0000000000000002, 114),\n",
       " (1.0000000000000002, 115),\n",
       " (1.0000000000000002, 116),\n",
       " (1.0000000000000002, 117),\n",
       " (1.0000000000000002, 118),\n",
       " (1.0000000000000002, 119),\n",
       " (1.0000000000000002, 120),\n",
       " (1.0000000000000002, 121),\n",
       " (1.0000000000000002, 122),\n",
       " (1.0000000000000002, 123),\n",
       " (1.0000000000000002, 124),\n",
       " (1.0000000000000002, 125),\n",
       " (1.0000000000000002, 126),\n",
       " (1.0000000000000002, 127),\n",
       " (1.0000000000000002, 128)]"
      ]
     },
     "execution_count": 51,
     "metadata": {},
     "output_type": "execute_result"
    }
   ],
   "source": [
    "explained_variance_ratio_sum = [value + sum(explained_variance_ratio[:i]) for i, value in enumerate(explained_variance_ratio)]\n",
    "list(zip(explained_variance_ratio_sum, [i+1 for i in range(len(explained_variance_ratio_sum))]))\n"
   ]
  },
  {
   "cell_type": "code",
   "execution_count": 71,
   "id": "a44c026e",
   "metadata": {},
   "outputs": [
    {
     "data": {
      "image/png": "[encoded data removed]",
      "text/plain": [
       "<Figure size 720x576 with 1 Axes>"
      ]
     },
     "metadata": {},
     "output_type": "display_data"
    }
   ],
   "source": [
    "X = data.drop(columns = ['Outcome'])\n",
    "\n",
    "principal_components, pca = do_pca(X)\n",
    "\n",
    "explained_variance_ratio = pca.explained_variance_ratio_\n",
    "explained_variance_ratio_sum = [value + sum(explained_variance_ratio[:i]) for i, value in enumerate(explained_variance_ratio)]\n",
    "\n",
    "with plt.style.context('ggplot'):\n",
    "    n_components = 100\n",
    "    plt.figure(figsize = (10,8))\n",
    "    plt.plot([i+1 for i in range(len(explained_variance_ratio_sum[:n_components]))], explained_variance_ratio_sum[:n_components], linewidth = 3, color = 'blue')\n",
    "    plt.axhline(y=0.990662138349054, xmin = 0, xmax = 0.50, linestyle = '--', linewidth = 2)\n",
    "    plt.axvline(x=51, ymin = 0.04, ymax = 0.93, linestyle = '--', linewidth = 2)\n",
    "\n",
    "    y_ticks = list(np.arange(0.6, 1.05, step = 0.05))\n",
    "    y_ticks.insert(8,round(0.990662138349054, 3))\n",
    "\n",
    "    x_ticks = list(np.arange(0,100, step = 20))\n",
    "    x_ticks.insert(3, 51)\n",
    "    \n",
    "    plt.yticks(y_ticks)\n",
    "    plt.xticks(x_ticks)\n",
    "    \n",
    "    plt.title(f'Principal component 1-{n_components}')\n",
    "    plt.show()\n"
   ]
  },
  {
   "cell_type": "markdown",
   "id": "949991fa",
   "metadata": {},
   "source": [
    "På plotten ovan så kan vi se att vi med 51 st pc's kan representera 99.1% av den ursprunliga variansen i datan. Så ingenting över detta kommer att tillföra mycket till modellen. "
   ]
  },
  {
   "cell_type": "code",
   "execution_count": 89,
   "id": "ed5aa6a4",
   "metadata": {},
   "outputs": [],
   "source": [
    "# Kollar hur många pc som ger det bästa resultatet\n",
    "pcas = [fit_and_process_data(data, clf = 'GBC', n_pc_components = n) for n in range(1,52)]"
   ]
  },
  {
   "cell_type": "code",
   "execution_count": 121,
   "id": "f827349f",
   "metadata": {},
   "outputs": [],
   "source": [
    "pca = fit_and_process_data(data, clf = 'GBC', n_pc_components = 4)\n",
    "no_pca = fit_and_process_data(data, clf = 'GBC')"
   ]
  },
  {
   "cell_type": "code",
   "execution_count": 122,
   "id": "040f8002",
   "metadata": {},
   "outputs": [
    {
     "name": "stdout",
     "output_type": "stream",
     "text": [
      "Without PCA (f1-score): 0.7149501661129569 159 features\n",
      "With PCA (f1-score): 0.7172050098879368 4 features\n"
     ]
    }
   ],
   "source": [
    "print('Without PCA (f1-score):', no_pca['f1_score'], '159 features')\n",
    "print('With PCA (f1-score):', pca['f1_score'], f\"{pca['n_components']} features\")"
   ]
  },
  {
   "cell_type": "code",
   "execution_count": 123,
   "id": "1389a2f3",
   "metadata": {},
   "outputs": [
    {
     "data": {
      "image/png": "[encoded data removed]",
      "text/plain": [
       "<Figure size 504x504 with 2 Axes>"
      ]
     },
     "metadata": {},
     "output_type": "display_data"
    }
   ],
   "source": [
    "with plt.style.context('ggplot'):\n",
    "    matfig = plt.figure(figsize=(7,7))\n",
    "    plt.matshow(pd.DataFrame(no_pca['X']).corr(), fignum=matfig.number)\n",
    "    plt.grid(False)\n",
    "    plt.title('Correlations without PCA')\n",
    "    plt.colorbar(fraction = 0.045)"
   ]
  },
  {
   "cell_type": "code",
   "execution_count": 124,
   "id": "d8651c28",
   "metadata": {},
   "outputs": [
    {
     "data": {
      "image/png": "[encoded data removed]",
      "text/plain": [
       "<Figure size 504x504 with 2 Axes>"
      ]
     },
     "metadata": {},
     "output_type": "display_data"
    }
   ],
   "source": [
    "with plt.style.context('ggplot'):\n",
    "    matfig = plt.figure(figsize=(7,7))\n",
    "    plt.matshow(pd.DataFrame(pca['X']).corr(), fignum=matfig.number)\n",
    "    plt.grid(False)\n",
    "    plt.title('Correlations with PCA')\n",
    "    plt.colorbar(fraction = 0.045)"
   ]
  },
  {
   "cell_type": "code",
   "execution_count": 100,
   "id": "a5630fb7",
   "metadata": {},
   "outputs": [
    {
     "data": {
      "image/png": "[encoded data removed]",
      "text/plain": [
       "<Figure size 432x288 with 2 Axes>"
      ]
     },
     "metadata": {
      "needs_background": "light"
     },
     "output_type": "display_data"
    },
    {
     "data": {
      "image/png": "[encoded data removed]",
      "text/plain": [
       "<Figure size 432x288 with 2 Axes>"
      ]
     },
     "metadata": {
      "needs_background": "light"
     },
     "output_type": "display_data"
    }
   ],
   "source": [
    "from sklearn.metrics import plot_confusion_matrix\n",
    "\n",
    "plot_confusion_matrix(no_pca['model'], no_pca['x_test'], no_pca['y_test'])\n",
    "plt.title('No PCA')\n",
    "plt.grid(False)\n",
    "plot_confusion_matrix(pca['model'], pca['x_test'], pca['y_test'])\n",
    "plt.title('PCA')\n",
    "plt.grid(False)"
   ]
  },
  {
   "cell_type": "markdown",
   "id": "00aa394d",
   "metadata": {},
   "source": [
    "## Feature importance"
   ]
  },
  {
   "cell_type": "code",
   "execution_count": 101,
   "id": "7d64ad00",
   "metadata": {},
   "outputs": [
    {
     "data": {
      "image/png": "[encoded data removed]",
      "text/plain": [
       "<Figure size 576x360 with 1 Axes>"
      ]
     },
     "metadata": {
      "needs_background": "light"
     },
     "output_type": "display_data"
    },
    {
     "data": {
      "image/png": "[encoded data removed]",
      "text/plain": [
       "<Figure size 576x360 with 1 Axes>"
      ]
     },
     "metadata": {
      "needs_background": "light"
     },
     "output_type": "display_data"
    }
   ],
   "source": [
    "plt.figure(figsize=(8,5))\n",
    "plt.title('No PCA')\n",
    "plt.bar([i+1 for i in range(len(no_pca['feature_importance']))], no_pca['feature_importance'])\n",
    "plt.show()\n",
    "\n",
    "plt.figure(figsize=(8,5))\n",
    "plt.title('PCA')\n",
    "plt.bar([i+1 for i in range(len(pca['feature_importance']))], pca['feature_importance'])\n",
    "plt.show()"
   ]
  },
  {
   "cell_type": "markdown",
   "id": "51c7e0ea",
   "metadata": {},
   "source": [
    "Som vi ser så har vi med PCA inga onödiga features"
   ]
  },
  {
   "cell_type": "markdown",
   "id": "0deb22ff",
   "metadata": {},
   "source": [
    "# Final inference"
   ]
  },
  {
   "cell_type": "code",
   "execution_count": 102,
   "id": "1841865e",
   "metadata": {},
   "outputs": [],
   "source": [
    "def process_data(data, n_pc_components):\n",
    "    X = data.drop(columns = ['Outcome'])\n",
    "    Y = data['Outcome']\n",
    "    \n",
    "    # Fixa klass balans\n",
    "    sm = SMOTE(random_state=42)\n",
    "    X, Y = sm.fit_resample(X, Y)\n",
    "    \n",
    "    # Applicera pca\n",
    "    X, _ = do_pca(X, n_pc_components)\n",
    "    \n",
    "    return X, Y"
   ]
  },
  {
   "cell_type": "code",
   "execution_count": 103,
   "id": "e2bce3fd",
   "metadata": {},
   "outputs": [],
   "source": [
    "def train(X, Y, beta = 1):\n",
    "    X_train, X_test, y_train, y_test = train_test_split(X, Y, random_state = 0, test_size = 0.2, shuffle = True)\n",
    "\n",
    "    model = GradientBoostingClassifier(n_estimators=200, learning_rate=1, max_depth=2, random_state=0)\n",
    "    \n",
    "    model.fit(X_train, y_train)\n",
    "    predictions = model.predict(X_test)\n",
    "    \n",
    "    feature_importance = model.feature_importances_\n",
    "    fb_score = fbeta_score(y_test, predictions, average='macro', beta=beta)\n",
    "    \n",
    "    f1_score_ = f1_score(y_test, predictions, average='macro')\n",
    "    precision = precision_score(y_test, predictions, average='macro')\n",
    "    recall = recall_score(y_test, predictions, average='macro')\n",
    "\n",
    "    result = {'X': X,\n",
    "              'Y': Y,\n",
    "              'x_train': X_train,\n",
    "              'x_test': X_test, \n",
    "              'y_train': y_train,\n",
    "              'y_test': y_test,\n",
    "              'predictions': predictions,\n",
    "              'f1_score': f1_score_,\n",
    "              'beta': beta,\n",
    "              \"fb_score\": fb_score,\n",
    "              'model': model, \n",
    "              'precision': precision,\n",
    "              'recall': recall,\n",
    "              'feature_importance': feature_importance,\n",
    "             }\n",
    "    return result"
   ]
  },
  {
   "cell_type": "code",
   "execution_count": 104,
   "id": "088f511f",
   "metadata": {},
   "outputs": [],
   "source": [
    "train_data, test_data = pd.read_csv('../data/class_train.csv'), pd.read_csv('../data/class_test.csv')\n",
    "data = pd.concat([train_data, test_data], ignore_index = True)\n",
    "\n",
    "X, Y = process_data(data, n_pc_components = 4)"
   ]
  },
  {
   "cell_type": "code",
   "execution_count": 126,
   "id": "e62b0b01",
   "metadata": {},
   "outputs": [
    {
     "name": "stdout",
     "output_type": "stream",
     "text": [
      "0.7892777364110201\n"
     ]
    }
   ],
   "source": [
    "# beta = 0.5\n",
    "\n",
    "result = train(X,Y, beta = 0.5)\n",
    "print(result['fb_score'])"
   ]
  },
  {
   "cell_type": "code",
   "execution_count": 125,
   "id": "76e05b01",
   "metadata": {},
   "outputs": [
    {
     "name": "stdout",
     "output_type": "stream",
     "text": [
      "0.7678571428571428\n"
     ]
    }
   ],
   "source": [
    "# beta = 1\n",
    "\n",
    "result = train(X,Y, beta = 1)\n",
    "print(result['fb_score'])"
   ]
  },
  {
   "cell_type": "code",
   "execution_count": 127,
   "id": "ece6776c",
   "metadata": {},
   "outputs": [
    {
     "name": "stdout",
     "output_type": "stream",
     "text": [
      "0.7769066286528867\n"
     ]
    }
   ],
   "source": [
    "# beta = 2\n",
    "\n",
    "result = train(X,Y, beta = 2)\n",
    "print(result['fb_score'])"
   ]
  }
 ],
 "metadata": {
  "kernelspec": {
   "display_name": "Python 3 (ipykernel)",
   "language": "python",
   "name": "python3"
  },
  "language_info": {
   "codemirror_mode": {
    "name": "ipython",
    "version": 3
   },
   "file_extension": ".py",
   "mimetype": "text/x-python",
   "name": "python",
   "nbconvert_exporter": "python",
   "pygments_lexer": "ipython3",
   "version": "3.8.5"
  }
 },
 "nbformat": 4,
 "nbformat_minor": 5
}
