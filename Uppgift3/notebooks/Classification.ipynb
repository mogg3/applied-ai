{
 "cells": [
  {
   "cell_type": "markdown",
   "metadata": {
    "id": "RCEuj1bag2Yo"
   },
   "source": [
    "# 3 Classification"
   ]
  },
  {
   "cell_type": "code",
   "execution_count": 2,
   "metadata": {
    "executionInfo": {
     "elapsed": 7082,
     "status": "ok",
     "timestamp": 1643722946225,
     "user": {
      "displayName": "Sara Kaminska",
      "photoUrl": "https://lh3.googleusercontent.com/a-/AOh14GgrTlLeBJKPdjhFwNOeZeHYSIbb7eXnorQBgjmWBg=s64",
      "userId": "14580715952336851036"
     },
     "user_tz": -60
    },
    "id": "EN5T8AWPg2Y0"
   },
   "outputs": [],
   "source": [
    "import torch\n",
    "import torch.nn as nn\n",
    "from torch.nn.functional import cross_entropy\n",
    "from torch.optim import SGD, Adam\n",
    "from torch.utils.data import Dataset, DataLoader, random_split\n",
    "from torchvision import datasets\n",
    "from torchvision.transforms import ToTensor\n",
    "\n",
    "from datetime import datetime\n",
    "import matplotlib.pyplot as plt\n",
    "import numpy as np\n",
    "import pandas as pd\n",
    "import seaborn as sn\n",
    "from sklearn.metrics import confusion_matrix"
   ]
  },
  {
   "cell_type": "code",
   "execution_count": 3,
   "metadata": {
    "executionInfo": {
     "elapsed": 479,
     "status": "aborted",
     "timestamp": 1643723830887,
     "user": {
      "displayName": "Sara Kaminska",
      "photoUrl": "https://lh3.googleusercontent.com/a-/AOh14GgrTlLeBJKPdjhFwNOeZeHYSIbb7eXnorQBgjmWBg=s64",
      "userId": "14580715952336851036"
     },
     "user_tz": -60
    },
    "id": "qPuHG32gg2Y4"
   },
   "outputs": [],
   "source": [
    "train_data = datasets.FashionMNIST(root='data', \n",
    "                                   train=True, \n",
    "                                   download=True, \n",
    "                                   transform=ToTensor())\n",
    "\n",
    "test_data = datasets.FashionMNIST(root='data', \n",
    "                                  train=False,\n",
    "                                  transform=ToTensor(),\n",
    "                                  download=True)\n",
    "\n",
    "train, valid = random_split(train_data, [50000, 10000])\n",
    "\n",
    "train_loader = DataLoader(dataset=train, \n",
    "                          batch_size=100, \n",
    "                          shuffle=True)\n",
    "\n",
    "valid_loader = DataLoader(dataset=valid, \n",
    "                          batch_size=100, \n",
    "                          shuffle=True)\n",
    "\n",
    "test_loader = DataLoader(dataset=test_data, \n",
    "                         batch_size=100, \n",
    "                         shuffle=False)\n"
   ]
  },
  {
   "cell_type": "code",
   "execution_count": 10,
   "metadata": {
    "executionInfo": {
     "elapsed": 59,
     "status": "ok",
     "timestamp": 1643722949074,
     "user": {
      "displayName": "Sara Kaminska",
      "photoUrl": "https://lh3.googleusercontent.com/a-/AOh14GgrTlLeBJKPdjhFwNOeZeHYSIbb7eXnorQBgjmWBg=s64",
      "userId": "14580715952336851036"
     },
     "user_tz": -60
    },
    "id": "47dQ1wwhg2Y6"
   },
   "outputs": [],
   "source": [
    "class NeuralNetwork(nn.Module):\n",
    "    def __init__(self, input_size, output_size):\n",
    "        super(NeuralNetwork, self).__init__()\n",
    "        self.l1 = nn.Linear(input_size, 512)\n",
    "        self.relu = nn.ReLU()\n",
    "        self.l2 = nn.Linear(512, 256)\n",
    "        self.l3 = nn.Linear(256, 128)\n",
    "        self.l4 = nn.Linear(128, output_size)\n",
    "        \n",
    "    def forward(self, x):\n",
    "        x = x.reshape(-1, 28*28)\n",
    "        x = self.l1(x)\n",
    "        x = self.relu(x)\n",
    "        x = self.l2(x)\n",
    "        x = self.relu(x)\n",
    "        x = self.l3(x)\n",
    "        x = self.relu(x)        \n",
    "        x = self.l4(x)\n",
    "        return x\n",
    "        "
   ]
  },
  {
   "cell_type": "code",
   "execution_count": 5,
   "metadata": {
    "executionInfo": {
     "elapsed": 60,
     "status": "ok",
     "timestamp": 1643722949076,
     "user": {
      "displayName": "Sara Kaminska",
      "photoUrl": "https://lh3.googleusercontent.com/a-/AOh14GgrTlLeBJKPdjhFwNOeZeHYSIbb7eXnorQBgjmWBg=s64",
      "userId": "14580715952336851036"
     },
     "user_tz": -60
    },
    "id": "00Frnd86g2Y9"
   },
   "outputs": [],
   "source": [
    "def fit_model(model, opt, criterion, x, y):\n",
    "    opt.zero_grad()\n",
    "    preds = model(x)\n",
    "    train_loss = criterion(preds, y)\n",
    "    train_loss.backward()\n",
    "    opt.step()"
   ]
  },
  {
   "cell_type": "code",
   "execution_count": 6,
   "metadata": {
    "executionInfo": {
     "elapsed": 58,
     "status": "ok",
     "timestamp": 1643722949077,
     "user": {
      "displayName": "Sara Kaminska",
      "photoUrl": "https://lh3.googleusercontent.com/a-/AOh14GgrTlLeBJKPdjhFwNOeZeHYSIbb7eXnorQBgjmWBg=s64",
      "userId": "14580715952336851036"
     },
     "user_tz": -60
    },
    "id": "IIB7rFbrg2ZA"
   },
   "outputs": [],
   "source": [
    "def validate_model(model, criterion, valid_data):\n",
    "    with torch.no_grad():\n",
    "        n_correct = 0\n",
    "        n_samples = 0\n",
    "        for x, y in valid_data:\n",
    "            preds = model(x)\n",
    "            valid_loss = criterion(preds, y)\n",
    "            _, predicted = torch.max(preds.data, 1)\n",
    "            n_samples += y.size(0)\n",
    "            n_correct += (predicted == y).sum().item()\n",
    "        accuracy = 100.0 * n_correct / n_samples\n",
    "    return valid_loss.item(), accuracy"
   ]
  },
  {
   "cell_type": "code",
   "execution_count": 6,
   "metadata": {
    "executionInfo": {
     "elapsed": 54,
     "status": "ok",
     "timestamp": 1643722949079,
     "user": {
      "displayName": "Sara Kaminska",
      "photoUrl": "https://lh3.googleusercontent.com/a-/AOh14GgrTlLeBJKPdjhFwNOeZeHYSIbb7eXnorQBgjmWBg=s64",
      "userId": "14580715952336851036"
     },
     "user_tz": -60
    },
    "id": "iU5XhLVEg2ZB"
   },
   "outputs": [],
   "source": [
    "def load_model(path):\n",
    "    model = torch.load(path)\n",
    "    return model"
   ]
  },
  {
   "cell_type": "code",
   "execution_count": 7,
   "metadata": {
    "executionInfo": {
     "elapsed": 53,
     "status": "ok",
     "timestamp": 1643722949081,
     "user": {
      "displayName": "Sara Kaminska",
      "photoUrl": "https://lh3.googleusercontent.com/a-/AOh14GgrTlLeBJKPdjhFwNOeZeHYSIbb7eXnorQBgjmWBg=s64",
      "userId": "14580715952336851036"
     },
     "user_tz": -60
    },
    "id": "LoMN7dSIg2ZC"
   },
   "outputs": [],
   "source": [
    "best_over_all_hyperparameters = None\n",
    "best_over_all_loss = np.inf"
   ]
  },
  {
   "cell_type": "code",
   "execution_count": 8,
   "metadata": {
    "executionInfo": {
     "elapsed": 53,
     "status": "ok",
     "timestamp": 1643722949083,
     "user": {
      "displayName": "Sara Kaminska",
      "photoUrl": "https://lh3.googleusercontent.com/a-/AOh14GgrTlLeBJKPdjhFwNOeZeHYSIbb7eXnorQBgjmWBg=s64",
      "userId": "14580715952336851036"
     },
     "user_tz": -60
    },
    "id": "qprUfpP5g2ZD"
   },
   "outputs": [],
   "source": [
    "def fit_evaluate_and_save(train_data, valid_data, optimizer='Adam', learning_rate=None, num_epochs=10, criterion=cross_entropy, scale_data=False):\n",
    "    model = NeuralNetwork(28*28, 10)\n",
    "    min_valid_loss = np.inf\n",
    "    accuracy_for_best_model = 0\n",
    "    global best_over_all_loss\n",
    "    global best_over_all_hyperparameters\n",
    "    \n",
    "    if scale_data:\n",
    "        scaler = StandardScaler()\n",
    "        x = scaler.fit_transform(x)\n",
    "    \n",
    "    if optimizer == 'Adam':\n",
    "        if learning_rate:\n",
    "            opt = Adam(model.parameters(), lr=learning_rate)\n",
    "        else: \n",
    "            opt = Adam(model.parameters())\n",
    "            learning_rate = 0.001 # default learning rate for Adam\n",
    "    elif optimizer == 'SGD':\n",
    "        opt = SGD(model.parameters(), lr=learning_rate)\n",
    "    \n",
    "    for epoch in range(num_epochs):\n",
    "        for x, y in train_data:\n",
    "            fit_model(model, opt, criterion, x, y)\n",
    "        \n",
    "        valid_loss, accuracy = validate_model(model, criterion, valid_data)\n",
    "        \n",
    "        if (epoch+1) % 2 == 0:\n",
    "            print(f'Epoch: {epoch+1}/{num_epochs}, Validation loss: {valid_loss}, Accuracy: {accuracy}')\n",
    "        \n",
    "        if min_valid_loss > valid_loss:\n",
    "            min_valid_loss = valid_loss\n",
    "            accuracy_for_best_model = accuracy\n",
    "            torch.save(model, 'best_model.pt')\n",
    "        \n",
    "        if best_over_all_loss > valid_loss:\n",
    "            best_over_all_loss = valid_loss\n",
    "            best_over_all_hyperparameters = {'Optimizer': optimizer, 'Learning rate': learning_rate}\n",
    "        \n",
    "    print(f'{\"-\"*10}\\nBEST RESULT Loss: {min_valid_loss}, Accuracy: {accuracy_for_best_model}')"
   ]
  },
  {
   "cell_type": "markdown",
   "metadata": {
    "id": "lv018mLog2ZF"
   },
   "source": [
    "## Optimizer: Adam"
   ]
  },
  {
   "cell_type": "code",
   "execution_count": 9,
   "metadata": {
    "colab": {
     "base_uri": "https://localhost:8080/"
    },
    "executionInfo": {
     "elapsed": 133199,
     "status": "ok",
     "timestamp": 1643723082231,
     "user": {
      "displayName": "Sara Kaminska",
      "photoUrl": "https://lh3.googleusercontent.com/a-/AOh14GgrTlLeBJKPdjhFwNOeZeHYSIbb7eXnorQBgjmWBg=s64",
      "userId": "14580715952336851036"
     },
     "user_tz": -60
    },
    "id": "3SdxG3fVg2ZG",
    "outputId": "6533ff70-86b9-408c-9f6c-9d4b7cbf6824",
    "scrolled": true
   },
   "outputs": [
    {
     "name": "stdout",
     "output_type": "stream",
     "text": [
      "Batch size: 32\n",
      "Optimizer: Adam\n",
      "Learning rate: default (0.001)\n",
      "----------\n",
      "Epoch: 2/10, Validation loss: 0.31121718883514404, Accuracy: 86.72\n",
      "Epoch: 4/10, Validation loss: 0.3210783898830414, Accuracy: 87.92\n",
      "Epoch: 6/10, Validation loss: 0.23818263411521912, Accuracy: 88.6\n",
      "Epoch: 8/10, Validation loss: 0.2879265546798706, Accuracy: 88.26\n",
      "Epoch: 10/10, Validation loss: 0.22046878933906555, Accuracy: 89.23\n",
      "----------\n",
      "BEST RESULT Loss: 0.22046878933906555, Accuracy: 89.23\n"
     ]
    }
   ],
   "source": [
    "print(f'Batch size: 32\\nOptimizer: Adam\\nLearning rate: default (0.001)\\n{\"-\"*10}')\n",
    "fit_evaluate_and_save(train_loader, valid_loader)"
   ]
  },
  {
   "cell_type": "markdown",
   "metadata": {
    "id": "f-frkCQhg2ZI"
   },
   "source": [
    "#### With learning rate"
   ]
  },
  {
   "cell_type": "code",
   "execution_count": 10,
   "metadata": {
    "colab": {
     "base_uri": "https://localhost:8080/"
    },
    "executionInfo": {
     "elapsed": 129683,
     "status": "ok",
     "timestamp": 1643723211891,
     "user": {
      "displayName": "Sara Kaminska",
      "photoUrl": "https://lh3.googleusercontent.com/a-/AOh14GgrTlLeBJKPdjhFwNOeZeHYSIbb7eXnorQBgjmWBg=s64",
      "userId": "14580715952336851036"
     },
     "user_tz": -60
    },
    "id": "9XVWD2S_g2ZJ",
    "outputId": "042b5ee6-3496-40c9-c041-8abaeb1de3f4"
   },
   "outputs": [
    {
     "name": "stdout",
     "output_type": "stream",
     "text": [
      "Batch size: 32\n",
      "Optimizer: Adam\n",
      "Learning rate: 0.01\n",
      "----------\n",
      "Epoch: 2/10, Validation loss: 0.5346977710723877, Accuracy: 84.3\n",
      "Epoch: 4/10, Validation loss: 0.3484540581703186, Accuracy: 85.42\n",
      "Epoch: 6/10, Validation loss: 0.4495679438114166, Accuracy: 85.86\n",
      "Epoch: 8/10, Validation loss: 0.33930516242980957, Accuracy: 86.44\n",
      "Epoch: 10/10, Validation loss: 0.4314340353012085, Accuracy: 86.93\n",
      "----------\n",
      "BEST RESULT Loss: 0.2498931884765625, Accuracy: 85.93\n"
     ]
    }
   ],
   "source": [
    "print(f'Batch size: 32\\nOptimizer: Adam\\nLearning rate: 0.01\\n{\"-\"*10}')\n",
    "fit_evaluate_and_save(train_loader, valid_loader, learning_rate=0.01)"
   ]
  },
  {
   "cell_type": "code",
   "execution_count": 11,
   "metadata": {
    "colab": {
     "base_uri": "https://localhost:8080/"
    },
    "executionInfo": {
     "elapsed": 127482,
     "status": "ok",
     "timestamp": 1643723339338,
     "user": {
      "displayName": "Sara Kaminska",
      "photoUrl": "https://lh3.googleusercontent.com/a-/AOh14GgrTlLeBJKPdjhFwNOeZeHYSIbb7eXnorQBgjmWBg=s64",
      "userId": "14580715952336851036"
     },
     "user_tz": -60
    },
    "id": "PAX06q9Dg2ZK",
    "outputId": "94f596b7-396e-4d4f-851a-786edf570ea4",
    "scrolled": true
   },
   "outputs": [
    {
     "name": "stdout",
     "output_type": "stream",
     "text": [
      "Batch size: 32\n",
      "Optimizer: Adam\n",
      "Learning rate: 0.0001\n",
      "----------\n",
      "Epoch: 2/10, Validation loss: 0.5266912579536438, Accuracy: 83.69\n",
      "Epoch: 4/10, Validation loss: 0.6224396824836731, Accuracy: 85.89\n",
      "Epoch: 6/10, Validation loss: 0.36769646406173706, Accuracy: 86.29\n",
      "Epoch: 8/10, Validation loss: 0.35642287135124207, Accuracy: 87.04\n",
      "Epoch: 10/10, Validation loss: 0.29495781660079956, Accuracy: 87.27\n",
      "----------\n",
      "BEST RESULT Loss: 0.29495781660079956, Accuracy: 87.27\n"
     ]
    }
   ],
   "source": [
    "print(f'Batch size: 32\\nOptimizer: Adam\\nLearning rate: 0.0001\\n{\"-\"*10}')\n",
    "fit_evaluate_and_save(train_loader, valid_loader, learning_rate=0.0001)"
   ]
  },
  {
   "cell_type": "markdown",
   "metadata": {
    "id": "xa1z6kFJg2ZM"
   },
   "source": [
    "## Optimizer: SGD"
   ]
  },
  {
   "cell_type": "markdown",
   "metadata": {
    "id": "gqwFvcyHg2ZM"
   },
   "source": [
    "#### With learning rate"
   ]
  },
  {
   "cell_type": "code",
   "execution_count": 12,
   "metadata": {
    "colab": {
     "base_uri": "https://localhost:8080/"
    },
    "executionInfo": {
     "elapsed": 127074,
     "status": "ok",
     "timestamp": 1643723466380,
     "user": {
      "displayName": "Sara Kaminska",
      "photoUrl": "https://lh3.googleusercontent.com/a-/AOh14GgrTlLeBJKPdjhFwNOeZeHYSIbb7eXnorQBgjmWBg=s64",
      "userId": "14580715952336851036"
     },
     "user_tz": -60
    },
    "id": "GNWVacKhg2ZO",
    "outputId": "7d66cc1e-3479-492a-9593-5c5086ffcdeb"
   },
   "outputs": [
    {
     "name": "stdout",
     "output_type": "stream",
     "text": [
      "Batch size: 32\n",
      "Optimizer: SGD\n",
      "Learning rate: 0.1\n",
      "----------\n",
      "Epoch: 2/10, Validation loss: 0.4222935438156128, Accuracy: 84.05\n",
      "Epoch: 4/10, Validation loss: 0.2771618366241455, Accuracy: 85.0\n",
      "Epoch: 6/10, Validation loss: 0.5280365943908691, Accuracy: 87.31\n",
      "Epoch: 8/10, Validation loss: 0.26415643095970154, Accuracy: 87.19\n",
      "Epoch: 10/10, Validation loss: 0.5067051649093628, Accuracy: 86.85\n",
      "----------\n",
      "BEST RESULT Loss: 0.26415643095970154, Accuracy: 87.19\n"
     ]
    }
   ],
   "source": [
    "print(f'Batch size: 32\\nOptimizer: SGD\\nLearning rate: 0.1\\n{\"-\"*10}')\n",
    "fit_evaluate_and_save(train_loader, valid_loader, optimizer='SGD', learning_rate=0.1)"
   ]
  },
  {
   "cell_type": "code",
   "execution_count": 13,
   "metadata": {
    "colab": {
     "base_uri": "https://localhost:8080/"
    },
    "executionInfo": {
     "elapsed": 120831,
     "status": "ok",
     "timestamp": 1643723587188,
     "user": {
      "displayName": "Sara Kaminska",
      "photoUrl": "https://lh3.googleusercontent.com/a-/AOh14GgrTlLeBJKPdjhFwNOeZeHYSIbb7eXnorQBgjmWBg=s64",
      "userId": "14580715952336851036"
     },
     "user_tz": -60
    },
    "id": "u2tok5f-g2ZQ",
    "outputId": "6faeaf76-a8a1-472a-b40e-6c0d83f4b2f9"
   },
   "outputs": [
    {
     "name": "stdout",
     "output_type": "stream",
     "text": [
      "Batch size: 32\n",
      "Optimizer: SGD\n",
      "Learning rate: 0.2\n",
      "----------\n",
      "Epoch: 2/10, Validation loss: 0.490193247795105, Accuracy: 82.19\n",
      "Epoch: 4/10, Validation loss: 0.32334476709365845, Accuracy: 86.04\n",
      "Epoch: 6/10, Validation loss: 0.36150795221328735, Accuracy: 87.73\n",
      "Epoch: 8/10, Validation loss: 0.3986224830150604, Accuracy: 87.32\n",
      "Epoch: 10/10, Validation loss: 0.25883522629737854, Accuracy: 88.31\n",
      "----------\n",
      "BEST RESULT Loss: 0.25883522629737854, Accuracy: 88.31\n"
     ]
    }
   ],
   "source": [
    "print(f'Batch size: 32\\nOptimizer: SGD\\nLearning rate: 0.2\\n{\"-\"*10}')\n",
    "fit_evaluate_and_save(train_loader, valid_loader, optimizer='SGD', learning_rate=0.2)"
   ]
  },
  {
   "cell_type": "code",
   "execution_count": 14,
   "metadata": {
    "colab": {
     "base_uri": "https://localhost:8080/"
    },
    "executionInfo": {
     "elapsed": 120580,
     "status": "ok",
     "timestamp": 1643723707735,
     "user": {
      "displayName": "Sara Kaminska",
      "photoUrl": "https://lh3.googleusercontent.com/a-/AOh14GgrTlLeBJKPdjhFwNOeZeHYSIbb7eXnorQBgjmWBg=s64",
      "userId": "14580715952336851036"
     },
     "user_tz": -60
    },
    "id": "z7DVeeAIg2ZR",
    "outputId": "d7da4906-8f3d-4bcf-d3f2-1d2b1c958801"
   },
   "outputs": [
    {
     "name": "stdout",
     "output_type": "stream",
     "text": [
      "Batch size: 32\n",
      "Optimizer: SGD\n",
      "Learning rate: 0.3\n",
      "----------\n",
      "Epoch: 2/10, Validation loss: 0.3973372280597687, Accuracy: 85.31\n",
      "Epoch: 4/10, Validation loss: 0.3543364405632019, Accuracy: 85.21\n",
      "Epoch: 6/10, Validation loss: 0.3452518880367279, Accuracy: 86.53\n",
      "Epoch: 8/10, Validation loss: 0.40305545926094055, Accuracy: 85.07\n",
      "Epoch: 10/10, Validation loss: 0.39225396513938904, Accuracy: 88.24\n",
      "----------\n",
      "BEST RESULT Loss: 0.2488970160484314, Accuracy: 88.65\n"
     ]
    }
   ],
   "source": [
    "print(f'Batch size: 32\\nOptimizer: SGD\\nLearning rate: 0.3\\n{\"-\"*10}')\n",
    "fit_evaluate_and_save(train_loader, valid_loader, optimizer='SGD', learning_rate=0.3)"
   ]
  },
  {
   "cell_type": "code",
   "execution_count": 15,
   "metadata": {
    "colab": {
     "base_uri": "https://localhost:8080/"
    },
    "executionInfo": {
     "elapsed": 120303,
     "status": "ok",
     "timestamp": 1643723827999,
     "user": {
      "displayName": "Sara Kaminska",
      "photoUrl": "https://lh3.googleusercontent.com/a-/AOh14GgrTlLeBJKPdjhFwNOeZeHYSIbb7eXnorQBgjmWBg=s64",
      "userId": "14580715952336851036"
     },
     "user_tz": -60
    },
    "id": "KDzFJhcLg2ZT",
    "outputId": "4bde3a2e-1a25-4ddb-ad1e-852e6d9d4460",
    "scrolled": true
   },
   "outputs": [
    {
     "name": "stdout",
     "output_type": "stream",
     "text": [
      "Batch size: 32\n",
      "Optimizer: SGD\n",
      "Learning rate: 0.4\n",
      "----------\n",
      "Epoch: 2/10, Validation loss: 0.4076199233531952, Accuracy: 84.34\n",
      "Epoch: 4/10, Validation loss: 0.4473590552806854, Accuracy: 87.0\n",
      "Epoch: 6/10, Validation loss: 0.3730437159538269, Accuracy: 87.96\n",
      "Epoch: 8/10, Validation loss: 0.5339323878288269, Accuracy: 84.44\n",
      "Epoch: 10/10, Validation loss: 0.43703749775886536, Accuracy: 89.08\n",
      "----------\n",
      "BEST RESULT Loss: 0.3243286907672882, Accuracy: 87.06\n"
     ]
    }
   ],
   "source": [
    "print(f'Batch size: 32\\nOptimizer: SGD\\nLearning rate: 0.4\\n{\"-\"*10}')\n",
    "fit_evaluate_and_save(train_loader, valid_loader, optimizer='SGD', learning_rate=0.4)"
   ]
  },
  {
   "cell_type": "markdown",
   "metadata": {
    "id": "T4ieguC-g2ZU"
   },
   "source": [
    "## Best hypermarameters found"
   ]
  },
  {
   "cell_type": "code",
   "execution_count": 16,
   "metadata": {
    "colab": {
     "base_uri": "https://localhost:8080/"
    },
    "executionInfo": {
     "elapsed": 42,
     "status": "ok",
     "timestamp": 1643723828001,
     "user": {
      "displayName": "Sara Kaminska",
      "photoUrl": "https://lh3.googleusercontent.com/a-/AOh14GgrTlLeBJKPdjhFwNOeZeHYSIbb7eXnorQBgjmWBg=s64",
      "userId": "14580715952336851036"
     },
     "user_tz": -60
    },
    "id": "2k2zlOd_g2ZU",
    "outputId": "3c5acb82-080a-4753-ac05-46505b282c14"
   },
   "outputs": [
    {
     "name": "stdout",
     "output_type": "stream",
     "text": [
      "Optmizer: Adam\n",
      "Learning rate: 0.001\n"
     ]
    }
   ],
   "source": [
    "print(f'Optmizer: {best_over_all_hyperparameters[\"Optimizer\"]}\\nLearning rate: {best_over_all_hyperparameters[\"Learning rate\"]}')"
   ]
  },
  {
   "cell_type": "markdown",
   "metadata": {
    "id": "dXBVY9bFg2ZV"
   },
   "source": [
    "## Confusion matrix"
   ]
  },
  {
   "cell_type": "code",
   "execution_count": 17,
   "metadata": {
    "colab": {
     "base_uri": "https://localhost:8080/",
     "height": 446
    },
    "executionInfo": {
     "elapsed": 2474,
     "status": "ok",
     "timestamp": 1643723830450,
     "user": {
      "displayName": "Sara Kaminska",
      "photoUrl": "https://lh3.googleusercontent.com/a-/AOh14GgrTlLeBJKPdjhFwNOeZeHYSIbb7eXnorQBgjmWBg=s64",
      "userId": "14580715952336851036"
     },
     "user_tz": -60
    },
    "id": "URfzarLGg2ZW",
    "outputId": "88c1a7d8-1888-4ff3-cf48-91f46004cab9"
   },
   "outputs": [
    {
     "data": {
      "text/plain": [
       "<matplotlib.axes._subplots.AxesSubplot at 0x7fbf6c1b2bd0>"
      ]
     },
     "execution_count": 17,
     "metadata": {},
     "output_type": "execute_result"
    },
    {
     "data": {
      "image/png": "[encoded data removed]",
      "text/plain": [
       "<Figure size 864x504 with 2 Axes>"
      ]
     },
     "metadata": {
      "needs_background": "light"
     },
     "output_type": "display_data"
    }
   ],
   "source": [
    "model = load_model('best_model.pt')\n",
    "\n",
    "y_pred = []\n",
    "y_true = []\n",
    "\n",
    "for x, y in test_loader:\n",
    "    preds = model(x)\n",
    "    preds = (torch.max(preds, 1)[1]).data.cpu().numpy()\n",
    "    y_pred.extend(preds)\n",
    "    \n",
    "    y = y.data.cpu().numpy()\n",
    "    y_true.extend(y)\n",
    "\n",
    "    \n",
    "classes = ('T-shirt/top', 'Trouser', 'Pullover', 'Dress', 'Coat',\n",
    "        'Sandal', 'Shirt', 'Sneaker', 'Bag', 'Ankle Boot')\n",
    "    \n",
    "cf_matrix = confusion_matrix(y_true, y_pred)\n",
    "df_cm = pd.DataFrame(cf_matrix/np.sum(cf_matrix) * 10, \n",
    "                     index = [c for c in classes], \n",
    "                     columns = [c for c in classes])\n",
    "plt.figure(figsize=(12, 7))\n",
    "sn.heatmap(df_cm, annot=True)\n",
    "    "
   ]
  },
  {
   "cell_type": "markdown",
   "metadata": {
    "id": "a5FlSr8pg2ZY"
   },
   "source": [
    "## Compare time for different batch sizes "
   ]
  },
  {
   "cell_type": "code",
   "execution_count": 21,
   "metadata": {
    "executionInfo": {
     "elapsed": 319,
     "status": "ok",
     "timestamp": 1643723865440,
     "user": {
      "displayName": "Sara Kaminska",
      "photoUrl": "https://lh3.googleusercontent.com/a-/AOh14GgrTlLeBJKPdjhFwNOeZeHYSIbb7eXnorQBgjmWBg=s64",
      "userId": "14580715952336851036"
     },
     "user_tz": -60
    },
    "id": "aB2jYyNjg2ZY"
   },
   "outputs": [],
   "source": [
    "def create_and_fit_model(train_data, num_epochs=3, criterion=cross_entropy):\n",
    "    model = NeuralNetwork(28*28, 10)\n",
    "    opt = Adam(model.parameters())\n",
    "    \n",
    "    for epoch in range(num_epochs):\n",
    "        for i, (x, y) in enumerate(train_data):\n",
    "            opt.zero_grad()\n",
    "            preds = model(x)\n",
    "            train_loss = criterion(preds, y)\n",
    "            train_loss.backward()\n",
    "            opt.step()"
   ]
  },
  {
   "cell_type": "code",
   "execution_count": 26,
   "metadata": {
    "colab": {
     "base_uri": "https://localhost:8080/"
    },
    "executionInfo": {
     "elapsed": 915921,
     "status": "ok",
     "timestamp": 1643726111668,
     "user": {
      "displayName": "Sara Kaminska",
      "photoUrl": "https://lh3.googleusercontent.com/a-/AOh14GgrTlLeBJKPdjhFwNOeZeHYSIbb7eXnorQBgjmWBg=s64",
      "userId": "14580715952336851036"
     },
     "user_tz": -60
    },
    "id": "aVo_SHmLg2ZZ",
    "outputId": "5f16442d-f75f-4672-8457-a1b98a6010de"
   },
   "outputs": [
    {
     "name": "stdout",
     "output_type": "stream",
     "text": [
      "Batch size: 2, time: 0:08:07.393935\n",
      "Batch size: 4, time: 0:03:15.860310\n",
      "Batch size: 8, time: 0:01:53.548780\n",
      "Batch size: 16, time: 0:01:10.099561\n",
      "Batch size: 32, time: 0:00:48.904260\n"
     ]
    }
   ],
   "source": [
    "batch_sizes = [2, 4, 8, 16, 32]\n",
    "times = []\n",
    "for batch_size in batch_sizes:\n",
    "    train_loader = DataLoader(dataset=train, \n",
    "                              batch_size=batch_size, \n",
    "                              shuffle=True)\n",
    "    start = datetime.now()\n",
    "    create_and_fit_model(train_loader)\n",
    "    stop = datetime.now()\n",
    "    time = stop - start\n",
    "    times.append(time.seconds)\n",
    "    print(f'Batch size: {batch_size}, time: {time}')"
   ]
  },
  {
   "cell_type": "code",
   "execution_count": 27,
   "metadata": {
    "colab": {
     "base_uri": "https://localhost:8080/",
     "height": 295
    },
    "executionInfo": {
     "elapsed": 568,
     "status": "ok",
     "timestamp": 1643726112195,
     "user": {
      "displayName": "Sara Kaminska",
      "photoUrl": "https://lh3.googleusercontent.com/a-/AOh14GgrTlLeBJKPdjhFwNOeZeHYSIbb7eXnorQBgjmWBg=s64",
      "userId": "14580715952336851036"
     },
     "user_tz": -60
    },
    "id": "zd-jNZVlg2Za",
    "outputId": "3a984c21-d45c-41bd-883f-b5dae2bf323b"
   },
   "outputs": [
    {
     "data": {
      "image/png": "[encoded data removed]",
      "text/plain": [
       "<Figure size 576x288 with 1 Axes>"
      ]
     },
     "metadata": {
      "needs_background": "light"
     },
     "output_type": "display_data"
    }
   ],
   "source": [
    "fig, ax = plt.subplots(figsize = (8,4))\n",
    "ax.set_xlabel('Batch size')\n",
    "ax.set_ylabel('Time in seconds')\n",
    "ax.plot(batch_sizes, times, linewidth=3.0, c='Red')\n",
    "plt.title('Time for direfferent batch sizes')\n",
    "plt.show()"
   ]
  }
 ],
 "metadata": {
  "colab": {
   "collapsed_sections": [],
   "name": "Classification.ipynb",
   "provenance": []
  },
  "kernelspec": {
   "display_name": "Python 3",
   "language": "python",
   "name": "python3"
  },
  "language_info": {
   "codemirror_mode": {
    "name": "ipython",
    "version": 3
   },
   "file_extension": ".py",
   "mimetype": "text/x-python",
   "name": "python",
   "nbconvert_exporter": "python",
   "pygments_lexer": "ipython3",
   "version": "3.8.5"
  }
 },
 "nbformat": 4,
 "nbformat_minor": 1
}
