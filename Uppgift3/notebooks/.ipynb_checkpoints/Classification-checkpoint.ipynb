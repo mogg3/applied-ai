{
 "cells": [
  {
   "cell_type": "markdown",
   "metadata": {},
   "source": [
    "# 3 Classification"
   ]
  },
  {
   "cell_type": "code",
   "execution_count": 3,
   "metadata": {},
   "outputs": [],
   "source": [
    "import torch\n",
    "import torch.nn as nn\n",
    "from torch.nn.functional import cross_entropy\n",
    "from torch.optim import SGD, Adam\n",
    "from torch.utils.data import Dataset, DataLoader, random_split\n",
    "from torchvision import datasets\n",
    "from torchvision.transforms import ToTensor\n",
    "\n",
    "from datetime import datetime\n",
    "import matplotlib.pyplot as plt\n",
    "import numpy as np\n",
    "import pandas as pd\n",
    "import seaborn as sn\n",
    "from sklearn.metrics import confusion_matrix"
   ]
  },
  {
   "cell_type": "code",
   "execution_count": 4,
   "metadata": {},
   "outputs": [],
   "source": [
    "train_data = datasets.FashionMNIST(root='data', \n",
    "                                   train=True, \n",
    "                                   download=True, \n",
    "                                   transform=ToTensor())\n",
    "\n",
    "test_data = datasets.FashionMNIST(root='data', \n",
    "                                  train=False,\n",
    "                                  transform=ToTensor(),\n",
    "                                  download=True)\n",
    "\n",
    "train, valid = random_split(train_data, [50000, 10000])\n",
    "\n",
    "train_loader = DataLoader(dataset=train, \n",
    "                          batch_size=100, \n",
    "                          shuffle=True)\n",
    "\n",
    "valid_loader = DataLoader(dataset=valid, \n",
    "                          batch_size=100, \n",
    "                          shuffle=True)\n",
    "\n",
    "test_loader = DataLoader(dataset=test_data, \n",
    "                         batch_size=100, \n",
    "                         shuffle=False)\n"
   ]
  },
  {
   "cell_type": "code",
   "execution_count": 5,
   "metadata": {},
   "outputs": [],
   "source": [
    "class NeuralNetwork(nn.Module):\n",
    "    def __init__(self, input_size, output_size):\n",
    "        super(NeuralNetwork, self).__init__()\n",
    "        self.l1 = nn.Linear(input_size, 512)\n",
    "        self.relu = nn.ReLU()\n",
    "        self.l2 = nn.Linear(512, 256)\n",
    "        self.l3 = nn.Linear(256, 128)\n",
    "        self.l4 = nn.Linear(128, output_size)\n",
    "    \n",
    "    def forward(self, x):\n",
    "        x = x.reshape(-1, 28*28)\n",
    "        x = self.l1(x)\n",
    "        x = self.relu(x)\n",
    "        x = self.l2(x)\n",
    "        x = self.relu(x)\n",
    "        x = self.l3(x)\n",
    "        x = self.relu(x)\n",
    "        x = self.l4(x)\n",
    "        return x\n",
    "        "
   ]
  },
  {
   "cell_type": "code",
   "execution_count": 59,
   "metadata": {},
   "outputs": [],
   "source": [
    "def fit_model(model, opt, criterion, x, y):\n",
    "    opt.zero_grad()\n",
    "    preds = model(x)\n",
    "    train_loss = criterion(preds, y)\n",
    "    train_loss.backward()\n",
    "    opt.step()"
   ]
  },
  {
   "cell_type": "code",
   "execution_count": 68,
   "metadata": {},
   "outputs": [],
   "source": [
    "def validate_model(model, criterion, valid_data):\n",
    "    with torch.no_grad():\n",
    "        n_correct = 0\n",
    "        n_samples = 0\n",
    "        for x, y in valid_data:\n",
    "            preds = model(x)\n",
    "            valid_loss = criterion(preds, y)\n",
    "            _, predicted = torch.max(preds.data, 1)\n",
    "            n_samples += y.size(0)\n",
    "            n_correct += (predicted == y).sum().item()\n",
    "        accuracy = 100.0 * n_correct / n_samples\n",
    "    return valid_loss.item(), accuracy"
   ]
  },
  {
   "cell_type": "code",
   "execution_count": 7,
   "metadata": {},
   "outputs": [],
   "source": [
    "def load_model(path):\n",
    "    model = torch.load(path)\n",
    "    return model"
   ]
  },
  {
   "cell_type": "code",
   "execution_count": 84,
   "metadata": {},
   "outputs": [],
   "source": [
    "best_over_all_hyperparameters = None\n",
    "best_over_all_loss = np.inf"
   ]
  },
  {
   "cell_type": "code",
   "execution_count": 89,
   "metadata": {},
   "outputs": [],
   "source": [
    "def fit_evaluate_and_save(train_data, valid_data, optimizer='Adam', learning_rate=None, num_epochs=10, criterion=cross_entropy):\n",
    "    model = NeuralNetwork(28*28, 10)\n",
    "    min_valid_loss = np.inf\n",
    "    accuracy_for_best_model = 0\n",
    "    global best_over_all_loss\n",
    "    global best_over_all_hyperparameters\n",
    "    \n",
    "    if optimizer == 'Adam':\n",
    "        if learning_rate:\n",
    "            opt = Adam(model.parameters(), lr=learning_rate)\n",
    "        else: \n",
    "            opt = Adam(model.parameters())\n",
    "            learning_rate = 0.001 # default learning rate for Adam\n",
    "    elif optimizer == 'SGD':\n",
    "        opt = SGD(model.parameters(), lr=learning_rate)\n",
    "    \n",
    "    for epoch in range(num_epochs):\n",
    "        for x, y in train_data:\n",
    "            fit_model(model, opt, criterion, x, y)\n",
    "        \n",
    "        valid_loss, accuracy = validate_model(model, criterion, valid_data)\n",
    "        \n",
    "        if (epoch+1) % 2 == 0:\n",
    "            print(f'Epoch: {epoch+1}/{num_epochs}, Validation loss: {valid_loss}, Accuracy: {accuracy}')\n",
    "        \n",
    "        if min_valid_loss > valid_loss:\n",
    "            min_valid_loss = valid_loss\n",
    "            accuracy_for_best_model = accuracy\n",
    "            torch.save(model, 'best_model.pt')\n",
    "        \n",
    "        if best_over_all_loss > valid_loss:\n",
    "            best_over_all_loss = valid_loss\n",
    "            best_over_all_hyperparameters = {'Optimizer': optimizer, 'Learning rate': learning_rate}\n",
    "        \n",
    "    print(f'{\"-\"*10}\\nBEST RESULT Loss: {min_valid_loss}, Accuracy: {accuracy_for_best_model}')"
   ]
  },
  {
   "cell_type": "markdown",
   "metadata": {},
   "source": [
    "## Optimizer: Adam"
   ]
  },
  {
   "cell_type": "code",
   "execution_count": 90,
   "metadata": {
    "scrolled": true
   },
   "outputs": [
    {
     "name": "stdout",
     "output_type": "stream",
     "text": [
      "Batch size: 32\n",
      "Optimizer: Adam\n",
      "Learning rate: default (0.001)\n",
      "----------\n",
      "Epoch: 2/10, Validation loss: 0.4400923252105713, Accuracy: 85.72\n",
      "Epoch: 4/10, Validation loss: 0.3370015025138855, Accuracy: 86.46\n",
      "Epoch: 6/10, Validation loss: 0.3903496265411377, Accuracy: 87.69\n",
      "Epoch: 8/10, Validation loss: 0.352186381816864, Accuracy: 89.27\n",
      "Epoch: 10/10, Validation loss: 0.30466264486312866, Accuracy: 89.18\n",
      "----------\n",
      "BEST RESULT Loss: 0.23593507707118988, Accuracy: 88.37\n"
     ]
    }
   ],
   "source": [
    "print(f'Batch size: 32\\nOptimizer: Adam\\nLearning rate: default (0.001)\\n{\"-\"*10}')\n",
    "fit_evaluate_and_save(train_loader, valid_loader)"
   ]
  },
  {
   "cell_type": "markdown",
   "metadata": {},
   "source": [
    "#### With learning rate"
   ]
  },
  {
   "cell_type": "code",
   "execution_count": 119,
   "metadata": {},
   "outputs": [
    {
     "name": "stdout",
     "output_type": "stream",
     "text": [
      "Epoch: 1/5, Loss: 0.5633592009544373\n",
      "Epoch: 2/5, Loss: 0.31908226013183594\n",
      "Epoch: 3/5, Loss: 0.3670588433742523\n",
      "Epoch: 4/5, Loss: 0.4780968725681305\n",
      "Epoch: 5/5, Loss: 0.20079265534877777\n"
     ]
    }
   ],
   "source": [
    "print(f'Batch size: 32\\nOptimizer: Adam\\nLearning rate: 0.01\\n{\"-\"*10}')\n",
    "fit_evaluate_and_save(train_loader, valid_loader, learning_rate=0.01)"
   ]
  },
  {
   "cell_type": "code",
   "execution_count": 120,
   "metadata": {
    "scrolled": true
   },
   "outputs": [
    {
     "name": "stdout",
     "output_type": "stream",
     "text": [
      "Epoch: 1/5, Loss: 0.6310636401176453\n",
      "Epoch: 2/5, Loss: 0.35803934931755066\n",
      "Epoch: 3/5, Loss: 0.38168153166770935\n",
      "Epoch: 4/5, Loss: 0.5150272250175476\n",
      "Epoch: 5/5, Loss: 0.3978438079357147\n"
     ]
    }
   ],
   "source": [
    "print(f'Batch size: 32\\nOptimizer: Adam\\nLearning rate: 0.0001\\n{\"-\"*10}')\n",
    "fit_evaluate_and_save(train_loader, valid_loader, learning_rate=0.0001)"
   ]
  },
  {
   "cell_type": "markdown",
   "metadata": {},
   "source": [
    "## Optimizer: SGD"
   ]
  },
  {
   "cell_type": "markdown",
   "metadata": {},
   "source": [
    "#### With learning rate"
   ]
  },
  {
   "cell_type": "code",
   "execution_count": 124,
   "metadata": {},
   "outputs": [
    {
     "name": "stdout",
     "output_type": "stream",
     "text": [
      "Epoch: 1/5, Loss: 0.5830580592155457\n",
      "Epoch: 2/5, Loss: 0.4876312017440796\n",
      "Epoch: 3/5, Loss: 0.36890819668769836\n",
      "Epoch: 4/5, Loss: 0.2508774697780609\n",
      "Epoch: 5/5, Loss: 0.39563411474227905\n"
     ]
    }
   ],
   "source": [
    "print(f'Batch size: 32\\nOptimizer: SGD\\nLearning rate: 0.1\\n{\"-\"*10}')\n",
    "fit_evaluate_and_save(train_loader, valid_loader, optimizer='SGD', learning_rate=0.1)"
   ]
  },
  {
   "cell_type": "code",
   "execution_count": 127,
   "metadata": {},
   "outputs": [
    {
     "name": "stdout",
     "output_type": "stream",
     "text": [
      "Epoch: 1/5, Loss: 0.5142014026641846\n",
      "Epoch: 2/5, Loss: 0.42867717146873474\n",
      "Epoch: 3/5, Loss: 0.4383198618888855\n",
      "Epoch: 4/5, Loss: 0.42161720991134644\n",
      "Epoch: 5/5, Loss: 0.34169894456863403\n"
     ]
    }
   ],
   "source": [
    "print(f'Batch size: 32\\nOptimizer: SGD\\nLearning rate: 0.2\\n{\"-\"*10}')\n",
    "fit_evaluate_and_save(train_loader, valid_loader, optimizer='SGD', learning_rate=0.2)"
   ]
  },
  {
   "cell_type": "code",
   "execution_count": 129,
   "metadata": {},
   "outputs": [
    {
     "name": "stdout",
     "output_type": "stream",
     "text": [
      "Loss for learning rate = 0.3\n",
      "Epoch: 1/5, Loss: 0.6533518433570862\n",
      "Epoch: 2/5, Loss: 0.5378175973892212\n",
      "Epoch: 3/5, Loss: 0.37798431515693665\n",
      "Epoch: 4/5, Loss: 0.23928755521774292\n",
      "Epoch: 5/5, Loss: 0.3671841323375702\n"
     ]
    }
   ],
   "source": [
    "print(f'Batch size: 32\\nOptimizer: SGD\\nLearning rate: 0.3\\n{\"-\"*10}')\n",
    "fit_evaluate_and_save(train_loader, valid_loader, optimizer='SGD', learning_rate=0.3)"
   ]
  },
  {
   "cell_type": "code",
   "execution_count": 130,
   "metadata": {
    "scrolled": true
   },
   "outputs": [
    {
     "name": "stdout",
     "output_type": "stream",
     "text": [
      "Loss for learning rate = 0.4\n",
      "Epoch: 1/5, Loss: 0.457551509141922\n",
      "Epoch: 2/5, Loss: 0.3669362962245941\n",
      "Epoch: 3/5, Loss: 0.45008718967437744\n",
      "Epoch: 4/5, Loss: 0.292508989572525\n",
      "Epoch: 5/5, Loss: 0.2848503589630127\n"
     ]
    }
   ],
   "source": [
    "print(f'Batch size: 32\\nOptimizer: SGD\\nLearning rate: 0.4\\n{\"-\"*10}')\n",
    "fit_evaluate_and_save(train_loader, valid_loader, optimizer='SGD', learning_rate=0.4)"
   ]
  },
  {
   "cell_type": "markdown",
   "metadata": {},
   "source": [
    "## Best hypermarameters found"
   ]
  },
  {
   "cell_type": "code",
   "execution_count": 96,
   "metadata": {},
   "outputs": [
    {
     "name": "stdout",
     "output_type": "stream",
     "text": [
      "Optmizer: Adam\n",
      "Learning rate: 0.001\n"
     ]
    }
   ],
   "source": [
    "print(f'Optmizer: {best_over_all_hyperparameters[\"Optimizer\"]}\\nLearning rate: {best_over_all_hyperparameters[\"Learning rate\"]}')"
   ]
  },
  {
   "cell_type": "markdown",
   "metadata": {},
   "source": [
    "## Confusion matrix"
   ]
  },
  {
   "cell_type": "code",
   "execution_count": 38,
   "metadata": {},
   "outputs": [
    {
     "data": {
      "text/plain": [
       "<AxesSubplot:>"
      ]
     },
     "execution_count": 38,
     "metadata": {},
     "output_type": "execute_result"
    },
    {
     "data": {
      "image/png": "[encoded data removed]",
      "text/plain": [
       "<Figure size 864x504 with 2 Axes>"
      ]
     },
     "metadata": {
      "needs_background": "light"
     },
     "output_type": "display_data"
    }
   ],
   "source": [
    "model = load_model('best_model.pt')\n",
    "\n",
    "y_pred = []\n",
    "y_true = []\n",
    "\n",
    "for x, y in test_loader:\n",
    "    preds = model(x)\n",
    "    preds = (torch.max(preds, 1)[1]).data.cpu().numpy()\n",
    "    y_pred.extend(preds)\n",
    "    \n",
    "    y = y.data.cpu().numpy()\n",
    "    y_true.extend(y)\n",
    "\n",
    "    \n",
    "classes = ('T-shirt/top', 'Trouser', 'Pullover', 'Dress', 'Coat',\n",
    "        'Sandal', 'Shirt', 'Sneaker', 'Bag', 'Ankle Boot')\n",
    "    \n",
    "cf_matrix = confusion_matrix(y_true, y_pred)\n",
    "df_cm = pd.DataFrame(cf_matrix/np.sum(cf_matrix) * 10, \n",
    "                     index = [c for c in classes], \n",
    "                     columns = [c for c in classes])\n",
    "plt.figure(figsize=(12, 7))\n",
    "sn.heatmap(df_cm, annot=True)\n",
    "    "
   ]
  },
  {
   "cell_type": "markdown",
   "metadata": {},
   "source": [
    "## Compare time for different batch sizes "
   ]
  },
  {
   "cell_type": "code",
   "execution_count": 41,
   "metadata": {},
   "outputs": [],
   "source": [
    "def create_and_fit_model(train_data, num_epochs=3, criterion=cross_entropy):\n",
    "    model = NeuralNetwork(28*28, 10)\n",
    "    opt = Adam(model.parameters())\n",
    "    \n",
    "    for epoch in range(num_epochs):\n",
    "        for i, (x, y) in enumerate(train_data):\n",
    "            optimizer.zero_grad()\n",
    "            preds = model(x)\n",
    "            train_loss = criterion(preds, y)\n",
    "            train_loss.backward()\n",
    "            optimizer.step()"
   ]
  },
  {
   "cell_type": "code",
   "execution_count": null,
   "metadata": {},
   "outputs": [],
   "source": [
    "batch_sizes = [2, 4, 8, 16, 32]\n",
    "times = []\n",
    "for batch_size in batch_sizes:\n",
    "    train_loader = DataLoader(dataset=train, \n",
    "                              batch_size=batch_size, \n",
    "                              shuffle=True)\n",
    "    start = datetime.now()\n",
    "    create_and_fit_model(train_loader)\n",
    "    stop = datetime.now()\n",
    "    time = stop - start\n",
    "    times.append(time.seconds)\n",
    "    print(f'Batch size: {batch_size}, time: {time} s')"
   ]
  },
  {
   "cell_type": "code",
   "execution_count": 149,
   "metadata": {},
   "outputs": [
    {
     "data": {
      "image/png": "[encoded data removed]",
      "text/plain": [
       "<Figure size 504x216 with 1 Axes>"
      ]
     },
     "metadata": {
      "needs_background": "light"
     },
     "output_type": "display_data"
    }
   ],
   "source": [
    "fig, ax = plt.subplots(figsize = (7,3))\n",
    "ax.set_xlabel('Batch size')\n",
    "ax.set_ylabel('Time')\n",
    "ax.plot(batch_size, times, linewidth=3.0, c='Red')\n",
    "plt.title('Time for direfferent batch sizes')\n",
    "plt.show()"
   ]
  }
 ],
 "metadata": {
  "kernelspec": {
   "display_name": "Python 3",
   "language": "python",
   "name": "python3"
  },
  "language_info": {
   "codemirror_mode": {
    "name": "ipython",
    "version": 3
   },
   "file_extension": ".py",
   "mimetype": "text/x-python",
   "name": "python",
   "nbconvert_exporter": "python",
   "pygments_lexer": "ipython3",
   "version": "3.8.5"
  }
 },
 "nbformat": 4,
 "nbformat_minor": 4
}
