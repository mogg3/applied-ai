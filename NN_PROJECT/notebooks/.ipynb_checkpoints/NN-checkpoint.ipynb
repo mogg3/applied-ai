{
 "cells": [
  {
   "cell_type": "markdown",
   "metadata": {},
   "source": [
    "# Att bygga ett neuralt nätverk från scratch "
   ]
  },
  {
   "cell_type": "markdown",
   "metadata": {},
   "source": [
    "## Neruala nät - introduktion\n",
    "\n"
   ]
  },
  {
   "cell_type": "markdown",
   "metadata": {},
   "source": [
    "## Aktiveringsfunktion"
   ]
  },
  {
   "cell_type": "markdown",
   "metadata": {},
   "source": [
    "## Lossfunktion"
   ]
  },
  {
   "attachments": {},
   "cell_type": "markdown",
   "metadata": {},
   "source": [
    "Outputen från nätet kommer att vara en prediktion av någon form. Lossfunktionen används för att beräkna hur fel modelen var med denna prediktion. Felet används sedan för att uppdatera modelens parametrar med hjälp av backpropagation. Det finns flera olika lossfunktioner som fungerar bättre för olika typer av modeler och problemtyper. Vanliga lossfunktioner för regression är bland annat Root Mean Squared Error (RMSE), Mean Squared Error (MSE) och Mean Absolute Error (MAE). Det finns många olika typer utav loss funktioner inom klassificering men den vanligaste är Cross Entropy och inom multiklass klassificering då Categorical Cross Entropy(CCE). "
   ]
  },
  {
   "cell_type": "markdown",
   "metadata": {},
   "source": [
    "### CCE:\n",
    "<br>\n",
    "<div>\n",
    "<img src=\"img.jpg\" width=\"300\" align = 'left'/>\n",
    "</div>"
   ]
  },
  {
   "cell_type": "markdown",
   "metadata": {},
   "source": [
    "yi = målvariabel för klass i, y-hati = predikterad sannolikhet för variabel i. Detta är en summa av loss för alla klasser från en prediktion. \n"
   ]
  },
  {
   "cell_type": "markdown",
   "metadata": {},
   "source": [
    "I vår implementation så använder vi en softmax i vårt sista lager och CCE som loss funktion, eftersom vi har ett klassificeringsproblem. Dessa två är väldigt smidiga att använda tillsammans då derivatan av CCE med avseende på input till softmax, som krävs i bakåtpropagerings steget, blir väldigt simpel att beräkna. Detta är pågrund av vissa matematiska egenskaper som finns hos dessa som vi inte kommer gå in på. "
   ]
  },
  {
   "cell_type": "markdown",
   "metadata": {},
   "source": [
    "<div>\n",
    "<img src=\"img6.jpg\" width=\"300\" align = 'left'/>\n",
    "</div>"
   ]
  },
  {
   "cell_type": "markdown",
   "metadata": {},
   "source": [
    "L = CCE(p) s = softmax z = input pi = predikterad sannolikhet för klass i ti = målvärde på sannolikheten för klass i"
   ]
  },
  {
   "cell_type": "markdown",
   "metadata": {},
   "source": [
    "## Initialisering av nätverket"
   ]
  },
  {
   "cell_type": "markdown",
   "metadata": {},
   "source": [
    " Det finns många sätta sätt att initialisera parametervärden för ett neuralt nät. Två saker som är viktigt att ta hänsyn till när man initialiserar sina vikter är; \n",
    " \n",
    "- Lämplig storlek på sina parametrar, inte för stora och inte för nära 0. Parametrar som är nära 0 kombinerat med tex en sigmoid kan leda till försvinnande gradienter, då gradienten i höga x värden på sigmoid är väldigt låg. För höga värden kan istället orsaka exploderande gradienter. Värden mellan [-1,1] är ett vanligt utfallsrum. I våran implementation kommer vi att plocka värden från en uniform distribution mellan [-0.5, 0.5 ].\n",
    "\n",
    "- Bra varians i sina parametrar. Parametrar plockas oftast ur antingen en uniform eller en normal gaussdistribution.\n",
    "\n",
    "Det finns två vanliga initialiserings metoder för att beräkna distributionen varifrån parametrarna ska dras; He initialization och Zavier initialization. Dessa metoder tar hänsyn till strukturen på de lager parametrarna ska användas till när de beräknar distributionen. Detta har visat sig ge bra resultat och går att anpassa beroende på vilken aktiveringsfunktion som används."
   ]
  },
  {
   "cell_type": "markdown",
   "metadata": {},
   "source": [
    "## Forward propagation"
   ]
  },
  {
   "cell_type": "markdown",
   "metadata": {},
   "source": [
    "## Back propagation "
   ]
  },
  {
   "cell_type": "code",
   "execution_count": 111,
   "metadata": {},
   "outputs": [],
   "source": [
    "import numpy as np\n",
    "import pandas as pd\n",
    "from matplotlib import pyplot as plt\n",
    "import math\n",
    "plt.style.use('ggplot')"
   ]
  },
  {
   "cell_type": "code",
   "execution_count": 112,
   "metadata": {},
   "outputs": [],
   "source": [
    "def train_test_valid_split(data, train_size, valid_size, test_size, random_state = 0):\n",
    "    np.random.seed(random_state)\n",
    "\n",
    "    data = np.array(data)\n",
    "    np.random.shuffle(data)\n",
    "    n = data.shape[1]\n",
    "    \n",
    "    split_one = int(len(data)*train_size)\n",
    "    split_two = split_one + int(len(data)*valid_size)\n",
    "\n",
    "    train_data = data[:split_one].T\n",
    "    y_train = train_data[0]\n",
    "    X_train = train_data[1:n] / 255.\n",
    "    \n",
    "    valid_data = data[split_one:split_two].T\n",
    "    y_valid = valid_data[0]\n",
    "    X_valid = valid_data[1:n] / 255.\n",
    "    \n",
    "    test_data = data[split_two:].T\n",
    "    y_test = test_data[0]\n",
    "    X_test = test_data[1:n] / 255.\n",
    "        \n",
    "    return X_train, y_train, X_test, y_test, X_valid, y_valid"
   ]
  },
  {
   "cell_type": "code",
   "execution_count": 387,
   "metadata": {},
   "outputs": [],
   "source": [
    "class Net:\n",
    "    def __init__(self, random_state):\n",
    "        self.layers = []\n",
    "        self.acc_history = None\n",
    "        self.loss_history = None\n",
    "        self.random_state = random_state\n",
    "        \n",
    "    def add_layer(self, n_inputs, n_outputs, activation):\n",
    "        if activation == 'ReLU':\n",
    "            activation = self.ReLU\n",
    "        elif activation == 'sigmoid':\n",
    "            activation = self.sigmoid\n",
    "        elif activation == 'softmax':\n",
    "            activation = self.softmax\n",
    "        else:\n",
    "            raise Exception(f\"{activation} is not a valid activation function\")\n",
    "                            \n",
    "        if len(self.layers) > 0:\n",
    "            if n_inputs == self.layers[-1].n_outputs:\n",
    "                layer = Layer_Dense(n_inputs, n_outputs, activation, self.random_state)\n",
    "            else:\n",
    "                raise Exception('Invalid layer dims')\n",
    "        else:\n",
    "            layer = Layer_Dense(n_inputs, n_outputs, activation)\n",
    "            \n",
    "        self.layers.append(layer)\n",
    "                  \n",
    "            \n",
    "    def ReLU(self, Z, derive = False):\n",
    "        if not derive:\n",
    "            return np.maximum(Z, 0)\n",
    "        else:\n",
    "            return Z > 0\n",
    "        \n",
    "    def sigmoid(self, Z, derive = False):\n",
    "        if not derive:\n",
    "            return 1/(1 + np.exp(-Z))\n",
    "        else:\n",
    "            y = 1/(1 + np.exp(-Z))\n",
    "            yp = y * (1.0 - y)\n",
    "            return yp\n",
    "    \n",
    "    def softmax(self, Z):\n",
    "        A = np.exp(Z) / sum(np.exp(Z))\n",
    "        return A\n",
    "    \n",
    "    def one_hot(self, Y, n_classes):\n",
    "        one_hot_Y = np.zeros((Y.size, n_classes))\n",
    "        one_hot_Y[np.arange(Y.size), Y] = 1\n",
    "        one_hot_Y = one_hot_Y.T\n",
    "        return one_hot_Y\n",
    "    \n",
    "    def CCE(self, pred, label, m = None, derive = False):\n",
    "        if derive:\n",
    "            return pred - label\n",
    "        else:\n",
    "            loss = label * -np.log(pred)\n",
    "            # Average over all samples in the batch\n",
    "            loss = np.sum(np.sum(loss, axis = 1))/m\n",
    "            return loss\n",
    "    \n",
    "    def update_params(self, layer, dW, db, learning_rate):\n",
    "        layer.W -= learning_rate * dW\n",
    "        layer.b -= learning_rate * db\n",
    "        \n",
    "    def forward(self, inputs):\n",
    "        for i, layer in enumerate(self.layers):    \n",
    "            layer.inputs = inputs\n",
    "            Z = layer.W.dot(inputs) + layer.b\n",
    "            A = layer.activation(Z)\n",
    "            layer.Z = Z\n",
    "            layer.A = A\n",
    "            inputs = A\n",
    "        return A\n",
    "    \n",
    "    def backward(self, outputs, Y, learning_rate, n_classes):\n",
    "        label_one_hot = self.one_hot(Y, n_classes)  \n",
    "        m = outputs.shape[1]\n",
    "        \n",
    "        for i in reversed(range(len(self.layers))):\n",
    "            layer = self.layers[i]\n",
    "            if i == len(self.layers)-1:\n",
    "                dZ = self.CCE(outputs, label_one_hot, derive = True)\n",
    "                loss = self.CCE(outputs, label_one_hot, m)\n",
    "            else:\n",
    "                dZ = self.layers[i+1].W.T.dot(dZ) * layer.activation(layer.Z, derive = True)\n",
    "            \n",
    "            dW = 1/m * dZ.dot(layer.inputs.T)\n",
    "            db = 1/m * np.sum(dZ, axis = 1, keepdims = True)\n",
    "            \n",
    "            self.update_params(layer, dW, db, learning_rate)\n",
    "        return loss\n",
    "    \n",
    "    def get_predictions(self, prediction):\n",
    "        return np.argmax(prediction, 0)\n",
    "    \n",
    "    def score(self, X, Y):\n",
    "        predictions = self.get_predictions(self.predict(X))\n",
    "        return np.sum(predictions == Y) / Y.size\n",
    "                \n",
    "    def fit(self, X, Y, X_valid, y_valid, n_classes, epochs, batchsize = None,  learning_rate = 1):\n",
    "        \n",
    "        if not batchsize:\n",
    "            batchsize = X.shape[1]\n",
    "            \n",
    "        n_iterations = abs(math.floor(-X.shape[1]/batchsize)) * epochs\n",
    "        accuracy = np.zeros(n_iterations)    \n",
    "        loss = np.zeros(n_iterations)\n",
    "        \n",
    "        iteration = 0\n",
    "        for epoch in range(epochs):\n",
    "            for start_idx in range(0, X.T.shape[0], batchsize):\n",
    "                end_idx = min(start_idx + batchsize, X.T.shape[0])\n",
    "                excerpt = slice(start_idx, end_idx)\n",
    "\n",
    "                inputs = X.T[excerpt].T\n",
    "                targets = Y.T[excerpt].T\n",
    "            \n",
    "                predictions = self.forward(inputs)\n",
    "                \n",
    "                l = self.backward(predictions, targets, learning_rate, n_classes)\n",
    "                a = self.score(X_valid, y_valid)\n",
    "                \n",
    "                accuracy[iteration] = a\n",
    "                loss[iteration] = l\n",
    "                \n",
    "                if iteration % 25 in [0,25]:\n",
    "                    print(f'Epoch {epoch+1} Iteration {iteration}/{n_iterations}')\n",
    "                    print(f'Accuracy: {round(a, 3)}')\n",
    "                    print(f'Loss: {l}\\n-')\n",
    "                    \n",
    "                iteration += 1\n",
    "                \n",
    "        self.acc_history = accuracy\n",
    "        self.loss_history = loss\n",
    "            \n",
    "    def predict(self, X): \n",
    "        return self.forward(X)\n",
    "\n",
    "        \n",
    "class Layer_Dense:\n",
    "    def __init__(self, n_inputs, n_outputs, activation, random_state = 0):\n",
    "        np.random.seed(random_state)\n",
    "        self.n_inputs = n_inputs\n",
    "        self.n_outputs = n_outputs\n",
    "        \n",
    "        # Parameter initialization. Values are taken from a uniform distribution between 0,1. \n",
    "        # Subtract 0.5 to get values between -0.5, 0.5\n",
    "        \n",
    "        self.W = np.random.rand(n_outputs, n_inputs) - 0.5\n",
    "        self.b = np.random.rand(n_outputs, 1) - 0.5\n",
    "        \n",
    "        self.activation = activation\n",
    "        \n",
    "        self.inputs = None\n",
    "        self.Z = None\n",
    "        self.A = None\n"
   ]
  },
  {
   "cell_type": "code",
   "execution_count": 388,
   "metadata": {
    "scrolled": true
   },
   "outputs": [
    {
     "name": "stdout",
     "output_type": "stream",
     "text": [
      "Training data - 33600 samples (80.0%)\n",
      " -\n",
      "Validation data - 4200 samples (10.0%)\n",
      " -\n",
      "Training data - 4200 samples (10.0%)\n"
     ]
    }
   ],
   "source": [
    "# mnist handwritten digits \n",
    "\n",
    "data = pd.read_csv('../data.csv')\n",
    "\n",
    "train_size = 0.8\n",
    "valid_size = 0.1\n",
    "test_size = 0.1\n",
    "\n",
    "X_train, y_train, X_test, y_test, X_valid, y_valid = train_test_valid_split(data, \n",
    "                                                                            train_size = train_size, \n",
    "                                                                            valid_size = valid_size, \n",
    "                                                                            test_size = test_size, \n",
    "                                                                            random_state = 0)\n",
    "\n",
    "print(f'Training data - {X_train.shape[1]} samples ({train_size*100}%)\\n -')\n",
    "print(f'Validation data - {X_valid.shape[1]} samples ({valid_size*100}%)\\n -')\n",
    "print(f'Training data - {X_test.shape[1]} samples ({test_size*100}%)')"
   ]
  },
  {
   "cell_type": "code",
   "execution_count": 389,
   "metadata": {
    "scrolled": true
   },
   "outputs": [
    {
     "name": "stdout",
     "output_type": "stream",
     "text": [
      "Epoch 1 Iteration 0/1575\n",
      "Accuracy: 0.094\n",
      "Loss: 2.5171325329828402\n",
      "-\n",
      "Epoch 1 Iteration 25/1575\n",
      "Accuracy: 0.283\n",
      "Loss: 2.103667802816447\n",
      "-\n",
      "Epoch 1 Iteration 50/1575\n",
      "Accuracy: 0.395\n",
      "Loss: 1.7856275447392962\n",
      "-\n",
      "Epoch 1 Iteration 75/1575\n",
      "Accuracy: 0.582\n",
      "Loss: 1.2255329623334625\n",
      "-\n",
      "Epoch 1 Iteration 100/1575\n",
      "Accuracy: 0.686\n",
      "Loss: 1.1923506917484088\n",
      "-\n",
      "Epoch 1 Iteration 125/1575\n",
      "Accuracy: 0.762\n",
      "Loss: 1.023073089031056\n",
      "-\n",
      "Epoch 1 Iteration 150/1575\n",
      "Accuracy: 0.783\n",
      "Loss: 0.6915318315116141\n",
      "-\n",
      "Epoch 1 Iteration 175/1575\n",
      "Accuracy: 0.787\n",
      "Loss: 0.569601294829176\n",
      "-\n",
      "Epoch 1 Iteration 200/1575\n",
      "Accuracy: 0.812\n",
      "Loss: 0.7750726331458019\n",
      "-\n",
      "Epoch 1 Iteration 225/1575\n",
      "Accuracy: 0.84\n",
      "Loss: 0.6173881749669808\n",
      "-\n",
      "Epoch 1 Iteration 250/1575\n",
      "Accuracy: 0.841\n",
      "Loss: 0.5964584374873874\n",
      "-\n",
      "Epoch 1 Iteration 275/1575\n",
      "Accuracy: 0.843\n",
      "Loss: 0.46868516231300633\n",
      "-\n",
      "Epoch 1 Iteration 300/1575\n",
      "Accuracy: 0.849\n",
      "Loss: 0.507446929094637\n",
      "-\n",
      "Epoch 1 Iteration 325/1575\n",
      "Accuracy: 0.855\n",
      "Loss: 0.5557811956060414\n",
      "-\n",
      "Epoch 1 Iteration 350/1575\n",
      "Accuracy: 0.862\n",
      "Loss: 0.4889361185920013\n",
      "-\n",
      "Epoch 1 Iteration 375/1575\n",
      "Accuracy: 0.875\n",
      "Loss: 0.3207412647159647\n",
      "-\n",
      "Epoch 1 Iteration 400/1575\n",
      "Accuracy: 0.882\n",
      "Loss: 0.40411809982841496\n",
      "-\n",
      "Epoch 1 Iteration 425/1575\n",
      "Accuracy: 0.879\n",
      "Loss: 0.5129100436602742\n",
      "-\n",
      "Epoch 1 Iteration 450/1575\n",
      "Accuracy: 0.887\n",
      "Loss: 0.3957412436968639\n",
      "-\n",
      "Epoch 1 Iteration 475/1575\n",
      "Accuracy: 0.885\n",
      "Loss: 0.40147405221187854\n",
      "-\n",
      "Epoch 1 Iteration 500/1575\n",
      "Accuracy: 0.892\n",
      "Loss: 0.5828549377247301\n",
      "-\n",
      "Epoch 2 Iteration 525/1575\n",
      "Accuracy: 0.895\n",
      "Loss: 0.3328765988355999\n",
      "-\n",
      "Epoch 2 Iteration 550/1575\n",
      "Accuracy: 0.898\n",
      "Loss: 0.5979568140893169\n",
      "-\n",
      "Epoch 2 Iteration 575/1575\n",
      "Accuracy: 0.901\n",
      "Loss: 0.4732039677930984\n",
      "-\n",
      "Epoch 2 Iteration 600/1575\n",
      "Accuracy: 0.894\n",
      "Loss: 0.3018505697103432\n",
      "-\n",
      "Epoch 2 Iteration 625/1575\n",
      "Accuracy: 0.899\n",
      "Loss: 0.2912889152118724\n",
      "-\n",
      "Epoch 2 Iteration 650/1575\n",
      "Accuracy: 0.902\n",
      "Loss: 0.3806545222563881\n",
      "-\n",
      "Epoch 2 Iteration 675/1575\n",
      "Accuracy: 0.909\n",
      "Loss: 0.12779753429513652\n",
      "-\n",
      "Epoch 2 Iteration 700/1575\n",
      "Accuracy: 0.91\n",
      "Loss: 0.22021845185172864\n",
      "-\n",
      "Epoch 2 Iteration 725/1575\n",
      "Accuracy: 0.908\n",
      "Loss: 0.363830049405444\n",
      "-\n",
      "Epoch 2 Iteration 750/1575\n",
      "Accuracy: 0.913\n",
      "Loss: 0.3402920223165976\n",
      "-\n",
      "Epoch 2 Iteration 775/1575\n",
      "Accuracy: 0.914\n",
      "Loss: 0.3038371802464582\n",
      "-\n",
      "Epoch 2 Iteration 800/1575\n",
      "Accuracy: 0.911\n",
      "Loss: 0.1628247107735859\n",
      "-\n",
      "Epoch 2 Iteration 825/1575\n",
      "Accuracy: 0.913\n",
      "Loss: 0.3303014980207331\n",
      "-\n",
      "Epoch 2 Iteration 850/1575\n",
      "Accuracy: 0.918\n",
      "Loss: 0.24274433780019172\n",
      "-\n",
      "Epoch 2 Iteration 875/1575\n",
      "Accuracy: 0.914\n",
      "Loss: 0.2789367406006574\n",
      "-\n",
      "Epoch 2 Iteration 900/1575\n",
      "Accuracy: 0.92\n",
      "Loss: 0.15156478855871275\n",
      "-\n",
      "Epoch 2 Iteration 925/1575\n",
      "Accuracy: 0.92\n",
      "Loss: 0.19094838719759472\n",
      "-\n",
      "Epoch 2 Iteration 950/1575\n",
      "Accuracy: 0.914\n",
      "Loss: 0.3569437044314612\n",
      "-\n",
      "Epoch 2 Iteration 975/1575\n",
      "Accuracy: 0.924\n",
      "Loss: 0.2545640750755804\n",
      "-\n",
      "Epoch 2 Iteration 1000/1575\n",
      "Accuracy: 0.919\n",
      "Loss: 0.30488000805018\n",
      "-\n",
      "Epoch 2 Iteration 1025/1575\n",
      "Accuracy: 0.92\n",
      "Loss: 0.3523693276503141\n",
      "-\n",
      "Epoch 3 Iteration 1050/1575\n",
      "Accuracy: 0.921\n",
      "Loss: 0.21040223911032793\n",
      "-\n",
      "Epoch 3 Iteration 1075/1575\n",
      "Accuracy: 0.925\n",
      "Loss: 0.443732770440592\n",
      "-\n",
      "Epoch 3 Iteration 1100/1575\n",
      "Accuracy: 0.925\n",
      "Loss: 0.31719691102420433\n",
      "-\n",
      "Epoch 3 Iteration 1125/1575\n",
      "Accuracy: 0.911\n",
      "Loss: 0.26086087443447104\n",
      "-\n",
      "Epoch 3 Iteration 1150/1575\n",
      "Accuracy: 0.925\n",
      "Loss: 0.19778926799868235\n",
      "-\n",
      "Epoch 3 Iteration 1175/1575\n",
      "Accuracy: 0.922\n",
      "Loss: 0.25715039060865175\n",
      "-\n",
      "Epoch 3 Iteration 1200/1575\n",
      "Accuracy: 0.925\n",
      "Loss: 0.11802851721920035\n",
      "-\n",
      "Epoch 3 Iteration 1225/1575\n",
      "Accuracy: 0.932\n",
      "Loss: 0.17084182922723887\n",
      "-\n",
      "Epoch 3 Iteration 1250/1575\n",
      "Accuracy: 0.923\n",
      "Loss: 0.2772538496788573\n",
      "-\n",
      "Epoch 3 Iteration 1275/1575\n",
      "Accuracy: 0.928\n",
      "Loss: 0.28918116276604205\n",
      "-\n",
      "Epoch 3 Iteration 1300/1575\n",
      "Accuracy: 0.927\n",
      "Loss: 0.19644668939186874\n",
      "-\n",
      "Epoch 3 Iteration 1325/1575\n",
      "Accuracy: 0.928\n",
      "Loss: 0.06963706827499921\n",
      "-\n",
      "Epoch 3 Iteration 1350/1575\n",
      "Accuracy: 0.93\n",
      "Loss: 0.2580349009250562\n",
      "-\n",
      "Epoch 3 Iteration 1375/1575\n",
      "Accuracy: 0.93\n",
      "Loss: 0.16060032763256243\n",
      "-\n",
      "Epoch 3 Iteration 1400/1575\n",
      "Accuracy: 0.929\n",
      "Loss: 0.21091427483045258\n",
      "-\n",
      "Epoch 3 Iteration 1425/1575\n",
      "Accuracy: 0.934\n",
      "Loss: 0.09595671367537009\n",
      "-\n",
      "Epoch 3 Iteration 1450/1575\n",
      "Accuracy: 0.934\n",
      "Loss: 0.11819555222583591\n",
      "-\n",
      "Epoch 3 Iteration 1475/1575\n",
      "Accuracy: 0.925\n",
      "Loss: 0.28104557282508624\n",
      "-\n",
      "Epoch 3 Iteration 1500/1575\n",
      "Accuracy: 0.93\n",
      "Loss: 0.18671276034478668\n",
      "-\n",
      "Epoch 3 Iteration 1525/1575\n",
      "Accuracy: 0.927\n",
      "Loss: 0.21874649561558773\n",
      "-\n",
      "Epoch 3 Iteration 1550/1575\n",
      "Accuracy: 0.932\n",
      "Loss: 0.23913093534009364\n",
      "-\n"
     ]
    }
   ],
   "source": [
    "net = Net(random_state = 0)\n",
    "\n",
    "n_classes = 10\n",
    "\n",
    "net.add_layer(784, 32, 'sigmoid')\n",
    "net.add_layer(32, 10, 'sigmoid')\n",
    "net.add_layer(10, n_classes, 'softmax')\n",
    "\n",
    "learning_rate = 1\n",
    "epochs = 3\n",
    "batchsize = 64\n",
    "\n",
    "net.fit(X_train, y_train, X_valid, y_valid, \n",
    "        n_classes = n_classes, \n",
    "        batchsize = batchsize, \n",
    "        epochs = epochs, \n",
    "        learning_rate = learning_rate)\n"
   ]
  },
  {
   "cell_type": "code",
   "execution_count": 390,
   "metadata": {},
   "outputs": [
    {
     "data": {
      "image/png": "[encoded data removed]",
      "text/plain": [
       "<Figure size 1080x432 with 2 Axes>"
      ]
     },
     "metadata": {},
     "output_type": "display_data"
    }
   ],
   "source": [
    "fig, (ax1, ax2) = plt.subplots(1, 2, figsize=(15,6))\n",
    "\n",
    "ax1.scatter([i for i in range(len(net.acc_history))], list(net.acc_history), s = 10)\n",
    "ax1.set_title('Accuracy per iteration')\n",
    "ax1.set_xlabel('Iteration')\n",
    "ax1.set_ylabel('Accuracy')\n",
    "\n",
    "ax2.scatter([i for i in range(len(net.loss_history))], list(net.loss_history), s = 10)\n",
    "ax2.set_title('Loss per iteration')\n",
    "ax2.set_xlabel('Iteration')\n",
    "ax2.set_ylabel('Loss')\n",
    "\n",
    "plt.show()\n"
   ]
  },
  {
   "cell_type": "code",
   "execution_count": 391,
   "metadata": {},
   "outputs": [
    {
     "name": "stdout",
     "output_type": "stream",
     "text": [
      "Test set accuracy: 93.4%\n"
     ]
    }
   ],
   "source": [
    "print(f'Test set accuracy: {round(net.score(X_test, y_test), 3)*100}%')"
   ]
  },
  {
   "cell_type": "code",
   "execution_count": 305,
   "metadata": {},
   "outputs": [],
   "source": [
    "def get_all_predictions(net, X_test, y_test):\n",
    "    all_predictions = []\n",
    "    for i in range(len(X_test)):\n",
    "        x = X_test[:, i, None]\n",
    "        prediction = net.predict(x)\n",
    "        prediction = np.argmax(prediction, 0)[0]\n",
    "        label = y_test[i]\n",
    "\n",
    "        all_predictions.append((prediction,label, x))\n",
    "    return all_predictions"
   ]
  },
  {
   "cell_type": "code",
   "execution_count": 198,
   "metadata": {},
   "outputs": [],
   "source": [
    "predictions = get_all_predictions(net, X_test, y_test)\n",
    "wrong_predictions = [(predicted, label, x) for predicted, label, x in predictions if predicted != label]\n",
    "right_predictions = [(predicted, label, x) for predicted, label, x in predictions if predicted == label]"
   ]
  },
  {
   "cell_type": "code",
   "execution_count": 199,
   "metadata": {
    "scrolled": false
   },
   "outputs": [
    {
     "name": "stdout",
     "output_type": "stream",
     "text": [
      "Prediction:  8\n",
      "Label:  1\n"
     ]
    },
    {
     "data": {
      "image/png": "[encoded data removed]",
      "text/plain": [
       "<Figure size 432x288 with 1 Axes>"
      ]
     },
     "metadata": {},
     "output_type": "display_data"
    },
    {
     "name": "stdout",
     "output_type": "stream",
     "text": [
      "Prediction:  5\n",
      "Label:  9\n"
     ]
    },
    {
     "data": {
      "image/png": "[encoded data removed]",
      "text/plain": [
       "<Figure size 432x288 with 1 Axes>"
      ]
     },
     "metadata": {},
     "output_type": "display_data"
    },
    {
     "name": "stdout",
     "output_type": "stream",
     "text": [
      "Prediction:  1\n",
      "Label:  7\n"
     ]
    },
    {
     "data": {
      "image/png": "[encoded data removed]",
      "text/plain": [
       "<Figure size 432x288 with 1 Axes>"
      ]
     },
     "metadata": {},
     "output_type": "display_data"
    },
    {
     "name": "stdout",
     "output_type": "stream",
     "text": [
      "Prediction:  3\n",
      "Label:  5\n"
     ]
    },
    {
     "data": {
      "image/png": "[encoded data removed]",
      "text/plain": [
       "<Figure size 432x288 with 1 Axes>"
      ]
     },
     "metadata": {},
     "output_type": "display_data"
    },
    {
     "name": "stdout",
     "output_type": "stream",
     "text": [
      "Prediction:  7\n",
      "Label:  3\n"
     ]
    },
    {
     "data": {
      "image/png": "[encoded data removed]",
      "text/plain": [
       "<Figure size 432x288 with 1 Axes>"
      ]
     },
     "metadata": {},
     "output_type": "display_data"
    },
    {
     "name": "stdout",
     "output_type": "stream",
     "text": [
      "Prediction:  4\n",
      "Label:  9\n"
     ]
    },
    {
     "data": {
      "image/png": "[encoded data removed]",
      "text/plain": [
       "<Figure size 432x288 with 1 Axes>"
      ]
     },
     "metadata": {},
     "output_type": "display_data"
    },
    {
     "name": "stdout",
     "output_type": "stream",
     "text": [
      "Prediction:  8\n",
      "Label:  9\n"
     ]
    },
    {
     "data": {
      "image/png": "[encoded data removed]",
      "text/plain": [
       "<Figure size 432x288 with 1 Axes>"
      ]
     },
     "metadata": {},
     "output_type": "display_data"
    },
    {
     "name": "stdout",
     "output_type": "stream",
     "text": [
      "Prediction:  6\n",
      "Label:  2\n"
     ]
    },
    {
     "data": {
      "image/png": "[encoded data removed]",
      "text/plain": [
       "<Figure size 432x288 with 1 Axes>"
      ]
     },
     "metadata": {},
     "output_type": "display_data"
    },
    {
     "name": "stdout",
     "output_type": "stream",
     "text": [
      "Prediction:  8\n",
      "Label:  2\n"
     ]
    },
    {
     "data": {
      "image/png": "[encoded data removed]",
      "text/plain": [
       "<Figure size 432x288 with 1 Axes>"
      ]
     },
     "metadata": {},
     "output_type": "display_data"
    },
    {
     "name": "stdout",
     "output_type": "stream",
     "text": [
      "Prediction:  1\n",
      "Label:  7\n"
     ]
    },
    {
     "data": {
      "image/png": "[encoded data removed]",
      "text/plain": [
       "<Figure size 432x288 with 1 Axes>"
      ]
     },
     "metadata": {},
     "output_type": "display_data"
    }
   ],
   "source": [
    "for prediction, label, x in wrong_predictions[:10]:\n",
    "    print('Prediction: ', prediction)\n",
    "    print('Label: ', label)\n",
    "    plt.imshow(x.reshape((28,28)) * 255)\n",
    "    plt.show()"
   ]
  }
 ],
 "metadata": {
  "kernelspec": {
   "display_name": "Python 3 (ipykernel)",
   "language": "python",
   "name": "python3"
  },
  "language_info": {
   "codemirror_mode": {
    "name": "ipython",
    "version": 3
   },
   "file_extension": ".py",
   "mimetype": "text/x-python",
   "name": "python",
   "nbconvert_exporter": "python",
   "pygments_lexer": "ipython3",
   "version": "3.8.5"
  }
 },
 "nbformat": 4,
 "nbformat_minor": 1
}
