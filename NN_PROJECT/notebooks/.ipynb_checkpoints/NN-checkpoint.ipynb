{
 "cells": [
  {
   "cell_type": "code",
   "execution_count": 3,
   "metadata": {},
   "outputs": [],
   "source": [
    "import numpy as np\n",
    "import pandas as pd\n",
    "from matplotlib import pyplot as plt\n",
    "\n",
    "data = pd.read_csv('train.csv')"
   ]
  },
  {
   "cell_type": "code",
   "execution_count": 379,
   "metadata": {},
   "outputs": [],
   "source": [
    "data = np.array(data)\n",
    "m, n = data.shape\n",
    "np.random.shuffle(data) # shuffle before splitting into dev and training sets\n",
    "\n",
    "data_dev = data[0:1000].T\n",
    "Y_dev = data_dev[0]\n",
    "X_dev = data_dev[1:n]\n",
    "X_dev = X_dev / 255.\n",
    "\n",
    "data_train = data[1000:m].T\n",
    "Y_train = data_train[0]\n",
    "X_train = data_train[1:n]\n",
    "X_train = X_train / 255.\n",
    "_,m_train = X_train.shape"
   ]
  },
  {
   "cell_type": "code",
   "execution_count": 423,
   "metadata": {},
   "outputs": [],
   "source": [
    "class Net:\n",
    "    def __init__(self):\n",
    "        self.layers = []\n",
    "        \n",
    "    def add_layer(self, n_inputs, n_outputs, activation):\n",
    "        if activation == 'ReLU':\n",
    "            activation = self.ReLU\n",
    "        elif activation == 'sigmoid':\n",
    "            activation = self.sigmoid\n",
    "        elif activation == 'softmax':\n",
    "            activation = self.softmax\n",
    "        else:\n",
    "            raise Exception(f\"{activation} is not a valid activation function\")\n",
    "                            \n",
    "        if len(self.layers) > 0:\n",
    "            if n_inputs == self.layers[-1].n_outputs:\n",
    "                layer = Layer_Dense(n_inputs, n_outputs, activation)\n",
    "            else:\n",
    "                raise Exception('Invalid layer dims')\n",
    "        else:\n",
    "            layer = Layer_Dense(n_inputs, n_outputs, activation)\n",
    "            \n",
    "        self.layers.append(layer)\n",
    "\n",
    "    def loss_f(self, predicted, targets):\n",
    "        return predicted - targets\n",
    "    \n",
    "    def CCE(self, y_pred, y_true):\n",
    "        pass\n",
    "                  \n",
    "    def ReLU(self, Z, derive = False):\n",
    "        if not derive:\n",
    "            return np.maximum(Z, 0)\n",
    "        else:\n",
    "            return Z > 0\n",
    "        \n",
    "    def sigmoid(self, Z, derive = False):\n",
    "        if not derive:\n",
    "            return 1/(1 + np.exp(-Z))\n",
    "        else:\n",
    "            y = 1/(1 + np.exp(-Z))\n",
    "            yp = y * (1.0 - y)\n",
    "            return yp\n",
    "        \n",
    "    \n",
    "    def softmax(self, Z):\n",
    "        A = np.exp(Z) / sum(np.exp(Z))\n",
    "        return A\n",
    "    \n",
    "    def one_hot(self, Y, n_classes):\n",
    "        one_hot_Y = np.zeros((Y.size, n_classes))\n",
    "        one_hot_Y[np.arange(Y.size), Y] = 1\n",
    "        one_hot_Y = one_hot_Y.T\n",
    "        return one_hot_Y\n",
    "    \n",
    "    def update_params(self, layer, dW, db, learning_rate):\n",
    "        layer.W -= learning_rate * dW\n",
    "        layer.b -= learning_rate * db\n",
    "        \n",
    "    def forward_propagate(self, inputs):\n",
    "        for i, layer in enumerate(self.layers):    \n",
    "            layer.inputs = inputs\n",
    "            Z = layer.W.dot(inputs) + layer.b\n",
    "            A = layer.activation(Z)\n",
    "            layer.Z = Z\n",
    "            layer.A = A\n",
    "            inputs = A\n",
    "        return A\n",
    "    \n",
    "    def backward_propagate(self, outputs, Y, learning_rate, n_classes):\n",
    "        m = outputs.shape[1]\n",
    "        one_hot_y = self.one_hot(Y, n_classes)\n",
    "        \n",
    "        # deriva_cost_funct = errors\n",
    "        # deriva_preds = sigmoid_derivative(pred)\n",
    "        # deriva_product = deriva_cost_funct * deriva_pred     \n",
    "        \n",
    "        for i in reversed(range(len(self.layers))):\n",
    "            layer = self.layers[i]\n",
    "            if i == len(self.layers)-1:\n",
    "                dZ = self.loss_f(outputs, one_hot_y)\n",
    "                loss = dZ.sum()\n",
    "            else:\n",
    "                dZ = self.layers[i+1].W.T.dot(dZ) * layer.activation(layer.Z, derive = True)\n",
    "                            \n",
    "            dW = 1/m * dZ.dot(layer.inputs.T)\n",
    "            db = 1/m * np.sum(dZ)\n",
    "            \n",
    "            self.update_params(layer, dW, db, learning_rate)\n",
    "        return loss\n",
    "    \n",
    "    def get_predictions(self, prediction):\n",
    "        return np.argmax(prediction, 0)\n",
    "    \n",
    "    def score(self, X, Y):\n",
    "        predictions = self.get_predictions(self.predict(X))\n",
    "        return np.sum(predictions == Y) / Y.size\n",
    "                \n",
    "    def fit(self, X, Y, n_classes, batchsize = None, epochs = 500, learning_rate = 1):\n",
    "        if not batchsize:\n",
    "            batchsize = X.shape[1]\n",
    "            \n",
    "        for epoch in range(epochs):\n",
    "            for start_idx in range(0, X.T.shape[0], batchsize):\n",
    "                end_idx = min(start_idx + batchsize, X.T.shape[0])\n",
    "                excerpt = slice(start_idx, end_idx)\n",
    "\n",
    "                inputs = X.T[excerpt].T\n",
    "                targets = Y.T[excerpt].T\n",
    "            \n",
    "                predictions = self.forward_propagate(inputs)\n",
    "                loss = self.backward_propagate(predictions, targets, learning_rate, n_classes)\n",
    "\n",
    "            print(\"Iteration: \", epoch)\n",
    "            print('Loss: ', loss)\n",
    "            print('Accuracy: ', self.score(X,Y))\n",
    "    \n",
    "    def predict(self, X): \n",
    "        return self.forward_propagate(X)\n",
    "\n",
    "        \n",
    "class Layer_Dense:\n",
    "    def __init__(self, n_inputs, n_outputs, activation):\n",
    "        self.n_inputs = n_inputs\n",
    "        self.n_outputs = n_outputs\n",
    "        self.W = np.random.rand(n_outputs, n_inputs) - 0.5\n",
    "        self.b =  np.random.rand(n_outputs, 1) - 0.5\n",
    "        \n",
    "        #self.W = self.W.astype(np.float128)\n",
    "        #self.b = self.b.astype(np.float128)\n",
    "        \n",
    "        self.activation = activation\n",
    "        \n",
    "        self.inputs = None\n",
    "        self.Z = None\n",
    "        self.A = None\n"
   ]
  },
  {
   "cell_type": "code",
   "execution_count": 424,
   "metadata": {
    "scrolled": true
   },
   "outputs": [
    {
     "name": "stdout",
     "output_type": "stream",
     "text": [
      "Iteration:  0\n",
      "Loss:  8.668621376273222e-13\n",
      "Accuracy:  0.06829268292682927\n",
      "Iteration:  1\n",
      "Loss:  1.4210854715202004e-14\n",
      "Accuracy:  0.09865853658536586\n",
      "Iteration:  2\n",
      "Loss:  -6.394884621840902e-14\n",
      "Accuracy:  0.12804878048780488\n",
      "Iteration:  3\n",
      "Loss:  -8.171241461241152e-14\n",
      "Accuracy:  0.16209756097560976\n",
      "Iteration:  4\n",
      "Loss:  -1.9895196601282805e-13\n",
      "Accuracy:  0.20360975609756096\n",
      "Iteration:  5\n",
      "Loss:  1.3855583347321954e-13\n",
      "Accuracy:  0.2436341463414634\n",
      "Iteration:  6\n",
      "Loss:  1.4210854715202004e-14\n",
      "Accuracy:  0.28548780487804876\n",
      "Iteration:  7\n",
      "Loss:  9.592326932761353e-14\n",
      "Accuracy:  0.3242439024390244\n",
      "Iteration:  8\n",
      "Loss:  -1.7763568394002505e-15\n",
      "Accuracy:  0.3618780487804878\n",
      "Iteration:  9\n",
      "Loss:  7.460698725481052e-14\n",
      "Accuracy:  0.39395121951219514\n",
      "Iteration:  10\n",
      "Loss:  -2.1316282072803006e-14\n",
      "Accuracy:  0.4205609756097561\n",
      "Iteration:  11\n",
      "Loss:  7.993605777301127e-15\n",
      "Accuracy:  0.44282926829268293\n",
      "Iteration:  12\n",
      "Loss:  -4.440892098500626e-14\n",
      "Accuracy:  0.4615365853658537\n",
      "Iteration:  13\n",
      "Loss:  2.424727085781342e-13\n",
      "Accuracy:  0.4775609756097561\n",
      "Iteration:  14\n",
      "Loss:  -2.842170943040401e-14\n",
      "Accuracy:  0.4900731707317073\n",
      "Iteration:  15\n",
      "Loss:  2.2382096176443156e-13\n",
      "Accuracy:  0.5024878048780488\n",
      "Iteration:  16\n",
      "Loss:  -8.43769498715119e-14\n",
      "Accuracy:  0.5120487804878049\n",
      "Iteration:  17\n",
      "Loss:  1.3322676295501878e-14\n",
      "Accuracy:  0.5212926829268293\n",
      "Iteration:  18\n",
      "Loss:  -1.1901590823981678e-13\n",
      "Accuracy:  0.5305121951219512\n",
      "Iteration:  19\n",
      "Loss:  -6.039613253960852e-14\n",
      "Accuracy:  0.5383170731707317\n",
      "--------------------\n"
     ]
    }
   ],
   "source": [
    "net = Net()\n",
    "\n",
    "net.add_layer(784, 10, 'sigmoid')\n",
    "net.add_layer(10, 10, 'softmax')\n",
    "net.fit(X_train, Y_train, n_classes = 10, batchsize = 41000, epochs = 20, learning_rate = 1)\n",
    "\n",
    "print('-'*20)\n"
   ]
  },
  {
   "cell_type": "code",
   "execution_count": 386,
   "metadata": {},
   "outputs": [
    {
     "data": {
      "text/plain": [
       "0.918"
      ]
     },
     "execution_count": 386,
     "metadata": {},
     "output_type": "execute_result"
    }
   ],
   "source": [
    "net.score(X_dev, Y_dev)"
   ]
  },
  {
   "cell_type": "code",
   "execution_count": 11,
   "metadata": {},
   "outputs": [],
   "source": [
    "def test_prediction(net, index):\n",
    "    current_image = X_train[:, index, None]\n",
    "    prediction = net.predict(X_train[:, index, None])\n",
    "    prediction = net.get_predictions(prediction)\n",
    "    label = Y_train[index]\n",
    "    print('Prediction: ', prediction)\n",
    "    print('Label: ', label)\n",
    "    \n",
    "    current_image = current_image.reshape((28,28)) * 255\n",
    "    plt.gray()\n",
    "    plt.imshow(current_image, interpolation = 'nearest')\n",
    "    plt.show()"
   ]
  },
  {
   "cell_type": "code",
   "execution_count": 387,
   "metadata": {
    "scrolled": true
   },
   "outputs": [
    {
     "name": "stdout",
     "output_type": "stream",
     "text": [
      "Prediction:  [6]\n",
      "Label:  6\n"
     ]
    },
    {
     "data": {
      "image/png": "[encoded data removed]",
      "text/plain": [
       "<Figure size 432x288 with 1 Axes>"
      ]
     },
     "metadata": {
      "needs_background": "light"
     },
     "output_type": "display_data"
    },
    {
     "name": "stdout",
     "output_type": "stream",
     "text": [
      "Prediction:  [1]\n",
      "Label:  1\n"
     ]
    },
    {
     "data": {
      "image/png": "[encoded data removed]",
      "text/plain": [
       "<Figure size 432x288 with 1 Axes>"
      ]
     },
     "metadata": {
      "needs_background": "light"
     },
     "output_type": "display_data"
    },
    {
     "name": "stdout",
     "output_type": "stream",
     "text": [
      "Prediction:  [5]\n",
      "Label:  5\n"
     ]
    },
    {
     "data": {
      "image/png": "[encoded data removed]",
      "text/plain": [
       "<Figure size 432x288 with 1 Axes>"
      ]
     },
     "metadata": {
      "needs_background": "light"
     },
     "output_type": "display_data"
    },
    {
     "name": "stdout",
     "output_type": "stream",
     "text": [
      "Prediction:  [1]\n",
      "Label:  1\n"
     ]
    },
    {
     "data": {
      "image/png": "[encoded data removed]",
      "text/plain": [
       "<Figure size 432x288 with 1 Axes>"
      ]
     },
     "metadata": {
      "needs_background": "light"
     },
     "output_type": "display_data"
    },
    {
     "name": "stdout",
     "output_type": "stream",
     "text": [
      "Prediction:  [2]\n",
      "Label:  2\n"
     ]
    },
    {
     "data": {
      "image/png": "[encoded data removed]",
      "text/plain": [
       "<Figure size 432x288 with 1 Axes>"
      ]
     },
     "metadata": {
      "needs_background": "light"
     },
     "output_type": "display_data"
    },
    {
     "name": "stdout",
     "output_type": "stream",
     "text": [
      "Prediction:  [7]\n",
      "Label:  7\n"
     ]
    },
    {
     "data": {
      "image/png": "[encoded data removed]",
      "text/plain": [
       "<Figure size 432x288 with 1 Axes>"
      ]
     },
     "metadata": {
      "needs_background": "light"
     },
     "output_type": "display_data"
    },
    {
     "name": "stdout",
     "output_type": "stream",
     "text": [
      "Prediction:  [4]\n",
      "Label:  4\n"
     ]
    },
    {
     "data": {
      "image/png": "[encoded data removed]",
      "text/plain": [
       "<Figure size 432x288 with 1 Axes>"
      ]
     },
     "metadata": {
      "needs_background": "light"
     },
     "output_type": "display_data"
    },
    {
     "name": "stdout",
     "output_type": "stream",
     "text": [
      "Prediction:  [2]\n",
      "Label:  2\n"
     ]
    },
    {
     "data": {
      "image/png": "[encoded data removed]",
      "text/plain": [
       "<Figure size 432x288 with 1 Axes>"
      ]
     },
     "metadata": {
      "needs_background": "light"
     },
     "output_type": "display_data"
    },
    {
     "name": "stdout",
     "output_type": "stream",
     "text": [
      "Prediction:  [9]\n",
      "Label:  4\n"
     ]
    },
    {
     "data": {
      "image/png": "[encoded data removed]",
      "text/plain": [
       "<Figure size 432x288 with 1 Axes>"
      ]
     },
     "metadata": {
      "needs_background": "light"
     },
     "output_type": "display_data"
    },
    {
     "name": "stdout",
     "output_type": "stream",
     "text": [
      "Prediction:  [7]\n",
      "Label:  7\n"
     ]
    },
    {
     "data": {
      "image/png": "[encoded data removed]",
      "text/plain": [
       "<Figure size 432x288 with 1 Axes>"
      ]
     },
     "metadata": {
      "needs_background": "light"
     },
     "output_type": "display_data"
    },
    {
     "name": "stdout",
     "output_type": "stream",
     "text": [
      "Prediction:  [7]\n",
      "Label:  7\n"
     ]
    },
    {
     "data": {
      "image/png": "[encoded data removed]",
      "text/plain": [
       "<Figure size 432x288 with 1 Axes>"
      ]
     },
     "metadata": {
      "needs_background": "light"
     },
     "output_type": "display_data"
    },
    {
     "name": "stdout",
     "output_type": "stream",
     "text": [
      "Prediction:  [3]\n",
      "Label:  3\n"
     ]
    },
    {
     "data": {
      "image/png": "[encoded data removed]",
      "text/plain": [
       "<Figure size 432x288 with 1 Axes>"
      ]
     },
     "metadata": {
      "needs_background": "light"
     },
     "output_type": "display_data"
    },
    {
     "name": "stdout",
     "output_type": "stream",
     "text": [
      "Prediction:  [9]\n",
      "Label:  9\n"
     ]
    },
    {
     "data": {
      "image/png": "[encoded data removed]",
      "text/plain": [
       "<Figure size 432x288 with 1 Axes>"
      ]
     },
     "metadata": {
      "needs_background": "light"
     },
     "output_type": "display_data"
    },
    {
     "name": "stdout",
     "output_type": "stream",
     "text": [
      "Prediction:  [9]\n",
      "Label:  9\n"
     ]
    },
    {
     "data": {
      "image/png": "[encoded data removed]",
      "text/plain": [
       "<Figure size 432x288 with 1 Axes>"
      ]
     },
     "metadata": {
      "needs_background": "light"
     },
     "output_type": "display_data"
    },
    {
     "name": "stdout",
     "output_type": "stream",
     "text": [
      "Prediction:  [1]\n",
      "Label:  1\n"
     ]
    },
    {
     "data": {
      "image/png": "[encoded data removed]",
      "text/plain": [
       "<Figure size 432x288 with 1 Axes>"
      ]
     },
     "metadata": {
      "needs_background": "light"
     },
     "output_type": "display_data"
    },
    {
     "name": "stdout",
     "output_type": "stream",
     "text": [
      "Prediction:  [4]\n",
      "Label:  4\n"
     ]
    },
    {
     "data": {
      "image/png": "[encoded data removed]",
      "text/plain": [
       "<Figure size 432x288 with 1 Axes>"
      ]
     },
     "metadata": {
      "needs_background": "light"
     },
     "output_type": "display_data"
    },
    {
     "name": "stdout",
     "output_type": "stream",
     "text": [
      "Prediction:  [2]\n",
      "Label:  2\n"
     ]
    },
    {
     "data": {
      "image/png": "[encoded data removed]",
      "text/plain": [
       "<Figure size 432x288 with 1 Axes>"
      ]
     },
     "metadata": {
      "needs_background": "light"
     },
     "output_type": "display_data"
    },
    {
     "name": "stdout",
     "output_type": "stream",
     "text": [
      "Prediction:  [0]\n",
      "Label:  0\n"
     ]
    },
    {
     "data": {
      "image/png": "[encoded data removed]",
      "text/plain": [
       "<Figure size 432x288 with 1 Axes>"
      ]
     },
     "metadata": {
      "needs_background": "light"
     },
     "output_type": "display_data"
    },
    {
     "name": "stdout",
     "output_type": "stream",
     "text": [
      "Prediction:  [4]\n",
      "Label:  4\n"
     ]
    },
    {
     "data": {
      "image/png": "[encoded data removed]",
      "text/plain": [
       "<Figure size 432x288 with 1 Axes>"
      ]
     },
     "metadata": {
      "needs_background": "light"
     },
     "output_type": "display_data"
    },
    {
     "name": "stdout",
     "output_type": "stream",
     "text": [
      "Prediction:  [5]\n",
      "Label:  5\n"
     ]
    },
    {
     "data": {
      "image/png": "[encoded data removed]",
      "text/plain": [
       "<Figure size 432x288 with 1 Axes>"
      ]
     },
     "metadata": {
      "needs_background": "light"
     },
     "output_type": "display_data"
    }
   ],
   "source": [
    "for i in range(20):\n",
    "    test_prediction(net, i)"
   ]
  }
 ],
 "metadata": {
  "kernelspec": {
   "display_name": "Python 3",
   "language": "python",
   "name": "python3"
  },
  "language_info": {
   "codemirror_mode": {
    "name": "ipython",
    "version": 3
   },
   "file_extension": ".py",
   "mimetype": "text/x-python",
   "name": "python",
   "nbconvert_exporter": "python",
   "pygments_lexer": "ipython3",
   "version": "3.8.5"
  }
 },
 "nbformat": 4,
 "nbformat_minor": 1
}
