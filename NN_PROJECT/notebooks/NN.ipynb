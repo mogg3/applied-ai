{
 "cells": [
  {
   "cell_type": "code",
   "execution_count": 3,
   "metadata": {},
   "outputs": [],
   "source": [
    "import numpy as np\n",
    "import pandas as pd\n",
    "from matplotlib import pyplot as plt\n",
    "\n",
    "data = pd.read_csv('train.csv')"
   ]
  },
  {
   "cell_type": "code",
   "execution_count": 130,
   "metadata": {},
   "outputs": [],
   "source": [
    "data = np.array(data)\n",
    "m, n = data.shape\n",
    "np.random.shuffle(data) # shuffle before splitting into dev and training sets\n",
    "\n",
    "data_dev = data[0:1000].T\n",
    "Y_dev = data_dev[0]\n",
    "X_dev = data_dev[1:n]\n",
    "X_dev = X_dev / 255.\n",
    "\n",
    "data_train = data[1000:m].T\n",
    "Y_train = data_train[0]\n",
    "X_train = data_train[1:n]\n",
    "X_train = X_train / 255.\n",
    "_,m_train = X_train.shape"
   ]
  },
  {
   "cell_type": "code",
   "execution_count": 212,
   "metadata": {},
   "outputs": [],
   "source": [
    "class Net:\n",
    "    def __init__(self):\n",
    "        self.layers = []\n",
    "        \n",
    "    def add_layer(self, n_inputs, n_outputs, activation):\n",
    "        if activation == 'ReLU':\n",
    "            activation = self.ReLU\n",
    "        elif activation == 'sigmoid':\n",
    "            activation = self.sigmoid\n",
    "        elif activation == 'softmax':\n",
    "            activation = self.softmax\n",
    "        else:\n",
    "            raise Exception(f\"{activation} is not a valid activation function\")\n",
    "                            \n",
    "        if len(self.layers) > 0:\n",
    "            if n_inputs == self.layers[-1].n_outputs:\n",
    "                layer = Layer_Dense(n_inputs, n_outputs, activation)\n",
    "            else:\n",
    "                raise Exception('Invalid layer dims')\n",
    "        else:\n",
    "            layer = Layer_Dense(n_inputs, n_outputs, activation)\n",
    "            \n",
    "        self.layers.append(layer)\n",
    "\n",
    "    \n",
    "    def ReLU(self, Z, derive = False):\n",
    "        if not derive:\n",
    "            return np.maximum(Z, 0)\n",
    "        else:\n",
    "            return Z > 0\n",
    "        \n",
    "    def sigmoid(self, Z, derive = False):\n",
    "        if not derive:\n",
    "            return 1/(1 + np.exp(-Z))\n",
    "        else:\n",
    "            y = 1/(1 + np.exp(-Z))\n",
    "            yp = y * (1.0 - y)\n",
    "            return yp\n",
    "        \n",
    "    \n",
    "    def softmax(self, Z):\n",
    "        A = np.exp(Z) / sum(np.exp(Z))\n",
    "        return A\n",
    "    \n",
    "    def one_hot(self, Y, n_classes):\n",
    "        one_hot_Y = np.zeros((Y.size, n_classes))\n",
    "        one_hot_Y[np.arange(Y.size), Y] = 1\n",
    "        one_hot_Y = one_hot_Y.T\n",
    "        return one_hot_Y\n",
    "    \n",
    "    def update_params(self, layer, dW, db, learning_rate):\n",
    "        layer.W -= learning_rate * dW\n",
    "        layer.b -= learning_rate * db\n",
    "        \n",
    "    def forward_propagate(self, inputs):\n",
    "        for i, layer in enumerate(self.layers):    \n",
    "            layer.inputs = inputs\n",
    "            Z = layer.W.dot(inputs) + layer.b\n",
    "            A = layer.activation(Z)\n",
    "            layer.Z = Z\n",
    "            layer.A = A\n",
    "            inputs = A\n",
    "        return A\n",
    "    \n",
    "    def backward_propagate(self, outputs, Y, learning_rate, n_classes):\n",
    "        one_hot_y = self.one_hot(Y, n_classes)\n",
    "        \n",
    "        for i in reversed(range(len(self.layers))):\n",
    "            layer = self.layers[i]\n",
    "            if i == len(self.layers)-1:\n",
    "                dZ = outputs - one_hot_y\n",
    "            else:\n",
    "                dZ = self.layers[i+1].W.T.dot(dZ) * layer.activation(layer.Z, derive = True)\n",
    "            dW = 1/m * dZ.dot(layer.inputs.T)\n",
    "            db = 1/m * np.sum(dZ)\n",
    "            self.update_params(layer, dW, db, learning_rate)\n",
    "    \n",
    "    def get_predictions(self, prediction):\n",
    "        return np.argmax(prediction, 0)\n",
    "    \n",
    "    def score(self, X, Y):\n",
    "        predictions = self.get_predictions(self.predict(X))\n",
    "        return np.sum(predictions == Y) / Y.size\n",
    "                \n",
    "    def fit_minibatch(self, X, Y, n_classes, batchsize, epochs = 500, learning_rate = 1):\n",
    "        for epoch in range(epochs):\n",
    "            for start_idx in range(0, X.T.shape[0], batchsize):\n",
    "                end_idx = min(start_idx + batchsize, X.T.shape[0])\n",
    "                excerpt = slice(start_idx, end_idx)\n",
    "\n",
    "                inputs = X.T[excerpt].T\n",
    "                targets = Y.T[excerpt].T\n",
    "            \n",
    "                predictions = self.forward_propagate(inputs)\n",
    "                loss = self.backward_propagate(predictions, targets, learning_rate, n_classes)\n",
    "\n",
    "            print(\"Iteration: \", epoch)\n",
    "            print('Accuracy: ', self.score(X,Y))\n",
    "    \n",
    "    def predict(self, X): \n",
    "        return self.forward_propagate(X)\n",
    "\n",
    "        \n",
    "class Layer_Dense:\n",
    "    def __init__(self, n_inputs, n_outputs, activation):\n",
    "        self.n_inputs = n_inputs\n",
    "        self.n_outputs = n_outputs\n",
    "        self.W = np.random.rand(n_outputs, n_inputs) - 0.5\n",
    "        self.b =  np.random.rand(n_outputs, 1) - 0.5\n",
    "        \n",
    "        #self.W = self.W.astype(np.float128)\n",
    "        #self.b = self.b.astype(np.float128)\n",
    "        \n",
    "        self.activation = activation\n",
    "        \n",
    "        self.inputs = None\n",
    "        self.Z = None\n",
    "        self.A = None\n"
   ]
  },
  {
   "cell_type": "code",
   "execution_count": 215,
   "metadata": {
    "scrolled": true
   },
   "outputs": [
    {
     "name": "stdout",
     "output_type": "stream",
     "text": [
      "Iteration:  0\n",
      "Accuracy:  0.1524390243902439\n",
      "Iteration:  1\n",
      "Accuracy:  0.18460975609756097\n",
      "Iteration:  2\n",
      "Accuracy:  0.21009756097560975\n",
      "Iteration:  3\n",
      "Accuracy:  0.23217073170731709\n",
      "Iteration:  4\n",
      "Accuracy:  0.2529512195121951\n",
      "Iteration:  5\n",
      "Accuracy:  0.2751707317073171\n",
      "Iteration:  6\n",
      "Accuracy:  0.29897560975609755\n",
      "Iteration:  7\n",
      "Accuracy:  0.32502439024390245\n",
      "Iteration:  8\n",
      "Accuracy:  0.3510731707317073\n",
      "Iteration:  9\n",
      "Accuracy:  0.3780731707317073\n",
      "Iteration:  10\n",
      "Accuracy:  0.4045609756097561\n",
      "Iteration:  11\n",
      "Accuracy:  0.42853658536585365\n",
      "Iteration:  12\n",
      "Accuracy:  0.45121951219512196\n",
      "Iteration:  13\n",
      "Accuracy:  0.47136585365853656\n",
      "Iteration:  14\n",
      "Accuracy:  0.48990243902439023\n",
      "Iteration:  15\n",
      "Accuracy:  0.5077560975609756\n",
      "Iteration:  16\n",
      "Accuracy:  0.5249268292682927\n",
      "Iteration:  17\n",
      "Accuracy:  0.5403170731707317\n",
      "Iteration:  18\n",
      "Accuracy:  0.5540731707317074\n",
      "Iteration:  19\n",
      "Accuracy:  0.5668536585365853\n",
      "Iteration:  20\n",
      "Accuracy:  0.5783414634146341\n",
      "Iteration:  21\n",
      "Accuracy:  0.5892439024390244\n",
      "Iteration:  22\n",
      "Accuracy:  0.599609756097561\n",
      "Iteration:  23\n",
      "Accuracy:  0.6086341463414634\n",
      "Iteration:  24\n",
      "Accuracy:  0.6178048780487805\n",
      "Iteration:  25\n",
      "Accuracy:  0.6268536585365854\n",
      "Iteration:  26\n",
      "Accuracy:  0.6355121951219512\n",
      "Iteration:  27\n",
      "Accuracy:  0.6434878048780488\n",
      "Iteration:  28\n",
      "Accuracy:  0.6504878048780488\n",
      "Iteration:  29\n",
      "Accuracy:  0.6582439024390244\n",
      "Iteration:  30\n",
      "Accuracy:  0.6644634146341464\n",
      "Iteration:  31\n",
      "Accuracy:  0.6713414634146342\n",
      "Iteration:  32\n",
      "Accuracy:  0.6773902439024391\n",
      "Iteration:  33\n",
      "Accuracy:  0.6830975609756098\n",
      "Iteration:  34\n",
      "Accuracy:  0.6886829268292682\n",
      "Iteration:  35\n",
      "Accuracy:  0.6935121951219512\n",
      "Iteration:  36\n",
      "Accuracy:  0.6990975609756097\n",
      "Iteration:  37\n",
      "Accuracy:  0.7035121951219512\n",
      "Iteration:  38\n",
      "Accuracy:  0.7083170731707317\n",
      "Iteration:  39\n",
      "Accuracy:  0.7125609756097561\n",
      "Iteration:  40\n",
      "Accuracy:  0.7169756097560975\n",
      "Iteration:  41\n",
      "Accuracy:  0.7211463414634146\n",
      "Iteration:  42\n",
      "Accuracy:  0.724170731707317\n",
      "Iteration:  43\n",
      "Accuracy:  0.7283658536585366\n",
      "Iteration:  44\n",
      "Accuracy:  0.7318780487804878\n",
      "Iteration:  45\n",
      "Accuracy:  0.7353658536585366\n",
      "Iteration:  46\n",
      "Accuracy:  0.7381463414634146\n",
      "Iteration:  47\n",
      "Accuracy:  0.7408292682926829\n",
      "Iteration:  48\n",
      "Accuracy:  0.7434634146341463\n",
      "Iteration:  49\n",
      "Accuracy:  0.7460975609756098\n",
      "Iteration:  50\n",
      "Accuracy:  0.7489024390243902\n",
      "Iteration:  51\n",
      "Accuracy:  0.7517317073170732\n",
      "Iteration:  52\n",
      "Accuracy:  0.7538292682926829\n",
      "Iteration:  53\n",
      "Accuracy:  0.7564390243902439\n",
      "Iteration:  54\n",
      "Accuracy:  0.759\n",
      "Iteration:  55\n",
      "Accuracy:  0.761219512195122\n",
      "Iteration:  56\n",
      "Accuracy:  0.7630487804878049\n",
      "Iteration:  57\n",
      "Accuracy:  0.7649024390243903\n",
      "Iteration:  58\n",
      "Accuracy:  0.7668780487804878\n",
      "Iteration:  59\n",
      "Accuracy:  0.7687317073170732\n",
      "Iteration:  60\n",
      "Accuracy:  0.770219512195122\n",
      "Iteration:  61\n",
      "Accuracy:  0.7723658536585366\n",
      "Iteration:  62\n",
      "Accuracy:  0.7743658536585366\n",
      "Iteration:  63\n",
      "Accuracy:  0.7757073170731708\n",
      "Iteration:  64\n",
      "Accuracy:  0.777219512195122\n",
      "Iteration:  65\n",
      "Accuracy:  0.778609756097561\n",
      "Iteration:  66\n",
      "Accuracy:  0.7797317073170732\n",
      "Iteration:  67\n",
      "Accuracy:  0.7814878048780488\n",
      "Iteration:  68\n",
      "Accuracy:  0.782609756097561\n",
      "Iteration:  69\n",
      "Accuracy:  0.784219512195122\n",
      "Iteration:  70\n",
      "Accuracy:  0.7856585365853659\n",
      "Iteration:  71\n",
      "Accuracy:  0.7871951219512195\n",
      "Iteration:  72\n",
      "Accuracy:  0.7888780487804878\n",
      "Iteration:  73\n",
      "Accuracy:  0.7905853658536586\n",
      "Iteration:  74\n",
      "Accuracy:  0.7920731707317074\n",
      "Iteration:  75\n",
      "Accuracy:  0.7934390243902439\n",
      "Iteration:  76\n",
      "Accuracy:  0.7944634146341464\n",
      "Iteration:  77\n",
      "Accuracy:  0.7958536585365854\n",
      "Iteration:  78\n",
      "Accuracy:  0.7972926829268293\n",
      "Iteration:  79\n",
      "Accuracy:  0.7980731707317074\n",
      "Iteration:  80\n",
      "Accuracy:  0.7993170731707318\n",
      "Iteration:  81\n",
      "Accuracy:  0.8002439024390244\n",
      "Iteration:  82\n",
      "Accuracy:  0.8013902439024391\n",
      "Iteration:  83\n",
      "Accuracy:  0.8025609756097561\n",
      "Iteration:  84\n",
      "Accuracy:  0.8036585365853659\n",
      "Iteration:  85\n",
      "Accuracy:  0.8046341463414635\n",
      "Iteration:  86\n",
      "Accuracy:  0.8057317073170732\n",
      "Iteration:  87\n",
      "Accuracy:  0.8069268292682927\n",
      "Iteration:  88\n",
      "Accuracy:  0.8081219512195122\n",
      "Iteration:  89\n",
      "Accuracy:  0.8090731707317074\n",
      "Iteration:  90\n",
      "Accuracy:  0.8100975609756098\n",
      "Iteration:  91\n",
      "Accuracy:  0.8112926829268293\n",
      "Iteration:  92\n",
      "Accuracy:  0.8124878048780488\n",
      "Iteration:  93\n",
      "Accuracy:  0.8132926829268292\n",
      "Iteration:  94\n",
      "Accuracy:  0.8142439024390243\n",
      "Iteration:  95\n",
      "Accuracy:  0.815390243902439\n",
      "Iteration:  96\n",
      "Accuracy:  0.8162682926829268\n",
      "Iteration:  97\n",
      "Accuracy:  0.8172195121951219\n",
      "Iteration:  98\n",
      "Accuracy:  0.8180487804878048\n",
      "Iteration:  99\n",
      "Accuracy:  0.8189756097560975\n",
      "--------------------\n"
     ]
    }
   ],
   "source": [
    "net = Net()\n",
    "\n",
    "net.add_layer(784, 10, 'sigmoid')\n",
    "net.add_layer(10, 10, 'softmax')\n",
    "net.fit_minibatch(X_train, Y_train, n_classes = 10, batchsize = 32, epochs = 100, learning_rate = 1)\n",
    "\n",
    "print('-'*20)\n"
   ]
  },
  {
   "cell_type": "code",
   "execution_count": 147,
   "metadata": {
    "scrolled": true
   },
   "outputs": [
    {
     "name": "stdout",
     "output_type": "stream",
     "text": [
      "(784, 41000) (41000,)\n",
      "(784, 41000) (41000,)\n",
      "(784, 41000) (41000,)\n",
      "(784, 41000) (41000,)\n",
      "(784, 41000) (41000,)\n",
      "(784, 41000) (41000,)\n",
      "(784, 41000) (41000,)\n",
      "(784, 41000) (41000,)\n",
      "(784, 41000) (41000,)\n",
      "(784, 41000) (41000,)\n"
     ]
    }
   ],
   "source": [
    "net = Net()\n",
    "\n",
    "net.add_layer(784, 10, 'sigmoid')\n",
    "net.add_layer(10, 10, 'softmax')\n",
    "net.fit(X_train, Y_train, 10, 1)"
   ]
  },
  {
   "cell_type": "code",
   "execution_count": 10,
   "metadata": {},
   "outputs": [
    {
     "data": {
      "text/plain": [
       "0.864"
      ]
     },
     "execution_count": 10,
     "metadata": {},
     "output_type": "execute_result"
    }
   ],
   "source": [
    "net.score(X_dev, Y_dev)"
   ]
  },
  {
   "cell_type": "code",
   "execution_count": 11,
   "metadata": {},
   "outputs": [],
   "source": [
    "def test_prediction(net, index):\n",
    "    current_image = X_train[:, index, None]\n",
    "    prediction = net.predict(X_train[:, index, None])\n",
    "    prediction = net.get_predictions(prediction)\n",
    "    label = Y_train[index]\n",
    "    print('Prediction: ', prediction)\n",
    "    print('Label: ', label)\n",
    "    \n",
    "    current_image = current_image.reshape((28,28)) * 255\n",
    "    plt.gray()\n",
    "    plt.imshow(current_image, interpolation = 'nearest')\n",
    "    plt.show()"
   ]
  },
  {
   "cell_type": "code",
   "execution_count": 12,
   "metadata": {
    "scrolled": true
   },
   "outputs": [
    {
     "name": "stdout",
     "output_type": "stream",
     "text": [
      "Prediction:  [0]\n",
      "Label:  0\n"
     ]
    },
    {
     "data": {
      "image/png": "[encoded data removed]",
      "text/plain": [
       "<Figure size 432x288 with 1 Axes>"
      ]
     },
     "metadata": {
      "needs_background": "light"
     },
     "output_type": "display_data"
    },
    {
     "name": "stdout",
     "output_type": "stream",
     "text": [
      "Prediction:  [6]\n",
      "Label:  6\n"
     ]
    },
    {
     "data": {
      "image/png": "[encoded data removed]",
      "text/plain": [
       "<Figure size 432x288 with 1 Axes>"
      ]
     },
     "metadata": {
      "needs_background": "light"
     },
     "output_type": "display_data"
    },
    {
     "name": "stdout",
     "output_type": "stream",
     "text": [
      "Prediction:  [1]\n",
      "Label:  1\n"
     ]
    },
    {
     "data": {
      "image/png": "[encoded data removed]",
      "text/plain": [
       "<Figure size 432x288 with 1 Axes>"
      ]
     },
     "metadata": {
      "needs_background": "light"
     },
     "output_type": "display_data"
    },
    {
     "name": "stdout",
     "output_type": "stream",
     "text": [
      "Prediction:  [8]\n",
      "Label:  8\n"
     ]
    },
    {
     "data": {
      "image/png": "[encoded data removed]",
      "text/plain": [
       "<Figure size 432x288 with 1 Axes>"
      ]
     },
     "metadata": {
      "needs_background": "light"
     },
     "output_type": "display_data"
    },
    {
     "name": "stdout",
     "output_type": "stream",
     "text": [
      "Prediction:  [6]\n",
      "Label:  6\n"
     ]
    },
    {
     "data": {
      "image/png": "[encoded data removed]",
      "text/plain": [
       "<Figure size 432x288 with 1 Axes>"
      ]
     },
     "metadata": {
      "needs_background": "light"
     },
     "output_type": "display_data"
    },
    {
     "name": "stdout",
     "output_type": "stream",
     "text": [
      "Prediction:  [8]\n",
      "Label:  8\n"
     ]
    },
    {
     "data": {
      "image/png": "[encoded data removed]",
      "text/plain": [
       "<Figure size 432x288 with 1 Axes>"
      ]
     },
     "metadata": {
      "needs_background": "light"
     },
     "output_type": "display_data"
    },
    {
     "name": "stdout",
     "output_type": "stream",
     "text": [
      "Prediction:  [4]\n",
      "Label:  4\n"
     ]
    },
    {
     "data": {
      "image/png": "[encoded data removed]",
      "text/plain": [
       "<Figure size 432x288 with 1 Axes>"
      ]
     },
     "metadata": {
      "needs_background": "light"
     },
     "output_type": "display_data"
    },
    {
     "name": "stdout",
     "output_type": "stream",
     "text": [
      "Prediction:  [1]\n",
      "Label:  1\n"
     ]
    },
    {
     "data": {
      "image/png": "[encoded data removed]",
      "text/plain": [
       "<Figure size 432x288 with 1 Axes>"
      ]
     },
     "metadata": {
      "needs_background": "light"
     },
     "output_type": "display_data"
    },
    {
     "name": "stdout",
     "output_type": "stream",
     "text": [
      "Prediction:  [8]\n",
      "Label:  8\n"
     ]
    },
    {
     "data": {
      "image/png": "[encoded data removed]",
      "text/plain": [
       "<Figure size 432x288 with 1 Axes>"
      ]
     },
     "metadata": {
      "needs_background": "light"
     },
     "output_type": "display_data"
    },
    {
     "name": "stdout",
     "output_type": "stream",
     "text": [
      "Prediction:  [9]\n",
      "Label:  9\n"
     ]
    },
    {
     "data": {
      "image/png": "[encoded data removed]",
      "text/plain": [
       "<Figure size 432x288 with 1 Axes>"
      ]
     },
     "metadata": {
      "needs_background": "light"
     },
     "output_type": "display_data"
    },
    {
     "name": "stdout",
     "output_type": "stream",
     "text": [
      "Prediction:  [0]\n",
      "Label:  0\n"
     ]
    },
    {
     "data": {
      "image/png": "[encoded data removed]",
      "text/plain": [
       "<Figure size 432x288 with 1 Axes>"
      ]
     },
     "metadata": {
      "needs_background": "light"
     },
     "output_type": "display_data"
    },
    {
     "name": "stdout",
     "output_type": "stream",
     "text": [
      "Prediction:  [3]\n",
      "Label:  3\n"
     ]
    },
    {
     "data": {
      "image/png": "[encoded data removed]",
      "text/plain": [
       "<Figure size 432x288 with 1 Axes>"
      ]
     },
     "metadata": {
      "needs_background": "light"
     },
     "output_type": "display_data"
    },
    {
     "name": "stdout",
     "output_type": "stream",
     "text": [
      "Prediction:  [5]\n",
      "Label:  5\n"
     ]
    },
    {
     "data": {
      "image/png": "[encoded data removed]",
      "text/plain": [
       "<Figure size 432x288 with 1 Axes>"
      ]
     },
     "metadata": {
      "needs_background": "light"
     },
     "output_type": "display_data"
    },
    {
     "name": "stdout",
     "output_type": "stream",
     "text": [
      "Prediction:  [8]\n",
      "Label:  8\n"
     ]
    },
    {
     "data": {
      "image/png": "[encoded data removed]",
      "text/plain": [
       "<Figure size 432x288 with 1 Axes>"
      ]
     },
     "metadata": {
      "needs_background": "light"
     },
     "output_type": "display_data"
    },
    {
     "name": "stdout",
     "output_type": "stream",
     "text": [
      "Prediction:  [7]\n",
      "Label:  7\n"
     ]
    },
    {
     "data": {
      "image/png": "[encoded data removed]",
      "text/plain": [
       "<Figure size 432x288 with 1 Axes>"
      ]
     },
     "metadata": {
      "needs_background": "light"
     },
     "output_type": "display_data"
    },
    {
     "name": "stdout",
     "output_type": "stream",
     "text": [
      "Prediction:  [5]\n",
      "Label:  3\n"
     ]
    },
    {
     "data": {
      "image/png": "[encoded data removed]",
      "text/plain": [
       "<Figure size 432x288 with 1 Axes>"
      ]
     },
     "metadata": {
      "needs_background": "light"
     },
     "output_type": "display_data"
    },
    {
     "name": "stdout",
     "output_type": "stream",
     "text": [
      "Prediction:  [4]\n",
      "Label:  4\n"
     ]
    },
    {
     "data": {
      "image/png": "[encoded data removed]",
      "text/plain": [
       "<Figure size 432x288 with 1 Axes>"
      ]
     },
     "metadata": {
      "needs_background": "light"
     },
     "output_type": "display_data"
    },
    {
     "name": "stdout",
     "output_type": "stream",
     "text": [
      "Prediction:  [0]\n",
      "Label:  0\n"
     ]
    },
    {
     "data": {
      "image/png": "[encoded data removed]",
      "text/plain": [
       "<Figure size 432x288 with 1 Axes>"
      ]
     },
     "metadata": {
      "needs_background": "light"
     },
     "output_type": "display_data"
    },
    {
     "name": "stdout",
     "output_type": "stream",
     "text": [
      "Prediction:  [0]\n",
      "Label:  0\n"
     ]
    },
    {
     "data": {
      "image/png": "[encoded data removed]",
      "text/plain": [
       "<Figure size 432x288 with 1 Axes>"
      ]
     },
     "metadata": {
      "needs_background": "light"
     },
     "output_type": "display_data"
    },
    {
     "name": "stdout",
     "output_type": "stream",
     "text": [
      "Prediction:  [5]\n",
      "Label:  5\n"
     ]
    },
    {
     "data": {
      "image/png": "[encoded data removed]",
      "text/plain": [
       "<Figure size 432x288 with 1 Axes>"
      ]
     },
     "metadata": {
      "needs_background": "light"
     },
     "output_type": "display_data"
    }
   ],
   "source": [
    "for i in range(20):\n",
    "    test_prediction(net, i)"
   ]
  }
 ],
 "metadata": {
  "kernelspec": {
   "display_name": "Python 3 (ipykernel)",
   "language": "python",
   "name": "python3"
  },
  "language_info": {
   "codemirror_mode": {
    "name": "ipython",
    "version": 3
   },
   "file_extension": ".py",
   "mimetype": "text/x-python",
   "name": "python",
   "nbconvert_exporter": "python",
   "pygments_lexer": "ipython3",
   "version": "3.8.5"
  }
 },
 "nbformat": 4,
 "nbformat_minor": 1
}
