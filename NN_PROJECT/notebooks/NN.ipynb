{
 "cells": [
  {
   "cell_type": "markdown",
   "metadata": {},
   "source": [
    "# Att bygga ett neuralt nätverk från scratch "
   ]
  },
  {
   "cell_type": "markdown",
   "metadata": {},
   "source": [
    "## Neruala nät - introduktion\n",
    "\n"
   ]
  },
  {
   "cell_type": "markdown",
   "metadata": {},
   "source": [
    "## Aktiveringsfunktion"
   ]
  },
  {
   "cell_type": "markdown",
   "metadata": {},
   "source": [
    "## Lossfunktion"
   ]
  },
  {
   "attachments": {},
   "cell_type": "markdown",
   "metadata": {},
   "source": [
    "Efter en forward pass så kommer den sista outputen i nätet vara en prediktion av någon form. Lossfunktionen används för att beräkna hur fel modelen var i sin prediktion, som sedan används för att uppdatera modelens parametrar. Det finns flera olika lossfunktioner som fungerar bättre för olika typer av modeler och problemtyper. Vanliga lossfunktioner för regression är bland annat Root Mean Squared Error (RMSE), Mean Squared Error (MSE) och Mean Absolute Error (MAE). Det finns många olika typer utav loss funktioner inom klassificering men den vanligaste är Cross Entropy och inom multiklass klassificering då Categorical Cross Entropy(CCE). "
   ]
  },
  {
   "cell_type": "markdown",
   "metadata": {},
   "source": [
    "### CCE:\n",
    "<br>\n",
    "<div>\n",
    "<img src=\"img.jpg\" width=\"300\" align = 'left'/>\n",
    "</div>"
   ]
  },
  {
   "cell_type": "markdown",
   "metadata": {},
   "source": [
    "yi = målvariabel för klass i, y-hati = predikterad sannolikhet för variabel i. Detta är en summa av loss för alla klasser från en prediktion. \n"
   ]
  },
  {
   "cell_type": "markdown",
   "metadata": {},
   "source": [
    "I vår implementation så använder vi en softmax i vårt sista lager och CCE som loss funktion, eftersom vi har ett klassificeringsproblem. Dessa två är väldigt smidiga att använda tillsammans då derivatan av CCE med avseende på input till softmax, som krävs i bakåtpropagerings steget, blir väldigt simpel att beräkna. Detta är pågrund av vissa matematiska egenskaper som finns hos dessa som vi inte kommer gå in på. "
   ]
  },
  {
   "cell_type": "markdown",
   "metadata": {},
   "source": [
    "<div>\n",
    "<img src=\"img6.jpg\" width=\"300\" align = 'left'/>\n",
    "</div>"
   ]
  },
  {
   "cell_type": "markdown",
   "metadata": {},
   "source": [
    "L = CCE(p) s = softmax z = input pi = predikterad sannolikhet för klass i ti = målvärde på sannolikheten för klass i"
   ]
  },
  {
   "cell_type": "markdown",
   "metadata": {},
   "source": [
    "## Initialisering av nätverket"
   ]
  },
  {
   "cell_type": "markdown",
   "metadata": {},
   "source": [
    " Det finns många sätta sätt att initialisera parametervärden för ett neuralt nät. Två saker som är viktigt att ta hänsyn till när man initialiserar sina vikter är; \n",
    " \n",
    "- Lämplig storlek på sina parametrar, inte för stora och inte för nära 0. Parametrar som är nära 0 kombinerat med tex en sigmoid kan leda till försvinnande gradienter, då gradienten i höga värden på sigmoid är väldigt låg. För höga värden kan istället orsaka exploderande gradienter. Värden mellan [-1,1] är ett vanligt utfallsrum. I våran implementation kommer vi att plocka värden från en uniform distribution mellan [-0.5, 0.5 ].\n",
    "\n",
    "- Bra varians i sina parametrar. Parametrar plockas oftast ur antingen en uniform distribution eller en vanlig gaussdistribution.\n",
    "\n",
    "Det finns två vanliga initialiserings metoder för att beräkna distributionen varifrån parametrarna ska dras; He initialization och Zavier initialization. Dessa metoder tar hänsyn till strukturen på de lager parametrarna ska användas till när de beräknar distributionen. Detta visar sig ge bra resultat och går att anpassa beroende på vilken aktiveringsfunktion som används."
   ]
  },
  {
   "cell_type": "markdown",
   "metadata": {},
   "source": [
    "## Forward propagation"
   ]
  },
  {
   "cell_type": "markdown",
   "metadata": {},
   "source": [
    "## Back propagation "
   ]
  },
  {
   "cell_type": "code",
   "execution_count": 111,
   "metadata": {},
   "outputs": [],
   "source": [
    "import numpy as np\n",
    "import pandas as pd\n",
    "from matplotlib import pyplot as plt\n",
    "import math\n",
    "plt.style.use('ggplot')"
   ]
  },
  {
   "cell_type": "code",
   "execution_count": 112,
   "metadata": {},
   "outputs": [],
   "source": [
    "def train_test_valid_split(data, train_size, valid_size, test_size, random_state = 0):\n",
    "    np.random.seed(random_state)\n",
    "\n",
    "    data = np.array(data)\n",
    "    np.random.shuffle(data)\n",
    "    n = data.shape[1]\n",
    "    \n",
    "    split_one = int(len(data)*train_size)\n",
    "    split_two = split_one + int(len(data)*valid_size)\n",
    "\n",
    "    train_data = data[:split_one].T\n",
    "    y_train = train_data[0]\n",
    "    X_train = train_data[1:n] / 255.\n",
    "    \n",
    "    valid_data = data[split_one:split_two].T\n",
    "    y_valid = valid_data[0]\n",
    "    X_valid = valid_data[1:n] / 255.\n",
    "    \n",
    "    test_data = data[split_two:].T\n",
    "    y_test = test_data[0]\n",
    "    X_test = test_data[1:n] / 255.\n",
    "        \n",
    "    return X_train, y_train, X_test, y_test, X_valid, y_valid"
   ]
  },
  {
   "cell_type": "code",
   "execution_count": 299,
   "metadata": {},
   "outputs": [],
   "source": [
    "class Net:\n",
    "    def __init__(self, random_state):\n",
    "        self.layers = []\n",
    "        self.acc_history = None\n",
    "        self.random_state = random_state\n",
    "        \n",
    "    def add_layer(self, n_inputs, n_outputs, activation):\n",
    "        if activation == 'ReLU':\n",
    "            activation = self.ReLU\n",
    "        elif activation == 'sigmoid':\n",
    "            activation = self.sigmoid\n",
    "        elif activation == 'softmax':\n",
    "            activation = self.softmax\n",
    "        else:\n",
    "            raise Exception(f\"{activation} is not a valid activation function\")\n",
    "                            \n",
    "        if len(self.layers) > 0:\n",
    "            if n_inputs == self.layers[-1].n_outputs:\n",
    "                layer = Layer_Dense(n_inputs, n_outputs, activation, self.random_state)\n",
    "            else:\n",
    "                raise Exception('Invalid layer dims')\n",
    "        else:\n",
    "            layer = Layer_Dense(n_inputs, n_outputs, activation)\n",
    "            \n",
    "        self.layers.append(layer)\n",
    "                  \n",
    "    def ReLU(self, Z, derive = False):\n",
    "        if not derive:\n",
    "            return np.maximum(Z, 0)\n",
    "        else:\n",
    "            return Z > 0\n",
    "        \n",
    "    def sigmoid(self, Z, derive = False):\n",
    "        if not derive:\n",
    "            return 1/(1 + np.exp(-Z))\n",
    "        else:\n",
    "            y = 1/(1 + np.exp(-Z))\n",
    "            yp = y * (1.0 - y)\n",
    "            return yp\n",
    "    \n",
    "    def softmax(self, Z):\n",
    "        A = np.exp(Z) / sum(np.exp(Z))\n",
    "        return A\n",
    "    \n",
    "    def one_hot(self, Y, n_classes):\n",
    "        one_hot_Y = np.zeros((Y.size, n_classes))\n",
    "        one_hot_Y[np.arange(Y.size), Y] = 1\n",
    "        one_hot_Y = one_hot_Y.T\n",
    "        return one_hot_Y\n",
    "    \n",
    "    def update_params(self, layer, dW, db, learning_rate):\n",
    "        layer.W -= learning_rate * dW\n",
    "        layer.b -= learning_rate * db\n",
    "        \n",
    "    def forward(self, inputs):\n",
    "        for i, layer in enumerate(self.layers):    \n",
    "            layer.inputs = inputs\n",
    "            Z = layer.W.dot(inputs) + layer.b\n",
    "            A = layer.activation(Z)\n",
    "            layer.Z = Z\n",
    "            layer.A = A\n",
    "            inputs = A\n",
    "        return A\n",
    "    \n",
    "    def backward(self, outputs, Y, learning_rate, n_classes):\n",
    "        one_hot_y = self.one_hot(Y, n_classes)  \n",
    "        m = outputs.shape[1]\n",
    "        \n",
    "        for i in reversed(range(len(self.layers))):\n",
    "            layer = self.layers[i]\n",
    "            if i == len(self.layers)-1:\n",
    "                dZ = outputs - one_hot_y\n",
    "            else:\n",
    "                dZ = self.layers[i+1].W.T.dot(dZ) * layer.activation(layer.Z, derive = True)\n",
    "            \n",
    "            dW = 1/m * dZ.dot(layer.inputs.T)\n",
    "            db = 1/m * np.sum(dZ, axis = 1, keepdims = True)\n",
    "            \n",
    "            self.update_params(layer, dW, db, learning_rate)\n",
    "    \n",
    "    def get_predictions(self, prediction):\n",
    "        return np.argmax(prediction, 0)\n",
    "    \n",
    "    def score(self, X, Y):\n",
    "        predictions = self.get_predictions(self.predict(X))\n",
    "        return np.sum(predictions == Y) / Y.size\n",
    "                \n",
    "    def fit(self, X, Y, X_valid, y_valid, n_classes, epochs, batchsize = None,  learning_rate = 1):\n",
    "        \n",
    "        if not batchsize:\n",
    "            batchsize = X.shape[1]\n",
    "            \n",
    "        n_iterations = abs(math.floor(-X.shape[1]/batchsize)) * epochs\n",
    "        accuracy = np.zeros(n_iterations)        \n",
    "        \n",
    "        iteration = 0\n",
    "        for epoch in range(epochs):\n",
    "            for start_idx in range(0, X.T.shape[0], batchsize):\n",
    "                end_idx = min(start_idx + batchsize, X.T.shape[0])\n",
    "                excerpt = slice(start_idx, end_idx)\n",
    "\n",
    "                inputs = X.T[excerpt].T\n",
    "                targets = Y.T[excerpt].T\n",
    "            \n",
    "                predictions = self.forward(inputs)\n",
    "                self.backward(predictions, targets, learning_rate, n_classes)\n",
    "                a = self.score(X_valid, y_valid)\n",
    "                accuracy[iteration] = a\n",
    "                \n",
    "                if iteration % 25 in [0,25]:\n",
    "                    print(f'Epoch {epoch+1} Iteration {iteration}/{n_iterations}')\n",
    "                    print(f'Accuracy: {round(a, 3)}\\n-')\n",
    "                    \n",
    "                iteration += 1\n",
    "                \n",
    "        self.acc_history = accuracy\n",
    "            \n",
    "    def predict(self, X): \n",
    "        return self.forward(X)\n",
    "\n",
    "        \n",
    "class Layer_Dense:\n",
    "    def __init__(self, n_inputs, n_outputs, activation, random_state = 0):\n",
    "        np.random.seed(random_state)\n",
    "        self.n_inputs = n_inputs\n",
    "        self.n_outputs = n_outputs\n",
    "        \n",
    "        # Parameter initialization. Values are taken from a uniform distribution between 0,1. \n",
    "        # Subtract 0.5 to get values between -0.5, 0.5\n",
    "        \n",
    "        self.W = np.random.rand(n_outputs, n_inputs) - 0.5\n",
    "        self.b = np.random.rand(n_outputs, 1) - 0.5\n",
    "        \n",
    "        self.activation = activation\n",
    "        \n",
    "        self.inputs = None\n",
    "        self.Z = None\n",
    "        self.A = None\n"
   ]
  },
  {
   "cell_type": "code",
   "execution_count": 300,
   "metadata": {
    "scrolled": true
   },
   "outputs": [
    {
     "name": "stdout",
     "output_type": "stream",
     "text": [
      "Training data - 33600 samples (80.0%)\n",
      " -\n",
      "Validation data - 4200 samples (10.0%)\n",
      " -\n",
      "Training data - 4200 samples (10.0%)\n"
     ]
    }
   ],
   "source": [
    "data = pd.read_csv('../data.csv')\n",
    "\n",
    "train_size = 0.8\n",
    "valid_size = 0.1\n",
    "test_size = 0.1\n",
    "\n",
    "X_train, y_train, X_test, y_test, X_valid, y_valid = train_test_valid_split(data, \n",
    "                                                                            train_size = train_size, \n",
    "                                                                            valid_size = valid_size, \n",
    "                                                                            test_size = test_size, \n",
    "                                                                            random_state = 0)\n",
    "\n",
    "print(f'Training data - {X_train.shape[1]} samples ({train_size*100}%)\\n -')\n",
    "print(f'Validation data - {X_valid.shape[1]} samples ({valid_size*100}%)\\n -')\n",
    "print(f'Training data - {X_test.shape[1]} samples ({test_size*100}%)')"
   ]
  },
  {
   "cell_type": "code",
   "execution_count": 302,
   "metadata": {
    "scrolled": true
   },
   "outputs": [
    {
     "name": "stdout",
     "output_type": "stream",
     "text": [
      "Epoch 1 Iteration 0/3150\n",
      "Accuracy: 0.121\n",
      "-\n",
      "Epoch 1 Iteration 25/3150\n",
      "Accuracy: 0.122\n",
      "-\n",
      "Epoch 1 Iteration 50/3150\n",
      "Accuracy: 0.363\n",
      "-\n",
      "Epoch 1 Iteration 75/3150\n",
      "Accuracy: 0.588\n",
      "-\n",
      "Epoch 1 Iteration 100/3150\n",
      "Accuracy: 0.596\n",
      "-\n",
      "Epoch 1 Iteration 125/3150\n",
      "Accuracy: 0.711\n",
      "-\n",
      "Epoch 1 Iteration 150/3150\n",
      "Accuracy: 0.763\n",
      "-\n",
      "Epoch 1 Iteration 175/3150\n",
      "Accuracy: 0.778\n",
      "-\n",
      "Epoch 1 Iteration 200/3150\n",
      "Accuracy: 0.813\n",
      "-\n",
      "Epoch 1 Iteration 225/3150\n",
      "Accuracy: 0.801\n",
      "-\n",
      "Epoch 1 Iteration 250/3150\n",
      "Accuracy: 0.832\n",
      "-\n",
      "Epoch 1 Iteration 275/3150\n",
      "Accuracy: 0.829\n",
      "-\n",
      "Epoch 1 Iteration 300/3150\n",
      "Accuracy: 0.843\n",
      "-\n",
      "Epoch 1 Iteration 325/3150\n",
      "Accuracy: 0.846\n",
      "-\n",
      "Epoch 1 Iteration 350/3150\n",
      "Accuracy: 0.863\n",
      "-\n",
      "Epoch 1 Iteration 375/3150\n",
      "Accuracy: 0.862\n",
      "-\n",
      "Epoch 1 Iteration 400/3150\n",
      "Accuracy: 0.82\n",
      "-\n",
      "Epoch 1 Iteration 425/3150\n",
      "Accuracy: 0.879\n",
      "-\n",
      "Epoch 1 Iteration 450/3150\n",
      "Accuracy: 0.872\n",
      "-\n",
      "Epoch 1 Iteration 475/3150\n",
      "Accuracy: 0.882\n",
      "-\n",
      "Epoch 1 Iteration 500/3150\n",
      "Accuracy: 0.876\n",
      "-\n",
      "Epoch 1 Iteration 525/3150\n",
      "Accuracy: 0.88\n",
      "-\n",
      "Epoch 1 Iteration 550/3150\n",
      "Accuracy: 0.879\n",
      "-\n",
      "Epoch 1 Iteration 575/3150\n",
      "Accuracy: 0.892\n",
      "-\n",
      "Epoch 1 Iteration 600/3150\n",
      "Accuracy: 0.886\n",
      "-\n",
      "Epoch 1 Iteration 625/3150\n",
      "Accuracy: 0.894\n",
      "-\n",
      "Epoch 1 Iteration 650/3150\n",
      "Accuracy: 0.894\n",
      "-\n",
      "Epoch 1 Iteration 675/3150\n",
      "Accuracy: 0.895\n",
      "-\n",
      "Epoch 1 Iteration 700/3150\n",
      "Accuracy: 0.894\n",
      "-\n",
      "Epoch 1 Iteration 725/3150\n",
      "Accuracy: 0.877\n",
      "-\n",
      "Epoch 1 Iteration 750/3150\n",
      "Accuracy: 0.903\n",
      "-\n",
      "Epoch 1 Iteration 775/3150\n",
      "Accuracy: 0.906\n",
      "-\n",
      "Epoch 1 Iteration 800/3150\n",
      "Accuracy: 0.912\n",
      "-\n",
      "Epoch 1 Iteration 825/3150\n",
      "Accuracy: 0.9\n",
      "-\n",
      "Epoch 1 Iteration 850/3150\n",
      "Accuracy: 0.902\n",
      "-\n",
      "Epoch 1 Iteration 875/3150\n",
      "Accuracy: 0.895\n",
      "-\n",
      "Epoch 1 Iteration 900/3150\n",
      "Accuracy: 0.902\n",
      "-\n",
      "Epoch 1 Iteration 925/3150\n",
      "Accuracy: 0.905\n",
      "-\n",
      "Epoch 1 Iteration 950/3150\n",
      "Accuracy: 0.901\n",
      "-\n",
      "Epoch 1 Iteration 975/3150\n",
      "Accuracy: 0.913\n",
      "-\n",
      "Epoch 1 Iteration 1000/3150\n",
      "Accuracy: 0.909\n",
      "-\n",
      "Epoch 1 Iteration 1025/3150\n",
      "Accuracy: 0.911\n",
      "-\n",
      "Epoch 2 Iteration 1050/3150\n",
      "Accuracy: 0.911\n",
      "-\n",
      "Epoch 2 Iteration 1075/3150\n",
      "Accuracy: 0.909\n",
      "-\n",
      "Epoch 2 Iteration 1100/3150\n",
      "Accuracy: 0.914\n",
      "-\n",
      "Epoch 2 Iteration 1125/3150\n",
      "Accuracy: 0.913\n",
      "-\n",
      "Epoch 2 Iteration 1150/3150\n",
      "Accuracy: 0.917\n",
      "-\n",
      "Epoch 2 Iteration 1175/3150\n",
      "Accuracy: 0.909\n",
      "-\n",
      "Epoch 2 Iteration 1200/3150\n",
      "Accuracy: 0.921\n",
      "-\n",
      "Epoch 2 Iteration 1225/3150\n",
      "Accuracy: 0.918\n",
      "-\n",
      "Epoch 2 Iteration 1250/3150\n",
      "Accuracy: 0.92\n",
      "-\n",
      "Epoch 2 Iteration 1275/3150\n",
      "Accuracy: 0.915\n",
      "-\n",
      "Epoch 2 Iteration 1300/3150\n",
      "Accuracy: 0.92\n",
      "-\n",
      "Epoch 2 Iteration 1325/3150\n",
      "Accuracy: 0.918\n",
      "-\n",
      "Epoch 2 Iteration 1350/3150\n",
      "Accuracy: 0.914\n",
      "-\n",
      "Epoch 2 Iteration 1375/3150\n",
      "Accuracy: 0.917\n",
      "-\n",
      "Epoch 2 Iteration 1400/3150\n",
      "Accuracy: 0.928\n",
      "-\n",
      "Epoch 2 Iteration 1425/3150\n",
      "Accuracy: 0.918\n",
      "-\n",
      "Epoch 2 Iteration 1450/3150\n",
      "Accuracy: 0.908\n",
      "-\n",
      "Epoch 2 Iteration 1475/3150\n",
      "Accuracy: 0.92\n",
      "-\n",
      "Epoch 2 Iteration 1500/3150\n",
      "Accuracy: 0.924\n",
      "-\n",
      "Epoch 2 Iteration 1525/3150\n",
      "Accuracy: 0.922\n",
      "-\n",
      "Epoch 2 Iteration 1550/3150\n",
      "Accuracy: 0.924\n",
      "-\n",
      "Epoch 2 Iteration 1575/3150\n",
      "Accuracy: 0.924\n",
      "-\n",
      "Epoch 2 Iteration 1600/3150\n",
      "Accuracy: 0.927\n",
      "-\n",
      "Epoch 2 Iteration 1625/3150\n",
      "Accuracy: 0.931\n",
      "-\n",
      "Epoch 2 Iteration 1650/3150\n",
      "Accuracy: 0.933\n",
      "-\n",
      "Epoch 2 Iteration 1675/3150\n",
      "Accuracy: 0.926\n",
      "-\n",
      "Epoch 2 Iteration 1700/3150\n",
      "Accuracy: 0.926\n",
      "-\n",
      "Epoch 2 Iteration 1725/3150\n",
      "Accuracy: 0.928\n",
      "-\n",
      "Epoch 2 Iteration 1750/3150\n",
      "Accuracy: 0.923\n",
      "-\n",
      "Epoch 2 Iteration 1775/3150\n",
      "Accuracy: 0.926\n",
      "-\n",
      "Epoch 2 Iteration 1800/3150\n",
      "Accuracy: 0.927\n",
      "-\n",
      "Epoch 2 Iteration 1825/3150\n",
      "Accuracy: 0.929\n",
      "-\n",
      "Epoch 2 Iteration 1850/3150\n",
      "Accuracy: 0.933\n",
      "-\n",
      "Epoch 2 Iteration 1875/3150\n",
      "Accuracy: 0.924\n",
      "-\n",
      "Epoch 2 Iteration 1900/3150\n",
      "Accuracy: 0.922\n",
      "-\n",
      "Epoch 2 Iteration 1925/3150\n",
      "Accuracy: 0.926\n",
      "-\n",
      "Epoch 2 Iteration 1950/3150\n",
      "Accuracy: 0.918\n",
      "-\n",
      "Epoch 2 Iteration 1975/3150\n",
      "Accuracy: 0.935\n",
      "-\n",
      "Epoch 2 Iteration 2000/3150\n",
      "Accuracy: 0.91\n",
      "-\n",
      "Epoch 2 Iteration 2025/3150\n",
      "Accuracy: 0.933\n",
      "-\n",
      "Epoch 2 Iteration 2050/3150\n",
      "Accuracy: 0.928\n",
      "-\n",
      "Epoch 2 Iteration 2075/3150\n",
      "Accuracy: 0.93\n",
      "-\n",
      "Epoch 3 Iteration 2100/3150\n",
      "Accuracy: 0.93\n",
      "-\n",
      "Epoch 3 Iteration 2125/3150\n",
      "Accuracy: 0.93\n",
      "-\n",
      "Epoch 3 Iteration 2150/3150\n",
      "Accuracy: 0.928\n",
      "-\n",
      "Epoch 3 Iteration 2175/3150\n",
      "Accuracy: 0.93\n",
      "-\n",
      "Epoch 3 Iteration 2200/3150\n",
      "Accuracy: 0.936\n",
      "-\n",
      "Epoch 3 Iteration 2225/3150\n",
      "Accuracy: 0.931\n",
      "-\n",
      "Epoch 3 Iteration 2250/3150\n",
      "Accuracy: 0.929\n",
      "-\n",
      "Epoch 3 Iteration 2275/3150\n",
      "Accuracy: 0.93\n",
      "-\n",
      "Epoch 3 Iteration 2300/3150\n",
      "Accuracy: 0.932\n",
      "-\n",
      "Epoch 3 Iteration 2325/3150\n",
      "Accuracy: 0.928\n",
      "-\n",
      "Epoch 3 Iteration 2350/3150\n",
      "Accuracy: 0.935\n",
      "-\n",
      "Epoch 3 Iteration 2375/3150\n",
      "Accuracy: 0.934\n",
      "-\n",
      "Epoch 3 Iteration 2400/3150\n",
      "Accuracy: 0.932\n",
      "-\n",
      "Epoch 3 Iteration 2425/3150\n",
      "Accuracy: 0.934\n",
      "-\n",
      "Epoch 3 Iteration 2450/3150\n",
      "Accuracy: 0.936\n",
      "-\n",
      "Epoch 3 Iteration 2475/3150\n",
      "Accuracy: 0.936\n",
      "-\n",
      "Epoch 3 Iteration 2500/3150\n",
      "Accuracy: 0.925\n",
      "-\n",
      "Epoch 3 Iteration 2525/3150\n",
      "Accuracy: 0.936\n",
      "-\n",
      "Epoch 3 Iteration 2550/3150\n",
      "Accuracy: 0.93\n",
      "-\n",
      "Epoch 3 Iteration 2575/3150\n",
      "Accuracy: 0.927\n",
      "-\n",
      "Epoch 3 Iteration 2600/3150\n",
      "Accuracy: 0.937\n",
      "-\n",
      "Epoch 3 Iteration 2625/3150\n",
      "Accuracy: 0.937\n",
      "-\n",
      "Epoch 3 Iteration 2650/3150\n",
      "Accuracy: 0.936\n",
      "-\n",
      "Epoch 3 Iteration 2675/3150\n",
      "Accuracy: 0.937\n",
      "-\n",
      "Epoch 3 Iteration 2700/3150\n",
      "Accuracy: 0.943\n",
      "-\n",
      "Epoch 3 Iteration 2725/3150\n",
      "Accuracy: 0.938\n",
      "-\n",
      "Epoch 3 Iteration 2750/3150\n",
      "Accuracy: 0.938\n",
      "-\n",
      "Epoch 3 Iteration 2775/3150\n",
      "Accuracy: 0.933\n",
      "-\n",
      "Epoch 3 Iteration 2800/3150\n",
      "Accuracy: 0.932\n",
      "-\n",
      "Epoch 3 Iteration 2825/3150\n",
      "Accuracy: 0.939\n",
      "-\n",
      "Epoch 3 Iteration 2850/3150\n",
      "Accuracy: 0.942\n",
      "-\n",
      "Epoch 3 Iteration 2875/3150\n",
      "Accuracy: 0.934\n",
      "-\n",
      "Epoch 3 Iteration 2900/3150\n",
      "Accuracy: 0.938\n",
      "-\n",
      "Epoch 3 Iteration 2925/3150\n",
      "Accuracy: 0.939\n",
      "-\n",
      "Epoch 3 Iteration 2950/3150\n",
      "Accuracy: 0.935\n",
      "-\n",
      "Epoch 3 Iteration 2975/3150\n",
      "Accuracy: 0.931\n",
      "-\n",
      "Epoch 3 Iteration 3000/3150\n",
      "Accuracy: 0.928\n",
      "-\n",
      "Epoch 3 Iteration 3025/3150\n",
      "Accuracy: 0.943\n",
      "-\n",
      "Epoch 3 Iteration 3050/3150\n",
      "Accuracy: 0.92\n",
      "-\n",
      "Epoch 3 Iteration 3075/3150\n",
      "Accuracy: 0.941\n",
      "-\n",
      "Epoch 3 Iteration 3100/3150\n",
      "Accuracy: 0.937\n",
      "-\n",
      "Epoch 3 Iteration 3125/3150\n",
      "Accuracy: 0.935\n",
      "-\n"
     ]
    }
   ],
   "source": [
    "net = Net(random_state = 0)\n",
    "\n",
    "n_classes = 10\n",
    "\n",
    "net.add_layer(784, 32, 'sigmoid')\n",
    "net.add_layer(32, 10, 'sigmoid')\n",
    "net.add_layer(10, n_classes, 'softmax')\n",
    "\n",
    "learning_rate = 1\n",
    "epochs = 3\n",
    "batchsize = 32\n",
    "\n",
    "net.fit(X_train, y_train, X_valid, y_valid, \n",
    "        n_classes = n_classes, \n",
    "        batchsize = batchsize, \n",
    "        epochs = epochs, \n",
    "        learning_rate = learning_rate)\n"
   ]
  },
  {
   "cell_type": "code",
   "execution_count": 303,
   "metadata": {},
   "outputs": [
    {
     "data": {
      "image/png": "[encoded data removed]",
      "text/plain": [
       "<Figure size 720x504 with 1 Axes>"
      ]
     },
     "metadata": {},
     "output_type": "display_data"
    }
   ],
   "source": [
    "plt.figure(figsize = (10,7))\n",
    "plt.scatter([i for i in range(len(net.acc_history))], list(net.acc_history), s = 10)\n",
    "plt.title('Accuracy per iteration')\n",
    "plt.xlabel('Iteration')\n",
    "plt.ylabel('Accuracy')\n",
    "plt.show()"
   ]
  },
  {
   "cell_type": "code",
   "execution_count": 304,
   "metadata": {},
   "outputs": [
    {
     "name": "stdout",
     "output_type": "stream",
     "text": [
      "Test set accuracy: 93.5%\n"
     ]
    }
   ],
   "source": [
    "print(f'Test set accuracy: {round(net.score(X_test, y_test), 3)*100}%')"
   ]
  },
  {
   "cell_type": "code",
   "execution_count": 305,
   "metadata": {},
   "outputs": [],
   "source": [
    "def get_all_predictions(net, X_test, y_test):\n",
    "    all_predictions = []\n",
    "    for i in range(len(X_test)):\n",
    "        x = X_test[:, i, None]\n",
    "        prediction = net.predict(x)\n",
    "        prediction = np.argmax(prediction, 0)[0]\n",
    "        label = y_test[i]\n",
    "\n",
    "        all_predictions.append((prediction,label, x))\n",
    "    return all_predictions"
   ]
  },
  {
   "cell_type": "code",
   "execution_count": 198,
   "metadata": {},
   "outputs": [],
   "source": [
    "predictions = get_all_predictions(net, X_test, y_test)\n",
    "wrong_predictions = [(predicted, label, x) for predicted, label, x in predictions if predicted != label]\n",
    "right_predictions = [(predicted, label, x) for predicted, label, x in predictions if predicted == label]"
   ]
  },
  {
   "cell_type": "code",
   "execution_count": 199,
   "metadata": {
    "scrolled": false
   },
   "outputs": [
    {
     "name": "stdout",
     "output_type": "stream",
     "text": [
      "Prediction:  8\n",
      "Label:  1\n"
     ]
    },
    {
     "data": {
      "image/png": "[encoded data removed]",
      "text/plain": [
       "<Figure size 432x288 with 1 Axes>"
      ]
     },
     "metadata": {},
     "output_type": "display_data"
    },
    {
     "name": "stdout",
     "output_type": "stream",
     "text": [
      "Prediction:  5\n",
      "Label:  9\n"
     ]
    },
    {
     "data": {
      "image/png": "[encoded data removed]",
      "text/plain": [
       "<Figure size 432x288 with 1 Axes>"
      ]
     },
     "metadata": {},
     "output_type": "display_data"
    },
    {
     "name": "stdout",
     "output_type": "stream",
     "text": [
      "Prediction:  1\n",
      "Label:  7\n"
     ]
    },
    {
     "data": {
      "image/png": "[encoded data removed]",
      "text/plain": [
       "<Figure size 432x288 with 1 Axes>"
      ]
     },
     "metadata": {},
     "output_type": "display_data"
    },
    {
     "name": "stdout",
     "output_type": "stream",
     "text": [
      "Prediction:  3\n",
      "Label:  5\n"
     ]
    },
    {
     "data": {
      "image/png": "[encoded data removed]",
      "text/plain": [
       "<Figure size 432x288 with 1 Axes>"
      ]
     },
     "metadata": {},
     "output_type": "display_data"
    },
    {
     "name": "stdout",
     "output_type": "stream",
     "text": [
      "Prediction:  7\n",
      "Label:  3\n"
     ]
    },
    {
     "data": {
      "image/png": "[encoded data removed]",
      "text/plain": [
       "<Figure size 432x288 with 1 Axes>"
      ]
     },
     "metadata": {},
     "output_type": "display_data"
    },
    {
     "name": "stdout",
     "output_type": "stream",
     "text": [
      "Prediction:  4\n",
      "Label:  9\n"
     ]
    },
    {
     "data": {
      "image/png": "[encoded data removed]",
      "text/plain": [
       "<Figure size 432x288 with 1 Axes>"
      ]
     },
     "metadata": {},
     "output_type": "display_data"
    },
    {
     "name": "stdout",
     "output_type": "stream",
     "text": [
      "Prediction:  8\n",
      "Label:  9\n"
     ]
    },
    {
     "data": {
      "image/png": "[encoded data removed]",
      "text/plain": [
       "<Figure size 432x288 with 1 Axes>"
      ]
     },
     "metadata": {},
     "output_type": "display_data"
    },
    {
     "name": "stdout",
     "output_type": "stream",
     "text": [
      "Prediction:  6\n",
      "Label:  2\n"
     ]
    },
    {
     "data": {
      "image/png": "[encoded data removed]",
      "text/plain": [
       "<Figure size 432x288 with 1 Axes>"
      ]
     },
     "metadata": {},
     "output_type": "display_data"
    },
    {
     "name": "stdout",
     "output_type": "stream",
     "text": [
      "Prediction:  8\n",
      "Label:  2\n"
     ]
    },
    {
     "data": {
      "image/png": "[encoded data removed]",
      "text/plain": [
       "<Figure size 432x288 with 1 Axes>"
      ]
     },
     "metadata": {},
     "output_type": "display_data"
    },
    {
     "name": "stdout",
     "output_type": "stream",
     "text": [
      "Prediction:  1\n",
      "Label:  7\n"
     ]
    },
    {
     "data": {
      "image/png": "[encoded data removed]",
      "text/plain": [
       "<Figure size 432x288 with 1 Axes>"
      ]
     },
     "metadata": {},
     "output_type": "display_data"
    }
   ],
   "source": [
    "for prediction, label, x in wrong_predictions[:10]:\n",
    "    print('Prediction: ', prediction)\n",
    "    print('Label: ', label)\n",
    "    plt.imshow(x.reshape((28,28)) * 255)\n",
    "    plt.show()"
   ]
  }
 ],
 "metadata": {
  "kernelspec": {
   "display_name": "Python 3 (ipykernel)",
   "language": "python",
   "name": "python3"
  },
  "language_info": {
   "codemirror_mode": {
    "name": "ipython",
    "version": 3
   },
   "file_extension": ".py",
   "mimetype": "text/x-python",
   "name": "python",
   "nbconvert_exporter": "python",
   "pygments_lexer": "ipython3",
   "version": "3.8.5"
  }
 },
 "nbformat": 4,
 "nbformat_minor": 1
}
